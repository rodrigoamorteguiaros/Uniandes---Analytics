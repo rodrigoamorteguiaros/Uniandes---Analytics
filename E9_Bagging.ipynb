{
  "nbformat": 4,
  "nbformat_minor": 0,
  "metadata": {
    "colab": {
      "name": "E9-Bagging.ipynb",
      "version": "0.3.2",
      "provenance": [],
      "collapsed_sections": []
    },
    "kernelspec": {
      "display_name": "Python 3",
      "language": "python",
      "name": "python3"
    }
  },
  "cells": [
    {
      "metadata": {
        "id": "AqY4lEei8Pav",
        "colab_type": "text"
      },
      "cell_type": "markdown",
      "source": [
        "# Exercise 9\n",
        "\n",
        "## Mashable news stories analysis\n",
        "\n",
        "Predicting if a news story is going to be popular\n"
      ]
    },
    {
      "metadata": {
        "id": "pMBWCveg8Pax",
        "colab_type": "code",
        "outputId": "e9f63791-074d-4e8e-af0d-cbba38c4a4d4",
        "colab": {
          "base_uri": "https://localhost:8080/",
          "height": 338
        }
      },
      "cell_type": "code",
      "source": [
        "import pandas as pd\n",
        "import numpy as np\n",
        "from sklearn import metrics\n",
        "\n",
        "url = 'https://raw.githubusercontent.com/albahnsen/PracticalMachineLearningClass/master/datasets/mashable.csv'\n",
        "train_df = pd.read_csv(url, index_col=0)\n",
        "train_df.head()"
      ],
      "execution_count": 1,
      "outputs": [
        {
          "output_type": "execute_result",
          "data": {
            "text/html": [
              "<div>\n",
              "<style scoped>\n",
              "    .dataframe tbody tr th:only-of-type {\n",
              "        vertical-align: middle;\n",
              "    }\n",
              "\n",
              "    .dataframe tbody tr th {\n",
              "        vertical-align: top;\n",
              "    }\n",
              "\n",
              "    .dataframe thead th {\n",
              "        text-align: right;\n",
              "    }\n",
              "</style>\n",
              "<table border=\"1\" class=\"dataframe\">\n",
              "  <thead>\n",
              "    <tr style=\"text-align: right;\">\n",
              "      <th></th>\n",
              "      <th>url</th>\n",
              "      <th>timedelta</th>\n",
              "      <th>n_tokens_title</th>\n",
              "      <th>n_tokens_content</th>\n",
              "      <th>n_unique_tokens</th>\n",
              "      <th>n_non_stop_words</th>\n",
              "      <th>n_non_stop_unique_tokens</th>\n",
              "      <th>num_hrefs</th>\n",
              "      <th>num_self_hrefs</th>\n",
              "      <th>num_imgs</th>\n",
              "      <th>...</th>\n",
              "      <th>min_positive_polarity</th>\n",
              "      <th>max_positive_polarity</th>\n",
              "      <th>avg_negative_polarity</th>\n",
              "      <th>min_negative_polarity</th>\n",
              "      <th>max_negative_polarity</th>\n",
              "      <th>title_subjectivity</th>\n",
              "      <th>title_sentiment_polarity</th>\n",
              "      <th>abs_title_subjectivity</th>\n",
              "      <th>abs_title_sentiment_polarity</th>\n",
              "      <th>Popular</th>\n",
              "    </tr>\n",
              "  </thead>\n",
              "  <tbody>\n",
              "    <tr>\n",
              "      <th>0</th>\n",
              "      <td>http://mashable.com/2014/12/10/cia-torture-rep...</td>\n",
              "      <td>28.0</td>\n",
              "      <td>9.0</td>\n",
              "      <td>188.0</td>\n",
              "      <td>0.732620</td>\n",
              "      <td>1.0</td>\n",
              "      <td>0.844262</td>\n",
              "      <td>5.0</td>\n",
              "      <td>1.0</td>\n",
              "      <td>1.0</td>\n",
              "      <td>...</td>\n",
              "      <td>0.200000</td>\n",
              "      <td>0.80</td>\n",
              "      <td>-0.487500</td>\n",
              "      <td>-0.60</td>\n",
              "      <td>-0.250000</td>\n",
              "      <td>0.9</td>\n",
              "      <td>0.8</td>\n",
              "      <td>0.4</td>\n",
              "      <td>0.8</td>\n",
              "      <td>1</td>\n",
              "    </tr>\n",
              "    <tr>\n",
              "      <th>1</th>\n",
              "      <td>http://mashable.com/2013/10/18/bitlock-kicksta...</td>\n",
              "      <td>447.0</td>\n",
              "      <td>7.0</td>\n",
              "      <td>297.0</td>\n",
              "      <td>0.653199</td>\n",
              "      <td>1.0</td>\n",
              "      <td>0.815789</td>\n",
              "      <td>9.0</td>\n",
              "      <td>4.0</td>\n",
              "      <td>1.0</td>\n",
              "      <td>...</td>\n",
              "      <td>0.160000</td>\n",
              "      <td>0.50</td>\n",
              "      <td>-0.135340</td>\n",
              "      <td>-0.40</td>\n",
              "      <td>-0.050000</td>\n",
              "      <td>0.1</td>\n",
              "      <td>-0.1</td>\n",
              "      <td>0.4</td>\n",
              "      <td>0.1</td>\n",
              "      <td>0</td>\n",
              "    </tr>\n",
              "    <tr>\n",
              "      <th>2</th>\n",
              "      <td>http://mashable.com/2013/07/24/google-glass-po...</td>\n",
              "      <td>533.0</td>\n",
              "      <td>11.0</td>\n",
              "      <td>181.0</td>\n",
              "      <td>0.660377</td>\n",
              "      <td>1.0</td>\n",
              "      <td>0.775701</td>\n",
              "      <td>4.0</td>\n",
              "      <td>3.0</td>\n",
              "      <td>1.0</td>\n",
              "      <td>...</td>\n",
              "      <td>0.136364</td>\n",
              "      <td>1.00</td>\n",
              "      <td>0.000000</td>\n",
              "      <td>0.00</td>\n",
              "      <td>0.000000</td>\n",
              "      <td>0.3</td>\n",
              "      <td>1.0</td>\n",
              "      <td>0.2</td>\n",
              "      <td>1.0</td>\n",
              "      <td>0</td>\n",
              "    </tr>\n",
              "    <tr>\n",
              "      <th>3</th>\n",
              "      <td>http://mashable.com/2013/11/21/these-are-the-m...</td>\n",
              "      <td>413.0</td>\n",
              "      <td>12.0</td>\n",
              "      <td>781.0</td>\n",
              "      <td>0.497409</td>\n",
              "      <td>1.0</td>\n",
              "      <td>0.677350</td>\n",
              "      <td>10.0</td>\n",
              "      <td>3.0</td>\n",
              "      <td>1.0</td>\n",
              "      <td>...</td>\n",
              "      <td>0.100000</td>\n",
              "      <td>1.00</td>\n",
              "      <td>-0.195701</td>\n",
              "      <td>-0.40</td>\n",
              "      <td>-0.071429</td>\n",
              "      <td>0.0</td>\n",
              "      <td>0.0</td>\n",
              "      <td>0.5</td>\n",
              "      <td>0.0</td>\n",
              "      <td>0</td>\n",
              "    </tr>\n",
              "    <tr>\n",
              "      <th>4</th>\n",
              "      <td>http://mashable.com/2014/02/11/parking-ticket-...</td>\n",
              "      <td>331.0</td>\n",
              "      <td>8.0</td>\n",
              "      <td>177.0</td>\n",
              "      <td>0.685714</td>\n",
              "      <td>1.0</td>\n",
              "      <td>0.830357</td>\n",
              "      <td>3.0</td>\n",
              "      <td>2.0</td>\n",
              "      <td>1.0</td>\n",
              "      <td>...</td>\n",
              "      <td>0.100000</td>\n",
              "      <td>0.55</td>\n",
              "      <td>-0.175000</td>\n",
              "      <td>-0.25</td>\n",
              "      <td>-0.100000</td>\n",
              "      <td>0.0</td>\n",
              "      <td>0.0</td>\n",
              "      <td>0.5</td>\n",
              "      <td>0.0</td>\n",
              "      <td>0</td>\n",
              "    </tr>\n",
              "  </tbody>\n",
              "</table>\n",
              "<p>5 rows × 61 columns</p>\n",
              "</div>"
            ],
            "text/plain": [
              "                                                 url  timedelta  \\\n",
              "0  http://mashable.com/2014/12/10/cia-torture-rep...       28.0   \n",
              "1  http://mashable.com/2013/10/18/bitlock-kicksta...      447.0   \n",
              "2  http://mashable.com/2013/07/24/google-glass-po...      533.0   \n",
              "3  http://mashable.com/2013/11/21/these-are-the-m...      413.0   \n",
              "4  http://mashable.com/2014/02/11/parking-ticket-...      331.0   \n",
              "\n",
              "   n_tokens_title  n_tokens_content  n_unique_tokens  n_non_stop_words  \\\n",
              "0             9.0             188.0         0.732620               1.0   \n",
              "1             7.0             297.0         0.653199               1.0   \n",
              "2            11.0             181.0         0.660377               1.0   \n",
              "3            12.0             781.0         0.497409               1.0   \n",
              "4             8.0             177.0         0.685714               1.0   \n",
              "\n",
              "   n_non_stop_unique_tokens  num_hrefs  num_self_hrefs  num_imgs   ...     \\\n",
              "0                  0.844262        5.0             1.0       1.0   ...      \n",
              "1                  0.815789        9.0             4.0       1.0   ...      \n",
              "2                  0.775701        4.0             3.0       1.0   ...      \n",
              "3                  0.677350       10.0             3.0       1.0   ...      \n",
              "4                  0.830357        3.0             2.0       1.0   ...      \n",
              "\n",
              "   min_positive_polarity  max_positive_polarity  avg_negative_polarity  \\\n",
              "0               0.200000                   0.80              -0.487500   \n",
              "1               0.160000                   0.50              -0.135340   \n",
              "2               0.136364                   1.00               0.000000   \n",
              "3               0.100000                   1.00              -0.195701   \n",
              "4               0.100000                   0.55              -0.175000   \n",
              "\n",
              "   min_negative_polarity  max_negative_polarity  title_subjectivity  \\\n",
              "0                  -0.60              -0.250000                 0.9   \n",
              "1                  -0.40              -0.050000                 0.1   \n",
              "2                   0.00               0.000000                 0.3   \n",
              "3                  -0.40              -0.071429                 0.0   \n",
              "4                  -0.25              -0.100000                 0.0   \n",
              "\n",
              "   title_sentiment_polarity  abs_title_subjectivity  \\\n",
              "0                       0.8                     0.4   \n",
              "1                      -0.1                     0.4   \n",
              "2                       1.0                     0.2   \n",
              "3                       0.0                     0.5   \n",
              "4                       0.0                     0.5   \n",
              "\n",
              "   abs_title_sentiment_polarity  Popular  \n",
              "0                           0.8        1  \n",
              "1                           0.1        0  \n",
              "2                           1.0        0  \n",
              "3                           0.0        0  \n",
              "4                           0.0        0  \n",
              "\n",
              "[5 rows x 61 columns]"
            ]
          },
          "metadata": {
            "tags": []
          },
          "execution_count": 1
        }
      ]
    },
    {
      "metadata": {
        "id": "RfLstIcc8Pa2",
        "colab_type": "code",
        "outputId": "5fc53556-85c0-47fc-9ee9-4c661bf3eb73",
        "colab": {
          "base_uri": "https://localhost:8080/",
          "height": 34
        }
      },
      "cell_type": "code",
      "source": [
        "train_df.shape"
      ],
      "execution_count": 2,
      "outputs": [
        {
          "output_type": "execute_result",
          "data": {
            "text/plain": [
              "(6000, 61)"
            ]
          },
          "metadata": {
            "tags": []
          },
          "execution_count": 2
        }
      ]
    },
    {
      "metadata": {
        "id": "QFmA4Lp68Pa6",
        "colab_type": "code",
        "colab": {}
      },
      "cell_type": "code",
      "source": [
        "X = train_df.drop(['url', 'Popular'], axis=1)\n",
        "y = train_df['Popular']"
      ],
      "execution_count": 0,
      "outputs": []
    },
    {
      "metadata": {
        "id": "c1mlfLGY8Pa9",
        "colab_type": "code",
        "outputId": "1043ab77-d2d2-4c57-c012-59b5e90cfde8",
        "colab": {
          "base_uri": "https://localhost:8080/",
          "height": 34
        }
      },
      "cell_type": "code",
      "source": [
        "y.mean()"
      ],
      "execution_count": 4,
      "outputs": [
        {
          "output_type": "execute_result",
          "data": {
            "text/plain": [
              "0.5"
            ]
          },
          "metadata": {
            "tags": []
          },
          "execution_count": 4
        }
      ]
    },
    {
      "metadata": {
        "id": "jZY8tBDm8PbB",
        "colab_type": "code",
        "colab": {}
      },
      "cell_type": "code",
      "source": [
        "# train/test split\n",
        "from sklearn.model_selection import train_test_split\n",
        "X_train, X_test, y_train, y_test = train_test_split(X, y, random_state=1)"
      ],
      "execution_count": 0,
      "outputs": []
    },
    {
      "metadata": {
        "id": "qk6H9b8I8PbF",
        "colab_type": "code",
        "outputId": "666b8637-1747-4e79-da07-09bebbdec2ab",
        "colab": {
          "base_uri": "https://localhost:8080/",
          "height": 34
        }
      },
      "cell_type": "code",
      "source": [
        "X_train.shape"
      ],
      "execution_count": 6,
      "outputs": [
        {
          "output_type": "execute_result",
          "data": {
            "text/plain": [
              "(4500, 59)"
            ]
          },
          "metadata": {
            "tags": []
          },
          "execution_count": 6
        }
      ]
    },
    {
      "metadata": {
        "id": "6qq2Xjfl8PbJ",
        "colab_type": "text"
      },
      "cell_type": "markdown",
      "source": [
        "# Exercise 9.1\n",
        "\n",
        "Estimate a Decision Tree Classifier and a Logistic Regresion\n",
        "\n",
        "Evaluate using the following metrics:\n",
        "* Accuracy\n",
        "* F1-Score"
      ]
    },
    {
      "metadata": {
        "id": "yzdjaMlW8PbL",
        "colab_type": "code",
        "colab": {}
      },
      "cell_type": "code",
      "source": [
        "from sklearn.tree import DecisionTreeClassifier\n",
        "from sklearn.linear_model import LogisticRegression\n",
        "from sklearn import preprocessing\n",
        "\n",
        "X_test_n = pd.DataFrame(preprocessing.normalize(X_test,), index=X_test.index, columns=X_test.columns)\n",
        "X_train_n = pd.DataFrame(preprocessing.normalize(X_train), index=X_train.index, columns=X_train.columns)\n",
        "\n",
        "\n",
        "models = {'lr': LogisticRegression(solver='lbfgs'),\n",
        "          'dt': DecisionTreeClassifier()\n",
        "          }\n",
        "\n",
        "for model in models.keys():\n",
        "    models[model].fit(X_train_n, y_train)"
      ],
      "execution_count": 0,
      "outputs": []
    },
    {
      "metadata": {
        "id": "rk2CNZfE8PbO",
        "colab_type": "code",
        "outputId": "9ee3df60-edcc-4762-da4a-36db294feda7",
        "colab": {
          "base_uri": "https://localhost:8080/",
          "height": 85
        }
      },
      "cell_type": "code",
      "source": [
        "y_pred = pd.DataFrame(index=y_test.index, columns=models.keys())\n",
        "for model in models.keys():\n",
        "    y_pred[model] = models[model].predict(X_test_n)\n",
        "    \n",
        "for model in models.keys():\n",
        "    print('accuracy_score: ',model,metrics.accuracy_score(y_pred[model], y_test) )\n",
        "    \n",
        "for model in models.keys():\n",
        "    print('f1_score: ',model, metrics.f1_score(y_pred[model], y_test) )\n",
        "\n",
        "#print('accuracy_score: ',metrics.accuracy_score(y_pred.mean(axis=1), y_test) )    \n",
        "#print('f1_score: ', metrics.f1_score(y_pred[model].mean(), y_test) )"
      ],
      "execution_count": 8,
      "outputs": [
        {
          "output_type": "stream",
          "text": [
            "accuracy_score:  lr 0.5413333333333333\n",
            "accuracy_score:  dt 0.5513333333333333\n",
            "f1_score:  lr 0.5300546448087432\n",
            "f1_score:  dt 0.5380919698009609\n"
          ],
          "name": "stdout"
        }
      ]
    },
    {
      "metadata": {
        "id": "35P6UtN58PbT",
        "colab_type": "text"
      },
      "cell_type": "markdown",
      "source": [
        "# Exercise 9.2\n",
        "\n",
        "Estimate 300 bagged samples\n",
        "\n",
        "Estimate the following set of classifiers:\n",
        "\n",
        "* 100 Decision Trees where max_depth=None\n",
        "* 100 Decision Trees where max_depth=2\n",
        "* 100 Logistic Regressions"
      ]
    },
    {
      "metadata": {
        "id": "J45dTUMHx0pj",
        "colab_type": "code",
        "outputId": "8ff6be2c-2746-4f8d-aa0e-e385fb834ee1",
        "colab": {
          "base_uri": "https://localhost:8080/",
          "height": 289
        }
      },
      "cell_type": "code",
      "source": [
        "#from sklearn.tree import DecisionTreeClassifier\n",
        "from sklearn.linear_model import LogisticRegression\n",
        "from sklearn.ensemble import BaggingClassifier\n",
        "\n",
        "models2 = {'DecisionTree01': DecisionTreeClassifier(max_depth=None),\n",
        "           'DecisionTre02': DecisionTreeClassifier(max_depth=2),\n",
        "          'LogisticReg': LogisticRegression( solver='lbfgs')\n",
        "          }\n",
        "\n",
        "\n",
        "for model in models2.keys():\n",
        "  models2[model].fit(X_train_n, y_train)\n",
        "\n",
        "for model in models2.keys():\n",
        "  models2[model].fit(X_train_n, y_train)\n",
        "\n",
        "y_pred = pd.DataFrame(index=y_test.index, columns=models2.keys())\n",
        "for model in models2.keys():\n",
        "  y_pred[model] = models2[model].predict(X_test_n)    \n",
        "  \n",
        "for model in models2.keys():\n",
        "    print('accuracy_score: ',model,'=',metrics.accuracy_score(y_pred[model], y_test) )\n",
        "print('\\n')    \n",
        "for model in models2.keys():\n",
        "    print('f1_score: ',model,'=',metrics.f1_score(y_pred[model], y_test) )\n",
        "\n",
        "print('\\nResults after Baggin:')\n",
        "    \n",
        "bc1 = BaggingClassifier(DecisionTreeClassifier(max_depth=None), n_estimators=100, bootstrap=True, oob_score=True, random_state=1).fit(X=X_train_n, y=y_train)\n",
        "print('accuracy_score: ','=',metrics.accuracy_score(bc1.predict(X_test_n), y_test) )\n",
        "print('f1_score: ','=',metrics.f1_score(bc1.predict(X_test_n), y_test) )\n",
        "\n",
        "bc2 = BaggingClassifier(DecisionTreeClassifier(max_depth=2), n_estimators=100, bootstrap=True, oob_score=True, random_state=1).fit(X=X_train_n, y=y_train)\n",
        "print('accuracy_score: ','=',metrics.accuracy_score(bc2.predict(X_test_n), y_test) )\n",
        "print('f1_score: ','=',metrics.f1_score(bc2.predict(X_test_n), y_test) )\n",
        "\n",
        "bc3 = BaggingClassifier(LogisticRegression( solver='lbfgs'), n_estimators=100, bootstrap=True, oob_score=True, random_state=1).fit(X=X_train_n, y=y_train)\n",
        "print('accuracy_score: ','=',metrics.accuracy_score(bc3.predict(X_test_n), y_test) )\n",
        "print('f1_score: ','=',metrics.f1_score(bc3.predict(X_test_n), y_test) )\n"
      ],
      "execution_count": 9,
      "outputs": [
        {
          "output_type": "stream",
          "text": [
            "accuracy_score:  DecisionTree01 = 0.5513333333333333\n",
            "accuracy_score:  DecisionTre02 = 0.624\n",
            "accuracy_score:  LogisticReg = 0.5413333333333333\n",
            "\n",
            "\n",
            "f1_score:  DecisionTree01 = 0.5431093007467753\n",
            "f1_score:  DecisionTre02 = 0.6389244558258642\n",
            "f1_score:  LogisticReg = 0.5300546448087432\n",
            "\n",
            "Results after Baggin:\n",
            "accuracy_score:  = 0.644\n",
            "f1_score:  = 0.650523560209424\n",
            "accuracy_score:  = 0.634\n",
            "f1_score:  = 0.6518706404565631\n",
            "accuracy_score:  = 0.5426666666666666\n",
            "f1_score:  = 0.5281980742778543\n"
          ],
          "name": "stdout"
        }
      ]
    },
    {
      "metadata": {
        "id": "GESIUMbR8Pbh",
        "colab_type": "text"
      },
      "cell_type": "markdown",
      "source": [
        "# Exercise 9.3\n",
        "\n",
        "Ensemble using majority voting\n",
        "\n",
        "Evaluate using the following metrics:\n",
        "* Accuracy\n",
        "* F1-Score"
      ]
    },
    {
      "metadata": {
        "id": "kifDhhhL160S",
        "colab_type": "code",
        "outputId": "c7121c2b-a9c1-4c25-ecf8-ac4c9c6993f0",
        "colab": {
          "base_uri": "https://localhost:8080/",
          "height": 51
        }
      },
      "cell_type": "code",
      "source": [
        "from sklearn.ensemble import VotingClassifier\n",
        "ensemble_model = VotingClassifier(estimators=models2.items(),voting='soft',)\n",
        "ensemble_model.fit(X_train_n,y_train)\n",
        "predicted_labels = pd.DataFrame(ensemble_model.predict(X_test_n))\n",
        "\n",
        "print('Accuracy Score:\\t',metrics.accuracy_score(y_test,predicted_labels))\n",
        "print('F1 Score:\\t',metrics.f1_score(y_test,predicted_labels))"
      ],
      "execution_count": 10,
      "outputs": [
        {
          "output_type": "stream",
          "text": [
            "Accuracy Score:\t 0.554\n",
            "F1 Score:\t 0.5445881552076243\n"
          ],
          "name": "stdout"
        }
      ]
    },
    {
      "metadata": {
        "id": "mqLAWvDC8Pbl",
        "colab_type": "text"
      },
      "cell_type": "markdown",
      "source": [
        "# Exercise 9.4\n",
        "\n",
        "Estimate te probability as %models that predict positive\n",
        "\n",
        "Modify the probability threshold and select the one that maximizes the F1-Score"
      ]
    },
    {
      "metadata": {
        "id": "3A1NOtvl8Pbm",
        "colab_type": "code",
        "outputId": "7fc1cce1-c074-4bce-bf57-fa19518a323c",
        "colab": {
          "base_uri": "https://localhost:8080/",
          "height": 119
        }
      },
      "cell_type": "code",
      "source": [
        "predict_prob = pd.DataFrame(ensemble_model.predict_proba(X_test_n))\n",
        "num_obs_test =  predict_prob.shape[0]\n",
        "\n",
        "threshold=0.1\n",
        "print('Con threshold=',threshold,'la probabilidad de ser positivo (1) es:',sum(np.where(predict_prob[1] > threshold,1,0)) / num_obs_test)\n",
        "\n",
        "threshold=0.25\n",
        "print('Con threshold=',threshold,'la probabilidad de ser positivo (1) es:',sum(np.where(predict_prob[1] > threshold,1,0)) / num_obs_test)\n",
        "\n",
        "threshold=0.5\n",
        "print('Con threshold=',threshold,'la probabilidad de ser positivo (1) es:',sum(np.where(predict_prob[1] > threshold,1,0)) / num_obs_test)\n",
        "\n",
        "threshold=0.75\n",
        "print('Con threshold=',threshold,'la probabilidad de ser positivo (1) es:',sum(np.where(predict_prob[1] > threshold,1,0)) / num_obs_test)\n",
        "\n",
        "threshold=1\n",
        "print('Con threshold=',threshold,'la probabilidad de ser positivo (1) es:',sum(np.where(predict_prob[1] > threshold,1,0)) / num_obs_test)\n",
        "\n",
        "\n",
        "threshold=0.28\n",
        "print('Con threshold=',threshold,' el valor de F1_score  es:',metrics.f1_score(y_test,np.where(predict_prob[[1]] > threshold,1,0))    )\n"
      ],
      "execution_count": 11,
      "outputs": [
        {
          "output_type": "stream",
          "text": [
            "Con threshold= 0.1 la probabilidad de ser positivo (1) es: 1.0\n",
            "Con threshold= 0.25 la probabilidad de ser positivo (1) es: 0.9533333333333334\n",
            "Con threshold= 0.5 la probabilidad de ser positivo (1) es: 0.47533333333333333\n",
            "Con threshold= 0.75 la probabilidad de ser positivo (1) es: 0.006666666666666667\n",
            "Con threshold= 1 la probabilidad de ser positivo (1) es: 0.0\n",
            "Con threshold= 0.28  el valor de F1_score  es: 0.6959960454770143\n"
          ],
          "name": "stdout"
        }
      ]
    },
    {
      "metadata": {
        "id": "sezsOpki_zNV",
        "colab_type": "code",
        "outputId": "66f69ccb-71e1-402f-e68f-3c3047263e25",
        "colab": {
          "base_uri": "https://localhost:8080/",
          "height": 365
        }
      },
      "cell_type": "code",
      "source": [
        "\n",
        "result=[]\n",
        "result2=[]\n",
        "list = [x * 0.01 for x in range(20, 80)]\n",
        "for threshold in list:\n",
        "  result2.append( metrics.f1_score(y_test, np.where(predict_prob[1] > threshold,1,0)  ) )\n",
        "\n",
        "%matplotlib inline\n",
        "import matplotlib.pyplot as plt\n",
        "plt.xlabel('threshold')\n",
        "plt.ylabel('f1_score')\n",
        "plt.scatter(x=list,y=result2,)\n",
        "plt.title('F1_score vs threshold')\n"
      ],
      "execution_count": 12,
      "outputs": [
        {
          "output_type": "stream",
          "text": [
            "/usr/local/lib/python3.6/dist-packages/sklearn/metrics/classification.py:1143: UndefinedMetricWarning: F-score is ill-defined and being set to 0.0 due to no predicted samples.\n",
            "  'precision', 'predicted', average, warn_for)\n"
          ],
          "name": "stderr"
        },
        {
          "output_type": "execute_result",
          "data": {
            "text/plain": [
              "Text(0.5, 1.0, 'F1_score vs threshold')"
            ]
          },
          "metadata": {
            "tags": []
          },
          "execution_count": 12
        },
        {
          "output_type": "display_data",
          "data": {
            "image/png": "[encoded data removed]",
            "text/plain": [
              "<Figure size 432x288 with 1 Axes>"
            ]
          },
          "metadata": {
            "tags": []
          }
        }
      ]
    },
    {
      "metadata": {
        "id": "h5vI4Ibv8Pbp",
        "colab_type": "text"
      },
      "cell_type": "markdown",
      "source": [
        "# Exercise 9.5\n",
        "\n",
        "Ensemble using weighted voting using the oob_error\n",
        "\n",
        "Evaluate using the following metrics:\n",
        "* Accuracy\n",
        "* F1-Score"
      ]
    },
    {
      "metadata": {
        "id": "RS46sved8Pbq",
        "colab_type": "code",
        "outputId": "9e88a31b-cee7-448c-d0e2-dbc4795c2afb",
        "colab": {
          "base_uri": "https://localhost:8080/",
          "height": 34
        }
      },
      "cell_type": "code",
      "source": [
        "clf = BaggingClassifier(base_estimator=DecisionTreeClassifier(), n_estimators=100, bootstrap=True,\n",
        "                        random_state=42, n_jobs=-1, oob_score=True)\n",
        "clf.fit(X_train_n, y_train)\n",
        "y_pred = clf.predict(X_test_n)\n",
        "metrics.f1_score(y_pred, y_test), metrics.accuracy_score(y_pred, y_test)"
      ],
      "execution_count": 13,
      "outputs": [
        {
          "output_type": "execute_result",
          "data": {
            "text/plain": [
              "(0.6431833007175473, 0.6353333333333333)"
            ]
          },
          "metadata": {
            "tags": []
          },
          "execution_count": 13
        }
      ]
    },
    {
      "metadata": {
        "id": "THVb3-wPLp4u",
        "colab_type": "code",
        "outputId": "56882a06-d270-4307-b938-858a8ebf175a",
        "colab": {
          "base_uri": "https://localhost:8080/",
          "height": 34
        }
      },
      "cell_type": "code",
      "source": [
        "errors = np.zeros(clf.n_estimators)\n",
        "y_pred_all_ = np.zeros((X_test_n.shape[0], clf.n_estimators))\n",
        "\n",
        "for i in range(clf.n_estimators):\n",
        "    oob_sample = ~clf.estimators_samples_[i]\n",
        "    y_pred_ = clf.estimators_[i].predict(X_train_n.values[oob_sample])\n",
        "    errors[i] = metrics.accuracy_score(y_pred_, y_train.values[oob_sample])\n",
        "    y_pred_all_[:, i] = clf.estimators_[i].predict(X_test)\n",
        "    \n",
        "alpha = (1 - errors) / (1 - errors).sum()\n",
        "y_pred = (np.sum(y_pred_all_ * alpha, axis=1) >= 0.5).astype(np.int)\n",
        "metrics.f1_score(y_pred, y_test), metrics.accuracy_score(y_pred, y_test)"
      ],
      "execution_count": 14,
      "outputs": [
        {
          "output_type": "execute_result",
          "data": {
            "text/plain": [
              "(0.26640926640926643, 0.49333333333333335)"
            ]
          },
          "metadata": {
            "tags": []
          },
          "execution_count": 14
        }
      ]
    },
    {
      "metadata": {
        "id": "y_4168W48Pbv",
        "colab_type": "text"
      },
      "cell_type": "markdown",
      "source": [
        "# Exercise 9.6\n",
        "\n",
        "Estimate te probability of the weighted voting\n",
        "\n",
        "Modify the probability threshold and select the one that maximizes the F1-Score"
      ]
    },
    {
      "metadata": {
        "id": "ik1G_HSt8Pbx",
        "colab_type": "code",
        "outputId": "e3662d3d-c209-46e9-eb43-dd395ac6b301",
        "colab": {
          "base_uri": "https://localhost:8080/",
          "height": 319
        }
      },
      "cell_type": "code",
      "source": [
        "n_estimators=100\n",
        "np.random.seed(123) \n",
        "seeds = np.random.randint(1, 10000, size=n_estimators)\n",
        "n_samples = X_train.shape[0]\n",
        "\n",
        "# create bootstrap samples (will be used to select rows from the DataFrame)\n",
        "samples = [np.random.choice(a=n_samples, size=n_samples, replace=True) for _ in range(n_estimators)]\n",
        "\n",
        "\n",
        "\n",
        "trees = {}\n",
        "for i in range(n_estimators):\n",
        "    trees[i] = DecisionTreeClassifier(max_features=\"sqrt\", max_depth=None, random_state=seeds[i])\n",
        "    trees[i].fit(X_train_n.iloc[samples[i]], y_train.iloc[samples[i]])\n",
        "    \n",
        "samples_oob = []\n",
        "for sample in samples:\n",
        "    samples_oob.append(sorted(set(range(n_samples)) - set(sample)))\n",
        "    \n",
        "errors = np.zeros(n_estimators)\n",
        "\n",
        "for i in range(n_estimators):\n",
        "    y_pred_ = trees[i].predict(X_train.iloc[samples_oob[i]])\n",
        "    errors[i] = 1 - metrics.accuracy_score(y_train.iloc[samples_oob[i]], y_pred_)\n",
        "    \n",
        "%matplotlib inline\n",
        "import matplotlib.pyplot as plt\n",
        "plt.style.use('fivethirtyeight')\n",
        "\n",
        "plt.scatter(range(n_estimators), errors)\n",
        "plt.xlim([0, n_estimators])\n",
        "plt.title('OOB error of each tree')    "
      ],
      "execution_count": 15,
      "outputs": [
        {
          "output_type": "execute_result",
          "data": {
            "text/plain": [
              "Text(0.5, 1.0, 'OOB error of each tree')"
            ]
          },
          "metadata": {
            "tags": []
          },
          "execution_count": 15
        },
        {
          "output_type": "display_data",
          "data": {
            "image/png": "[encoded data removed]",
            "text/plain": [
              "<Figure size 432x288 with 1 Axes>"
            ]
          },
          "metadata": {
            "tags": []
          }
        }
      ]
    },
    {
      "metadata": {
        "id": "L9z92xBz8Pb1",
        "colab_type": "text"
      },
      "cell_type": "markdown",
      "source": [
        "# Exercise 9.7\n",
        "\n",
        "Estimate a logistic regression using as input the estimated classifiers\n",
        "\n",
        "Modify the probability threshold such that maximizes the F1-Score"
      ]
    },
    {
      "metadata": {
        "id": "fIiSteyO8Pb3",
        "colab_type": "code",
        "outputId": "d22495f1-00b5-486d-beb8-2309cb3dcdb9",
        "colab": {
          "base_uri": "https://localhost:8080/",
          "height": 357
        }
      },
      "cell_type": "code",
      "source": [
        "from sklearn.linear_model import LogisticRegressionCV\n",
        "X_train_2 = pd.DataFrame(index=X_train_n.index, columns=range(n_estimators))\n",
        "y_pred_df = pd.DataFrame(index=y_test.index, columns=range(n_estimators))\n",
        "\n",
        "for i in range(n_estimators):\n",
        "    X_train_2[i] = trees[i].predict(X_train)\n",
        "\n",
        "lr = LogisticRegressionCV(cv = 5 , max_iter=1000)\n",
        "lr.fit(X_train_2, y_train)\n",
        "\n",
        "lr.coef_"
      ],
      "execution_count": 16,
      "outputs": [
        {
          "output_type": "execute_result",
          "data": {
            "text/plain": [
              "array([[ 0.05873583, -0.00114935,  0.04973181, -0.00188434,  0.02935408,\n",
              "         0.05451919,  0.03158501,  0.00787733,  0.01525541, -0.03163175,\n",
              "        -0.00366319, -0.09546606,  0.0485948 , -0.03223921, -0.08313875,\n",
              "        -0.0036231 ,  0.00053979,  0.10715965,  0.02739682,  0.00627743,\n",
              "         0.00167565, -0.0084381 ,  0.00672026,  0.00924788,  0.02644709,\n",
              "         0.10342363, -0.01308036,  0.08259193, -0.07045796,  0.        ,\n",
              "        -0.01604788,  0.00815074,  0.08830452,  0.02087717, -0.06779152,\n",
              "        -0.12748022,  0.01466871, -0.05354613,  0.02554881,  0.0293874 ,\n",
              "         0.0458003 ,  0.02134442,  0.05696664,  0.00146631,  0.01647079,\n",
              "        -0.02853985,  0.04799482, -0.06978344,  0.05662976,  0.19707558,\n",
              "         0.00925706, -0.0284223 ,  0.05627854,  0.0118416 , -0.02870555,\n",
              "        -0.0230087 ,  0.00188384,  0.00684358, -0.11587964,  0.01084352,\n",
              "        -0.04389456,  0.        ,  0.00416232,  0.03752433,  0.04422085,\n",
              "         0.00142685, -0.0163188 , -0.00344269, -0.00167938, -0.08771929,\n",
              "         0.0177526 ,  0.04074737,  0.06149544,  0.00660388, -0.04799156,\n",
              "         0.07495959, -0.02025192,  0.07809691,  0.05501877,  0.01311389,\n",
              "         0.01174015,  0.04734535, -0.04578715, -0.00840962,  0.09388254,\n",
              "         0.09430083, -0.01163863,  0.13185258, -0.03046423,  0.17881109,\n",
              "        -0.01982986, -0.04703022,  0.03181204, -0.08196103, -0.01102128,\n",
              "         0.07587043,  0.0202416 , -0.06025982, -0.12352958, -0.09858864]])"
            ]
          },
          "metadata": {
            "tags": []
          },
          "execution_count": 16
        }
      ]
    },
    {
      "metadata": {
        "id": "wCGgez8MXT0i",
        "colab_type": "code",
        "outputId": "bdd170b0-ddc8-4466-9bdf-ed970744252c",
        "colab": {
          "base_uri": "https://localhost:8080/",
          "height": 34
        }
      },
      "cell_type": "code",
      "source": [
        "for i in range(n_estimators):\n",
        "    y_pred_df.iloc[:, i] = trees[i].predict(X_test)\n",
        "\n",
        "y_pred = lr.predict(y_pred_df)\n",
        "\n",
        "\n",
        "metrics.f1_score(y_pred, y_test), metrics.accuracy_score(y_pred, y_test)\n"
      ],
      "execution_count": 17,
      "outputs": [
        {
          "output_type": "execute_result",
          "data": {
            "text/plain": [
              "(0.6095979247730221, 0.5986666666666667)"
            ]
          },
          "metadata": {
            "tags": []
          },
          "execution_count": 17
        }
      ]
    },
    {
      "metadata": {
        "id": "FJtw3z87YcXr",
        "colab_type": "code",
        "outputId": "ad05c456-33f4-46ce-c9b7-994833454431",
        "colab": {
          "base_uri": "https://localhost:8080/",
          "height": 34
        }
      },
      "cell_type": "code",
      "source": [
        "y_pred_all_ = np.zeros((X_test.shape[0], clf.n_estimators))\n",
        "X_train_3 = np.zeros((X_train.shape[0], clf.n_estimators))\n",
        "\n",
        "for i in range(clf.n_estimators):\n",
        "\n",
        "    X_train_3[:, i] = clf.estimators_[i].predict(X_train)\n",
        "    y_pred_all_[:, i] = clf.estimators_[i].predict(X_test)\n",
        "    \n",
        "lr = LogisticRegressionCV(cv=5,max_iter=1000)\n",
        "lr.fit(X_train_3, y_train)\n",
        "\n",
        "y_pred = lr.predict(y_pred_all_)\n",
        "metrics.f1_score(y_pred, y_test), metrics.accuracy_score(y_pred, y_test)\n",
        "\n",
        "dt = DecisionTreeClassifier()\n",
        "dt.fit(X_train, y_train)\n",
        "y_pred = dt.predict(X_test)\n",
        "metrics.f1_score(y_pred, y_test), metrics.accuracy_score(y_pred, y_test)"
      ],
      "execution_count": 18,
      "outputs": [
        {
          "output_type": "execute_result",
          "data": {
            "text/plain": [
              "(0.533066132264529, 0.534)"
            ]
          },
          "metadata": {
            "tags": []
          },
          "execution_count": 18
        }
      ]
    }
  ]
}