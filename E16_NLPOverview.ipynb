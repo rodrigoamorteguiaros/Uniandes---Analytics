{
  "nbformat": 4,
  "nbformat_minor": 0,
  "metadata": {
    "colab": {
      "name": "E16-NLPOverview",
      "version": "0.3.2",
      "provenance": [],
      "collapsed_sections": []
    },
    "kernelspec": {
      "name": "python3",
      "display_name": "Python 3"
    }
  },
  "cells": [
    {
      "metadata": {
        "id": "fxbf7gW63z0_",
        "colab_type": "text"
      },
      "cell_type": "markdown",
      "source": [
        "Un ejemplo de plataforma comercial que usa NLP, es \"**Yelp Insigths**\", [YELP](https://www.yelp.com/), la cual inició en el año 2012 como una plataforma que mediante el uso de algoritmos de análisis de sentimientos y tendencia de uso de palabras que conforman frases, orienta a los usuarios, tomando como base las opiniones de otros usuarios y no solamente la calificación cualitativa dada, para que puedan a tomar decisiones informadas respecto a la conveniencia de visitar algun sitio (restaurante) especifico.\n",
        "\n",
        "\"*El algoritmo usado desde la fundación de Yelp, busca constantemente señales sobre el usuario y sus reseña, “para asegurarse de que cuando busques una taquería en Polanco tengas la mejor de las recomendaciones posible, y la más útil. Las que son menos útiles no las recomendamos, siempre podrás encontrarla al fondo de la página, pero no las destacamos*”, explica Miriam Warren, VP de nuevos mercados de Yelp..\n"
      ]
    }
  ]
}