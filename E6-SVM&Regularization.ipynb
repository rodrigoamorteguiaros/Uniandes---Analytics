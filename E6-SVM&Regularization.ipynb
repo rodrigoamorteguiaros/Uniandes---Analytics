{
 "cells": [
  {
   "cell_type": "markdown",
   "metadata": {},
   "source": [
    "# Exercise 6\n",
    "\n",
    "## SVM & Regularization\n",
    "\n",
    "\n",
    "For this homework we consider a set of observations on a number of red and white wine varieties involving their chemical properties and ranking by tasters. Wine industry shows a recent growth spurt as social drinking is on the rise. The price of wine depends on a rather abstract concept of wine appreciation by wine tasters, opinion among whom may have a high degree of variability. Pricing of wine depends on such a volatile factor to some extent. Another key factor in wine certification and quality assessment is physicochemical tests which are laboratory-based and takes into account factors like acidity, pH level, presence of sugar and other chemical properties. For the wine market, it would be of interest if human quality of tasting can be related to the chemical properties of wine so that certification and quality assessment and assurance process is more controlled.\n",
    "\n",
    "Two datasets are available of which one dataset is on red wine and have 1599 different varieties and the other is on white wine and have 4898 varieties. All wines are produced in a particular area of Portugal. Data are collected on 12 different properties of the wines one of which is Quality, based on sensory data, and the rest are on chemical properties of the wines including density, acidity, alcohol content etc. All chemical properties of wines are continuous variables. Quality is an ordinal variable with possible ranking from 1 (worst) to 10 (best). Each variety of wine is tasted by three independent tasters and the final rank assigned is the median rank given by the tasters.\n",
    "\n",
    "A predictive model developed on this data is expected to provide guidance to vineyards regarding quality and price expected on their produce without heavy reliance on volatility of wine tasters."
   ]
  },
  {
   "cell_type": "code",
   "execution_count": 1,
   "metadata": {},
   "outputs": [],
   "source": [
    "import pandas as pd\n",
    "import numpy as np\n",
    "from matplotlib import style\n",
    "import matplotlib.pyplot as plt\n",
    "style.use(\"ggplot\")\n",
    "%matplotlib inline\n",
    "from sklearn import svm\n",
    "from sklearn.model_selection import train_test_split,GridSearchCV,ShuffleSplit\n",
    "#from sklearn import preprocessing\n",
    "from sklearn.metrics import accuracy_score,roc_curve"
   ]
  },
  {
   "cell_type": "code",
   "execution_count": 2,
   "metadata": {},
   "outputs": [],
   "source": [
    "data_r = pd.read_csv('https://github.com/albahnsen/PracticalMachineLearningClass/raw/master/datasets/Wine_data_red.csv')\n",
    "data_w = pd.read_csv('https://github.com/albahnsen/PracticalMachineLearningClass/raw/master/datasets/Wine_data_white.csv')"
   ]
  },
  {
   "cell_type": "code",
   "execution_count": 3,
   "metadata": {},
   "outputs": [
    {
     "data": {
      "text/html": [
       "<div>\n",
       "<style scoped>\n",
       "    .dataframe tbody tr th:only-of-type {\n",
       "        vertical-align: middle;\n",
       "    }\n",
       "\n",
       "    .dataframe tbody tr th {\n",
       "        vertical-align: top;\n",
       "    }\n",
       "\n",
       "    .dataframe thead th {\n",
       "        text-align: right;\n",
       "    }\n",
       "</style>\n",
       "<table border=\"1\" class=\"dataframe\">\n",
       "  <thead>\n",
       "    <tr style=\"text-align: right;\">\n",
       "      <th></th>\n",
       "      <th>fixed acidity</th>\n",
       "      <th>volatile acidity</th>\n",
       "      <th>citric acid</th>\n",
       "      <th>residual sugar</th>\n",
       "      <th>chlorides</th>\n",
       "      <th>free sulfur dioxide</th>\n",
       "      <th>total sulfur dioxide</th>\n",
       "      <th>density</th>\n",
       "      <th>pH</th>\n",
       "      <th>sulphates</th>\n",
       "      <th>alcohol</th>\n",
       "      <th>quality</th>\n",
       "      <th>type</th>\n",
       "    </tr>\n",
       "  </thead>\n",
       "  <tbody>\n",
       "    <tr>\n",
       "      <th>3997</th>\n",
       "      <td>6.0</td>\n",
       "      <td>0.26</td>\n",
       "      <td>0.29</td>\n",
       "      <td>3.1</td>\n",
       "      <td>0.041</td>\n",
       "      <td>37.0</td>\n",
       "      <td>144.0</td>\n",
       "      <td>0.98944</td>\n",
       "      <td>3.22</td>\n",
       "      <td>0.39</td>\n",
       "      <td>12.8</td>\n",
       "      <td>7</td>\n",
       "      <td>white</td>\n",
       "    </tr>\n",
       "    <tr>\n",
       "      <th>2728</th>\n",
       "      <td>6.5</td>\n",
       "      <td>0.35</td>\n",
       "      <td>0.28</td>\n",
       "      <td>12.4</td>\n",
       "      <td>0.051</td>\n",
       "      <td>86.0</td>\n",
       "      <td>213.0</td>\n",
       "      <td>0.99620</td>\n",
       "      <td>3.16</td>\n",
       "      <td>0.51</td>\n",
       "      <td>9.9</td>\n",
       "      <td>6</td>\n",
       "      <td>white</td>\n",
       "    </tr>\n",
       "    <tr>\n",
       "      <th>4428</th>\n",
       "      <td>6.9</td>\n",
       "      <td>0.44</td>\n",
       "      <td>0.27</td>\n",
       "      <td>5.0</td>\n",
       "      <td>0.038</td>\n",
       "      <td>33.0</td>\n",
       "      <td>166.0</td>\n",
       "      <td>0.99124</td>\n",
       "      <td>3.20</td>\n",
       "      <td>0.42</td>\n",
       "      <td>12.2</td>\n",
       "      <td>6</td>\n",
       "      <td>white</td>\n",
       "    </tr>\n",
       "    <tr>\n",
       "      <th>2101</th>\n",
       "      <td>6.8</td>\n",
       "      <td>0.28</td>\n",
       "      <td>0.35</td>\n",
       "      <td>2.3</td>\n",
       "      <td>0.042</td>\n",
       "      <td>16.0</td>\n",
       "      <td>85.0</td>\n",
       "      <td>0.99060</td>\n",
       "      <td>3.19</td>\n",
       "      <td>0.56</td>\n",
       "      <td>12.4</td>\n",
       "      <td>6</td>\n",
       "      <td>white</td>\n",
       "    </tr>\n",
       "    <tr>\n",
       "      <th>3948</th>\n",
       "      <td>5.7</td>\n",
       "      <td>0.14</td>\n",
       "      <td>0.30</td>\n",
       "      <td>5.4</td>\n",
       "      <td>0.045</td>\n",
       "      <td>26.0</td>\n",
       "      <td>105.0</td>\n",
       "      <td>0.99469</td>\n",
       "      <td>3.32</td>\n",
       "      <td>0.45</td>\n",
       "      <td>9.3</td>\n",
       "      <td>5</td>\n",
       "      <td>white</td>\n",
       "    </tr>\n",
       "  </tbody>\n",
       "</table>\n",
       "</div>"
      ],
      "text/plain": [
       "      fixed acidity  volatile acidity  citric acid  residual sugar  chlorides  \\\n",
       "3997            6.0              0.26         0.29             3.1      0.041   \n",
       "2728            6.5              0.35         0.28            12.4      0.051   \n",
       "4428            6.9              0.44         0.27             5.0      0.038   \n",
       "2101            6.8              0.28         0.35             2.3      0.042   \n",
       "3948            5.7              0.14         0.30             5.4      0.045   \n",
       "\n",
       "      free sulfur dioxide  total sulfur dioxide  density    pH  sulphates  \\\n",
       "3997                 37.0                 144.0  0.98944  3.22       0.39   \n",
       "2728                 86.0                 213.0  0.99620  3.16       0.51   \n",
       "4428                 33.0                 166.0  0.99124  3.20       0.42   \n",
       "2101                 16.0                  85.0  0.99060  3.19       0.56   \n",
       "3948                 26.0                 105.0  0.99469  3.32       0.45   \n",
       "\n",
       "      alcohol  quality   type  \n",
       "3997     12.8        7  white  \n",
       "2728      9.9        6  white  \n",
       "4428     12.2        6  white  \n",
       "2101     12.4        6  white  \n",
       "3948      9.3        5  white  "
      ]
     },
     "execution_count": 3,
     "metadata": {},
     "output_type": "execute_result"
    }
   ],
   "source": [
    "data = data_w.assign(type = 'white')\n",
    "\n",
    "data = data.append(data_r.assign(type = 'red'), ignore_index=True)\n",
    "data.sample(5)"
   ]
  },
  {
   "cell_type": "markdown",
   "metadata": {},
   "source": [
    "# Exercise 6.1\n",
    "\n",
    "Show the frecuency table of the quality by type of wine"
   ]
  },
  {
   "cell_type": "code",
   "execution_count": 4,
   "metadata": {},
   "outputs": [
    {
     "name": "stdout",
     "output_type": "stream",
     "text": [
      "quality  type \n",
      "3        red        10\n",
      "         white      20\n",
      "4        red        53\n",
      "         white     163\n",
      "5        red       681\n",
      "         white    1457\n",
      "6        red       638\n",
      "         white    2198\n",
      "7        red       199\n",
      "         white     880\n",
      "8        red        18\n",
      "         white     175\n",
      "9        white       5\n",
      "dtype: int64\n"
     ]
    }
   ],
   "source": [
    "table = data[['quality','type']].groupby(['quality','type'])\n",
    "print(table.size())"
   ]
  },
  {
   "cell_type": "markdown",
   "metadata": {},
   "source": [
    "#### Se tiene un total de 6497 observaciones, para dos tipos de vinos (Red, White), clasificados en 7 categorias."
   ]
  },
  {
   "cell_type": "markdown",
   "metadata": {},
   "source": [
    "# SVM"
   ]
  },
  {
   "cell_type": "markdown",
   "metadata": {},
   "source": [
    "# Exercise 6.2\n",
    "\n",
    "* Standarized the features (not the quality)\n",
    "* Create a binary target for each type of wine\n",
    "* Create two Linear SVM's for the white and red wines, repectively.\n"
   ]
  },
  {
   "cell_type": "code",
   "execution_count": 5,
   "metadata": {},
   "outputs": [
    {
     "name": "stdout",
     "output_type": "stream",
     "text": [
      "Accuracy Red: 0.606  Accuraccy White: 0.58\n"
     ]
    }
   ],
   "source": [
    "column_names = data.columns.values.tolist()\n",
    "column_names.remove('type')\n",
    "column_names.remove('quality')\n",
    "\n",
    "data_features_r = data[data['type']=='red'][column_names].copy()\n",
    "data_features_w = data[data['type']=='white'][column_names].copy()\n",
    "\n",
    "data_target_r =  data[data['type']=='red']['quality'].copy()\n",
    "data_target_w =  data[data['type']=='white']['quality'].copy()\n",
    "\n",
    "\n",
    "for col in column_names:\n",
    "    data_features_r[col] = (data_features_r[col] - data_features_r[col].mean()) / (data_features_r[col].std())\n",
    "    \n",
    "\n",
    "for col in column_names:\n",
    "    data_features_w[col] = (data_features_w[col] - data_features_w[col].mean()) / (data_features_w[col].std())\n",
    "\n",
    "X_train_r, X_test_r, Y_train_r, Y_test_r = train_test_split(data_features_r, data_target_r, test_size=0.3)\n",
    "X_train_w, X_test_w, Y_train_w, Y_test_w = train_test_split(data_features_w, data_target_w, test_size=0.3)\n",
    "\n",
    "classifier_r = svm.SVC(gamma='auto')\n",
    "classifier_w = svm.SVC(gamma='auto')\n",
    "classifier_r.fit(X_train_r,Y_train_r)\n",
    "classifier_w.fit(X_train_w,Y_train_w)\n",
    "\n",
    "pred_r = classifier_r.predict(X_test_r)\n",
    "pred_w = classifier_w.predict(X_test_w)\n",
    "\n",
    "print('Accuracy Red:',round(accuracy_score(Y_test_r, pred_r, normalize=True),3), \n",
    "      ' Accuraccy White:',round(accuracy_score(Y_test_w, pred_w, normalize=True),3))\n"
   ]
  },
  {
   "cell_type": "markdown",
   "metadata": {},
   "source": [
    "#### Se nota que no es un buen modelo, pues el accuracy (exactitud)en la prediccion es  baja."
   ]
  },
  {
   "cell_type": "markdown",
   "metadata": {},
   "source": [
    "# Exercise 6.3\n",
    "\n",
    "Test the two SVM's using the different kernels (‘poly’, ‘rbf’, ‘sigmoid’)\n"
   ]
  },
  {
   "cell_type": "code",
   "execution_count": 6,
   "metadata": {},
   "outputs": [
    {
     "name": "stdout",
     "output_type": "stream",
     "text": [
      "poly:\t\t Accuracy Red: 0.5854166666666667  Accuracy White: 0.535374149659864\n",
      "rbf:\t\t Accuracy Red: 0.60625  Accuracy White: 0.5795918367346938\n",
      "sigmoid:\t Accuracy Red: 0.5708333333333333  Accuracy White: 0.43673469387755104\n"
     ]
    }
   ],
   "source": [
    "classifier_r = svm.SVC(kernel=\"poly\",gamma='auto')\n",
    "classifier_w = svm.SVC(kernel=\"poly\",gamma='auto')\n",
    "classifier_r.fit(X_train_r,Y_train_r)\n",
    "classifier_w.fit(X_train_w,Y_train_w)\n",
    "\n",
    "print('poly:\\t\\t Accuracy Red:',accuracy_score(Y_test_r, classifier_r.predict(X_test_r), normalize=True), \n",
    "      ' Accuracy White:',accuracy_score(Y_test_w,  classifier_w.predict(X_test_w), normalize=True))\n",
    "\n",
    "classifier_r = svm.SVC(kernel=\"rbf\",gamma='auto')\n",
    "classifier_w = svm.SVC(kernel=\"rbf\",gamma='auto')\n",
    "classifier_r.fit(X_train_r,Y_train_r)\n",
    "classifier_w.fit(X_train_w,Y_train_w)\n",
    "\n",
    "print('rbf:\\t\\t Accuracy Red:',accuracy_score(Y_test_r, classifier_r.predict(X_test_r), normalize=True), \n",
    "      ' Accuracy White:',accuracy_score(Y_test_w,  classifier_w.predict(X_test_w), normalize=True))\n",
    "\n",
    "classifier_r = svm.SVC(kernel=\"sigmoid\",gamma='auto')\n",
    "classifier_w = svm.SVC(kernel=\"sigmoid\",gamma='auto')\n",
    "classifier_r.fit(X_train_r,Y_train_r)\n",
    "classifier_w.fit(X_train_w,Y_train_w)\n",
    "\n",
    "print('sigmoid:\\t Accuracy Red:',accuracy_score(Y_test_r, classifier_r.predict(X_test_r), normalize=True), \n",
    "      ' Accuracy White:',accuracy_score(Y_test_w,  classifier_w.predict(X_test_w), normalize=True))"
   ]
  },
  {
   "cell_type": "markdown",
   "metadata": {},
   "source": [
    "#### El kernel con el que nos da el mejor Accuracy con este modelo de datos, es rbf tanto para los vinos blancos como para los rojos."
   ]
  },
  {
   "cell_type": "markdown",
   "metadata": {},
   "source": [
    "# Exercise 6.4\n",
    "Using the best SVM find the parameters that gives the best performance\n",
    "\n",
    "'C': [0.1, 1, 10, 100, 1000], 'gamma': [0.01, 0.001, 0.0001]"
   ]
  },
  {
   "cell_type": "code",
   "execution_count": 7,
   "metadata": {},
   "outputs": [
    {
     "name": "stdout",
     "output_type": "stream",
     "text": [
      "Best parameters red wines:\t {'C': 1000, 'gamma': 0.01, 'kernel': 'rbf'}\n",
      "Best parameters white wines:\t {'C': 1000, 'gamma': 0.01, 'kernel': 'rbf'}\n"
     ]
    }
   ],
   "source": [
    "parameters = [\n",
    "    {\n",
    "        'kernel': ['rbf','poly','sigmoid'],\n",
    "        'gamma': [0.01, 0.001, 0.0001],\n",
    "        'C': [0.1, 1, 10, 100, 1000]\n",
    "    }\n",
    "]\n",
    "\n",
    "clf_r = GridSearchCV(svm.SVC(decision_function_shape='ovr'), param_grid=parameters,cv = ShuffleSplit())\n",
    "clf_r.fit(X_train_r,Y_train_r)\n",
    "print('Best parameters red wines:\\t',clf_r.best_params_)\n",
    "\n",
    "clf_w = GridSearchCV(svm.SVC(decision_function_shape='ovr'), param_grid=parameters,cv = ShuffleSplit())\n",
    "clf_w.fit(X_train_w,Y_train_w)\n",
    "print('Best parameters white wines:\\t',clf_w.best_params_)"
   ]
  },
  {
   "cell_type": "markdown",
   "metadata": {},
   "source": [
    "#### Se genera nuevamente el modelo, con los mejores parametros identificados con la funcion GridSearchCV"
   ]
  },
  {
   "cell_type": "code",
   "execution_count": 8,
   "metadata": {},
   "outputs": [
    {
     "name": "stdout",
     "output_type": "stream",
     "text": [
      "Accuracy Red: 0.5854166666666667  Accuracy White: 0.572108843537415\n"
     ]
    }
   ],
   "source": [
    "classifier_r = svm.SVC(kernel=\"rbf\",gamma=0.01,C=1000).fit(X_train_r,Y_train_r)\n",
    "classifier_w = svm.SVC(kernel=\"rbf\",gamma=0.01,C=1000).fit(X_train_w,Y_train_w)\n",
    "\n",
    "print('Accuracy Red:',accuracy_score(Y_test_r, classifier_r.predict(X_test_r), normalize=True), \n",
    "      ' Accuracy White:',accuracy_score(Y_test_w,  classifier_w.predict(X_test_w), normalize=True))"
   ]
  },
  {
   "cell_type": "markdown",
   "metadata": {},
   "source": [
    "# Exercise 6.5\n",
    "\n",
    "Compare the results with other methods\n"
   ]
  },
  {
   "cell_type": "code",
   "execution_count": 10,
   "metadata": {},
   "outputs": [
    {
     "data": {
      "image/png": "[encoded data removed]",
      "text/plain": [
       "<Figure size 432x288 with 1 Axes>"
      ]
     },
     "metadata": {
      "needs_background": "light"
     },
     "output_type": "display_data"
    }
   ],
   "source": [
    "classifier_r = svm.SVC(kernel=\"rbf\", C=1000,gamma=0.01,probability=True)\n",
    "classifier_w = svm.SVC(kernel=\"rbf\", C=1000,gamma=0.01,probability=True)\n",
    "probsR = classifier_r.fit(X_train_r,Y_train_r).predict_proba(X_test_r)\n",
    "probsW = classifier_w.fit(X_train_w,Y_train_w).predict_proba(X_test_w)\n",
    "\n",
    "fprR, tprR, _ = roc_curve(Y_test_r, probsR[:, 1],pos_label=5)\n",
    "fprW, tprW, _ = roc_curve(Y_test_w, probsW[:, 1],pos_label=5)\n",
    "\n",
    "plt.plot(fprR,tprR,color='#FF0000')\n",
    "plt.plot(fprW,tprW,color='#C0C0C0')\n",
    "\n",
    "plt.xlabel('Especificidad')\n",
    "plt.ylabel('Sensitividad')\n",
    "plt.title('ROC curve')\n",
    "plt.legend(['Red Wine','White Wine'],loc='best')\n",
    "plt.show()\n"
   ]
  },
  {
   "cell_type": "markdown",
   "metadata": {},
   "source": [
    "#### Otra forma de calificar el modelo, es la curva de ROC, consistente en graficar  la sensibilidad frente a la especificidad."
   ]
  },
  {
   "cell_type": "markdown",
   "metadata": {},
   "source": [
    "# Regularization"
   ]
  },
  {
   "cell_type": "markdown",
   "metadata": {},
   "source": [
    "# Exercise 6.6\n",
    "\n",
    "\n",
    "* Train a linear regression to predict wine quality (Continous)\n",
    "\n",
    "* Analyze the coefficients\n",
    "\n",
    "* Evaluate the RMSE"
   ]
  },
  {
   "cell_type": "code",
   "execution_count": 11,
   "metadata": {},
   "outputs": [
    {
     "name": "stdout",
     "output_type": "stream",
     "text": [
      "RMSE(Red):\t 0.6484023298273927\n",
      "R^2:\t\t 0.3559266606996452\n",
      "\n",
      "RMSE(White):\t 0.769131828625235\n",
      "R^2:\t\t 0.2456072891766642\n"
     ]
    }
   ],
   "source": [
    "from sklearn.metrics import mean_absolute_error, mean_squared_error, mean_squared_log_error,r2_score\n",
    "from sklearn.linear_model import LinearRegression\n",
    "lmR = LinearRegression().fit(y=Y_train_r,X=X_train_r)\n",
    "predR = lmR.predict(X_test_r)\n",
    "\n",
    "print('RMSE(Red):\\t',np.sqrt(mean_squared_error(Y_test_r,predR)))\n",
    "print('R^2:\\t\\t',r2_score(Y_test_r, predR))\n",
    "\n",
    "lmW = LinearRegression().fit(y=Y_train_w,X=X_train_w)\n",
    "predW = lmW.predict(X_test_w)\n",
    "\n",
    "print('\\nRMSE(White):\\t',np.sqrt(mean_squared_error(Y_test_w,predW)))\n",
    "print('R^2:\\t\\t',r2_score(Y_test_w, predW))"
   ]
  },
  {
   "cell_type": "markdown",
   "metadata": {},
   "source": [
    "# Exercise 6.7\n",
    "\n",
    "* Estimate a ridge regression with alpha equals 0.1 and 1.\n",
    "* Compare the coefficients with the linear regression\n",
    "* Evaluate the RMSE"
   ]
  },
  {
   "cell_type": "code",
   "execution_count": 12,
   "metadata": {},
   "outputs": [
    {
     "name": "stdout",
     "output_type": "stream",
     "text": [
      "Regresion Ridge con alpha=0.1\n",
      "RMSE(Red):\t 0.6484015588806414\n",
      "R^2 (Red):\t 0.3559281922979458\n",
      "RMSE(White):\t 0.769131828625235\n",
      "R^2 (White):\t 0.2456072891766642\n",
      "\n",
      "Regresion Ridge con alpha=1\n",
      "RMSE(Red):\t 0.6483267395399567\n",
      "R^2 (Red):\t 0.35607682317974876\n",
      "RMSE(White):\t 0.7691682309487224\n",
      "R^2 (White):\t 0.24553587801841648\n"
     ]
    }
   ],
   "source": [
    "from sklearn.linear_model import Ridge\n",
    "\n",
    "lmodel_ridgeR = Ridge(alpha=0.01).fit(y=Y_train_r,X=X_train_r)\n",
    "predR = lmodel_ridgeR.predict(X_test_r)\n",
    "print('Regresion Ridge con alpha=0.1')\n",
    "print('RMSE(Red):\\t',np.sqrt(mean_squared_error(Y_test_r,predR)))\n",
    "print('R^2 (Red):\\t',r2_score(Y_test_r, predR))\n",
    "\n",
    "lmodel_ridgeW = Ridge(alpha=0.01).fit(y=Y_train_w,X=X_train_w)\n",
    "predR = lmodel_ridgeW.predict(X_test_w)\n",
    "print('RMSE(White):\\t',np.sqrt(mean_squared_error(Y_test_w,predW)))\n",
    "print('R^2 (White):\\t',r2_score(Y_test_w, predW))\n",
    "#------------------------------------------------------------------------------\n",
    "lmodel_ridgeR = Ridge(alpha=1).fit(y=Y_train_r,X=X_train_r)\n",
    "predR = lmodel_ridgeR.predict(X_test_r)\n",
    "print('\\nRegresion Ridge con alpha=1')\n",
    "print('RMSE(Red):\\t',np.sqrt(mean_squared_error(Y_test_r,predR)))\n",
    "print('R^2 (Red):\\t',r2_score(Y_test_r, predR))\n",
    "\n",
    "lmodel_ridgeW = Ridge(alpha=1).fit(y=Y_train_w,X=X_train_w)\n",
    "predW = lmodel_ridgeW.predict(X_test_w)\n",
    "print('RMSE(White):\\t',np.sqrt(mean_squared_error(Y_test_w,predW)))\n",
    "print('R^2 (White):\\t',r2_score(Y_test_w, predW))"
   ]
  },
  {
   "cell_type": "markdown",
   "metadata": {},
   "source": [
    "# Exercise 6.8\n",
    "\n",
    "* Estimate a lasso regression with alpha equals 0.01, 0.1 and 1.\n",
    "* Compare the coefficients with the linear regression\n",
    "* Evaluate the RMSE"
   ]
  },
  {
   "cell_type": "code",
   "execution_count": 13,
   "metadata": {},
   "outputs": [
    {
     "name": "stdout",
     "output_type": "stream",
     "text": [
      "Regresion Lasso alpha=0.01\n",
      "RMSE(Red):\t 0.6478802569244672\n",
      "R^2 (Red):\t 0.35696341782492114\n",
      "RMSE(White):\t 0.7735880562333644\n",
      "R^2 (White):\t 0.23684030227047304\n",
      "\n",
      "Regresion Lasso alpha=0.1\n",
      "RMSE(Red):\t 0.6693923019128994\n",
      "R^2 (Red):\t 0.3135520438748258\n",
      "RMSE(White):\t 0.8002918806123217\n",
      "R^2 (White):\t 0.18324324100031864\n",
      "\n",
      "Regresion Lasso alpha=1\n",
      "RMSE(Red):\t 0.8088213109338611\n",
      "R^2 (Red):\t -0.00219298890918207\n",
      "RMSE(White):\t 0.8860575294227161\n",
      "R^2 (White):\t -0.0011974998455268615\n"
     ]
    }
   ],
   "source": [
    "from sklearn.linear_model import Lasso\n",
    "#---------------------------------------------------------------------------\n",
    "lmodel_lassoR = Lasso(alpha=0.01).fit(y=Y_train_r,X=X_train_r)\n",
    "predR = lmodel_lassoR.predict(X_test_r)\n",
    "print('Regresion Lasso alpha=0.01')\n",
    "print('RMSE(Red):\\t',np.sqrt(mean_squared_error(Y_test_r,predR)))\n",
    "print('R^2 (Red):\\t',r2_score(Y_test_r,predR))\n",
    "\n",
    "lmodel_lassoW = Lasso(alpha=0.01).fit(y=Y_train_w,X=X_train_w)\n",
    "predW = lmodel_lassoW.predict(X_test_w)\n",
    "print('RMSE(White):\\t',np.sqrt(mean_squared_error(Y_test_w,predW)))\n",
    "print('R^2 (White):\\t',r2_score(Y_test_w,predW))\n",
    "#------------------------------------------------------------------------------\n",
    "lmodel_lassoR = Lasso(alpha=0.1).fit(y=Y_train_r,X=X_train_r)\n",
    "predR = lmodel_lassoR.predict(X_test_r)\n",
    "print('\\nRegresion Lasso alpha=0.1')\n",
    "print('RMSE(Red):\\t',np.sqrt(mean_squared_error(Y_test_r,predR)))\n",
    "print('R^2 (Red):\\t',r2_score(Y_test_r,predR))\n",
    "\n",
    "lmodel_lassoW = Lasso(alpha=0.1).fit(y=Y_train_w,X=X_train_w)\n",
    "predW = lmodel_lassoW.predict(X_test_w)\n",
    "print('RMSE(White):\\t',np.sqrt(mean_squared_error(Y_test_w,predW)))\n",
    "print('R^2 (White):\\t',r2_score(Y_test_w,predW))\n",
    "\n",
    "#------------------------------------------------------------------------------\n",
    "lmodel_lassoR = Lasso(alpha=1).fit(y=Y_train_r,X=X_train_r)\n",
    "predR = lmodel_lassoR.predict(X_test_r)\n",
    "print('\\nRegresion Lasso alpha=1')\n",
    "print('RMSE(Red):\\t',np.sqrt(mean_squared_error(Y_test_r,predR)))\n",
    "print('R^2 (Red):\\t',r2_score(Y_test_r, predR))\n",
    "\n",
    "lmodel_lassoW = Lasso(alpha=1).fit(y=Y_train_w,X=X_train_w)\n",
    "predW = lmodel_lassoW.predict(X_test_w)\n",
    "print('RMSE(White):\\t',np.sqrt(mean_squared_error(Y_test_w,predW)))\n",
    "print('R^2 (White):\\t',r2_score(Y_test_w, predW))"
   ]
  },
  {
   "cell_type": "markdown",
   "metadata": {},
   "source": [
    "#### El mejor R^2, corresponde al modelo Lasso con Alpha 0.01"
   ]
  },
  {
   "cell_type": "markdown",
   "metadata": {},
   "source": [
    "# Exercise 6.9\n",
    "\n",
    "* Create a binary target\n",
    "\n",
    "* Train a logistic regression to predict wine quality (binary)\n",
    "\n",
    "* Analyze the coefficients\n",
    "\n",
    "* Evaluate the f1score"
   ]
  },
  {
   "cell_type": "code",
   "execution_count": 14,
   "metadata": {},
   "outputs": [
    {
     "name": "stdout",
     "output_type": "stream",
     "text": [
      "Accuracy White: 0.7319727891156462\n",
      "Accuracy Red: 0.7520833333333333\n"
     ]
    },
    {
     "data": {
      "image/png": "[encoded data removed]",
      "text/plain": [
       "<Figure size 432x288 with 1 Axes>"
      ]
     },
     "metadata": {
      "needs_background": "light"
     },
     "output_type": "display_data"
    }
   ],
   "source": [
    "Y_testB_r,Y_trainB_r = np.where( pd.DataFrame(Y_test_r)['quality'] < 6 , 0 , 1 ), np.where( pd.DataFrame(Y_train_r)['quality'] < 6 , 0 , 1 )\n",
    "Y_testB_w,Y_trainB_w = np.where( pd.DataFrame(Y_test_w)['quality'] < 6 , 0 , 1 ), np.where( pd.DataFrame(Y_train_w)['quality'] < 6 , 0 , 1 )\n",
    "\n",
    "from sklearn.linear_model import LogisticRegression\n",
    "\n",
    "lmodel_logisticW = LogisticRegression(random_state=0, solver='lbfgs').fit(y=Y_trainB_w,X=X_train_w)\n",
    "predW = lmodel_logisticW.predict(X_test_w)\n",
    "print('Accuracy White:',accuracy_score(Y_testB_w,  predW))\n",
    "\n",
    "lmodel_ligisticR = LogisticRegression(random_state=0, solver='lbfgs').fit(y=Y_trainB_r,X=X_train_r)\n",
    "predR = lmodel_ligisticR.predict(X_test_r)\n",
    "print('Accuracy Red:',accuracy_score(Y_testB_r,  predR))\n",
    "\n",
    "\n",
    "probsR = classifier_r.fit(X_train_r,Y_trainB_r).predict_proba(X_test_r)\n",
    "probsW = classifier_w.fit(X_train_w,Y_trainB_w).predict_proba(X_test_w)\n",
    "\n",
    "\n",
    "fprR, tprR, _ = roc_curve(Y_testB_r, probsR[:, 1],pos_label=1)\n",
    "fprW, tprW, _ = roc_curve(Y_testB_w, probsW[:, 1],pos_label=1)\n",
    "\n",
    "plt.plot(fprR,tprR,color='#FF0000')\n",
    "plt.plot(fprW,tprW,color='#C0C0C0')\n",
    "\n",
    "plt.xlabel('Especificidad')\n",
    "plt.ylabel('Sensitividad')\n",
    "plt.title('ROC curve')\n",
    "plt.legend(['Red Wine','White Wine'],loc='best')\n",
    "plt.show()\n"
   ]
  },
  {
   "cell_type": "markdown",
   "metadata": {},
   "source": [
    "#### El accuracy eneste modelo, mejora respecto a los anteriores, lo que tambié se evidencia en la  curva de ROC"
   ]
  },
  {
   "cell_type": "markdown",
   "metadata": {},
   "source": [
    "# Exercise 6.10\n",
    "\n",
    "* Estimate a regularized logistic regression using:\n",
    "* C = 0.01, 0.1 & 1.0\n",
    "* penalty = ['l1, 'l2']\n",
    "* Compare the coefficients and the f1score"
   ]
  },
  {
   "cell_type": "code",
   "execution_count": 15,
   "metadata": {},
   "outputs": [
    {
     "name": "stdout",
     "output_type": "stream",
     "text": [
      "Accuracy Red: C= 0.01  Penalty= l1 0.7104166666666667\n",
      "Accuracy Red: C= 0.01  Penalty= l2 0.7375\n",
      "Accuracy Red: C= 0.1  Penalty= l1 0.7375\n",
      "Accuracy Red: C= 0.1  Penalty= l2 0.7375\n",
      "Accuracy Red: C= 1.0  Penalty= l1 0.7541666666666667\n",
      "Accuracy Red: C= 1.0  Penalty= l2 0.7520833333333333\n",
      "The best Accuracy for Red Wines is \u001b[1m0.7541666666666667\u001b[0m With C=1.0 and penalty=l1 \n",
      "\n",
      "Accuracy White: C= 0.01  Penalty= l1 0.7163265306122449\n",
      "Accuracy White: C= 0.01  Penalty= l2 0.726530612244898\n",
      "Accuracy White: C= 0.1  Penalty= l1 0.7306122448979592\n",
      "Accuracy White: C= 0.1  Penalty= l2 0.726530612244898\n",
      "Accuracy White: C= 1.0  Penalty= l1 0.7326530612244898\n",
      "Accuracy White: C= 1.0  Penalty= l2 0.7319727891156462\n",
      "The best Accuracy for White wines is \u001b[1m0.7326530612244898\u001b[0m With C=1.0 and penalty=l1\n"
     ]
    }
   ],
   "source": [
    "valsC =[0.01,0.1,1.0]\n",
    "valsPenalty=['l1','l2']\n",
    "\n",
    "bestR=0\n",
    "text=''\n",
    "\n",
    "for valC in valsC:\n",
    "    for valPenalty in valsPenalty:\n",
    "        lmodel_logisticR = LogisticRegression(solver='liblinear',random_state=0, C=valC,penalty=valPenalty).fit(y=Y_trainB_r,X=X_train_r)\n",
    "        predR = lmodel_logisticR.predict(X_test_r)\n",
    "        print('Accuracy Red: C=',valC,' Penalty=',valPenalty,accuracy_score(Y_testB_r,  predR))\n",
    "        if bestR < accuracy_score(Y_testB_r,  predR):\n",
    "            bestR = accuracy_score(Y_testB_r,  predR)\n",
    "            text = 'The best Accuracy for Red Wines is ' + '\\033[1m' +str(bestR) + '\\033[0m' + ' With C=' + str(valC) + ' and penalty=' + valPenalty\n",
    "        \n",
    "print(text,'\\n')\n",
    "\n",
    "\n",
    "bestW=0\n",
    "text=''\n",
    "for valC in valsC:\n",
    "    for valPenalty in valsPenalty:\n",
    "        lmodel_logisticW = LogisticRegression(solver='liblinear',random_state=0, C=valC,penalty=valPenalty).fit(y=Y_trainB_w,X=X_train_w)\n",
    "        predW = lmodel_logisticW.predict(X_test_w)\n",
    "        print('Accuracy White: C=',valC,' Penalty=',valPenalty,accuracy_score(Y_testB_w,  predW))\n",
    "        if bestW < accuracy_score(Y_testB_w,  predW):\n",
    "            bestW = accuracy_score(Y_testB_w,  predW)\n",
    "            text = 'The best Accuracy for White wines is ' + '\\033[1m' +str(bestW) + '\\033[0m' + ' With C=' + str(valC) + ' and penalty=' + valPenalty\n",
    "print(text)\n"
   ]
  },
  {
   "cell_type": "code",
   "execution_count": null,
   "metadata": {},
   "outputs": [],
   "source": []
  }
 ],
 "metadata": {
  "kernelspec": {
   "display_name": "Python 3",
   "language": "python",
   "name": "python3"
  },
  "language_info": {
   "codemirror_mode": {
    "name": "ipython",
    "version": 3
   },
   "file_extension": ".py",
   "mimetype": "text/x-python",
   "name": "python",
   "nbconvert_exporter": "python",
   "pygments_lexer": "ipython3",
   "version": "3.7.1"
  }
 },
 "nbformat": 4,
 "nbformat_minor": 1
}
