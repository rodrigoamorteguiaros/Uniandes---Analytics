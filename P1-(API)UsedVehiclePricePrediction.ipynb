{
  "nbformat": 4,
  "nbformat_minor": 0,
  "metadata": {
    "colab": {
      "name": "Untitled6.ipynb",
      "version": "0.3.2",
      "provenance": []
    },
    "kernelspec": {
      "name": "python3",
      "display_name": "Python 3"
    }
  },
  "cells": [
    {
      "metadata": {
        "id": "Wq7VY0xpdteJ",
        "colab_type": "text"
      },
      "cell_type": "markdown",
      "source": [
        "# Project 1\n",
        "\n",
        "# Used Vehicle Price Prediction"
      ]
    },
    {
      "metadata": {
        "id": "ZobUm4Ihd6HL",
        "colab_type": "text"
      },
      "cell_type": "markdown",
      "source": [
        "Jeimmy Rocio Espinel - Codigo: 201628049\n",
        "\n",
        "Ferney Rincon - Codigo:201728024\n",
        "\n",
        "Rodrigo Amortegui - Codigo:199827026¶"
      ]
    },
    {
      "metadata": {
        "id": "yx-3JMNzeAs1",
        "colab_type": "text"
      },
      "cell_type": "markdown",
      "source": [
        "**1. Módulo para cargar el modelo**"
      ]
    },
    {
      "metadata": {
        "id": "4MEfEAHEeHy9",
        "colab_type": "code",
        "colab": {}
      },
      "cell_type": "code",
      "source": [
        "import pandas as pd\n",
        "from sklearn.externals import joblib\n",
        "import sys"
      ],
      "execution_count": 0,
      "outputs": []
    },
    {
      "metadata": {
        "id": "g4ZWXYKReRnw",
        "colab_type": "code",
        "colab": {}
      },
      "cell_type": "code",
      "source": [
        "def predict(arreglo):\n",
        "    clf = joblib.load('bestModel2.pkl')   # Se invoca el modelo con el mejor resultado \n",
        "    p1 = clf.predict(arreglo)\n",
        "    return p1"
      ],
      "execution_count": 0,
      "outputs": []
    },
    {
      "metadata": {
        "id": "tPAmtt3LeTJj",
        "colab_type": "text"
      },
      "cell_type": "markdown",
      "source": [
        "**2. Módulo para crear el Server Flask**"
      ]
    },
    {
      "metadata": {
        "id": "O3Wm7KnweejA",
        "colab_type": "code",
        "colab": {}
      },
      "cell_type": "code",
      "source": [
        "#!pip install flask-restplus\n",
        "import pandas as pd\n",
        "\n",
        "from flask import Flask\n",
        "from flask_restplus import Api, Resource, fields\n",
        "from sklearn.externals import joblib\n",
        "from model_deployment import predict"
      ],
      "execution_count": 0,
      "outputs": []
    },
    {
      "metadata": {
        "id": "GwzIXUMfeiyY",
        "colab_type": "code",
        "colab": {}
      },
      "cell_type": "code",
      "source": [
        "app = Flask(__name__)\n",
        "\n",
        "api = Api(\n",
        "    app,\n",
        "    version='1.0',\n",
        "    title='Predicción precios autos',\n",
        "    description='API de prueba para predecir precios de autos')\n",
        "\n",
        "ns = api.namespace('predict',\n",
        "     description='Predicción precios')\n",
        "\n",
        "parser = api.parser()\n",
        "\n",
        "#Se crean los parámetros de Entrada  \n",
        "parser.add_argument('Year', type=int, required=True, help='Año(modelo auto)',location='args')\n",
        "parser.add_argument('Mileage', type=int, required=True, help='Millas',location='args')\n",
        "parser.add_argument('State', type=str, required=True, help='Estado',location='args')\n",
        "parser.add_argument('Make', type=str, required=True, help='Marca',location='args')\n",
        "parser.add_argument('Model', type=str, required=True, help='Modelo',location='args')\n",
        "\n",
        "\n",
        "resource_fields = api.model('Resource', {\n",
        "    'result': fields.String,\n",
        "})"
      ],
      "execution_count": 0,
      "outputs": []
    },
    {
      "metadata": {
        "id": "JWsv2PVYepVH",
        "colab_type": "code",
        "colab": {}
      },
      "cell_type": "code",
      "source": [
        "@ns.route('/')\n",
        "class PhishingApi(Resource):\n",
        "\n",
        "    @api.doc(parser=parser)\n",
        "    @api.marshal_with(resource_fields)\n",
        "    def get(self):\n",
        "        args = parser.parse_args()\n",
        "\n",
        "        listArg = list();\n",
        "        listArg.append(args['Year'])\n",
        "        listArg.append(args['Mileage'])\n",
        "\n",
        "        marcas = pd.read_csv('marcas.csv')\n",
        "        modelos = pd.read_csv('modelos.csv')\n",
        "\n",
        "        existeMarca=False\n",
        "        existeModelo=False\n",
        "\n",
        "        for i in range(0, len(modelos)):\n",
        "            if(modelos.iloc[i]['0']==args['Model']):\n",
        "                listArg.append(1)\n",
        "                existeModelo=True\n",
        "            else:\n",
        "                listArg.append(0)\n",
        "\n",
        "        for i in range(0, len(marcas)):\n",
        "            if (marcas.iloc[i]['0']==args['Make']):\n",
        "                listArg.append(1)\n",
        "                existeMarca=True\n",
        "            else:\n",
        "                listArg.append(0)\n",
        "\n",
        "        if(existeModelo and existeMarca):\n",
        "            return {\"result\": predict([listArg])},200\n",
        "        else:\n",
        "            return {\"result\": 'Marca o Modelo no existe en la base de datos'},200"
      ],
      "execution_count": 0,
      "outputs": []
    },
    {
      "metadata": {
        "id": "m9-R3wOjeuFc",
        "colab_type": "text"
      },
      "cell_type": "markdown",
      "source": [
        "**Carga el servidor**"
      ]
    },
    {
      "metadata": {
        "id": "DMT1DniZey82",
        "colab_type": "code",
        "colab": {}
      },
      "cell_type": "code",
      "source": [
        "app.run(debug=True, use_reloader=False, host='0.0.0.0', port=5000)"
      ],
      "execution_count": 0,
      "outputs": []
    },
    {
      "metadata": {
        "id": "iUQkrU5de0Ha",
        "colab_type": "text"
      },
      "cell_type": "markdown",
      "source": [
        "**3. Ejemplo Funcionamiento**\n",
        "\n",
        "La API  se despliega en el servidor http://3.92.7.29:5000/"
      ]
    },
    {
      "metadata": {
        "id": "KY_MZRtLap2x",
        "colab_type": "text"
      },
      "cell_type": "markdown",
      "source": [
        "![texto alternativo](http://3.92.7.29/Img01.png)"
      ]
    },
    {
      "metadata": {
        "id": "e_7kIHGlfNmF",
        "colab_type": "text"
      },
      "cell_type": "markdown",
      "source": [
        "Los parametros a diligenciar son 'Year', 'Mileage', 'State', 'Make' y 'Model'\n",
        "![texto alternativo](http://3.92.7.29/Img02.png)\n"
      ]
    },
    {
      "metadata": {
        "id": "g4WfdDcjfadp",
        "colab_type": "text"
      },
      "cell_type": "markdown",
      "source": [
        "La respuesta para los parámetros dados es 43771.50175782\n",
        "![texto alternativo](http://3.92.7.29/Img03.png)"
      ]
    }
  ]
}