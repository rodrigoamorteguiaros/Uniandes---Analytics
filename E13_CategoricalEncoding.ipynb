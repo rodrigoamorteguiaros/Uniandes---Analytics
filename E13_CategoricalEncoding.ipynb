{
  "nbformat": 4,
  "nbformat_minor": 0,
  "metadata": {
    "colab": {
      "name": "Copia de E13-CategoricalEncoding.ipynb",
      "version": "0.3.2",
      "provenance": [],
      "collapsed_sections": []
    },
    "kernelspec": {
      "display_name": "Python 3",
      "language": "python",
      "name": "python3"
    }
  },
  "cells": [
    {
      "metadata": {
        "id": "AGKdgqiZMK3S",
        "colab_type": "text"
      },
      "cell_type": "markdown",
      "source": [
        "# Exercise 13\n",
        "\n",
        "This particular Automobile Data Set includes a good mix of categorical values as well as continuous values and serves as a useful example that is relatively easy to understand. Since domain understanding is an important aspect when deciding how to encode various categorical values - this data set makes a good case study."
      ]
    },
    {
      "metadata": {
        "id": "2nW927JdMK3U",
        "colab_type": "text"
      },
      "cell_type": "markdown",
      "source": [
        "Read the data into Pandas"
      ]
    },
    {
      "metadata": {
        "id": "ViXVcpQUMK3W",
        "colab_type": "code",
        "outputId": "b0c3059e-361f-4106-824a-fd0223b50b0e",
        "colab": {
          "base_uri": "https://localhost:8080/",
          "height": 304
        }
      },
      "cell_type": "code",
      "source": [
        "import pandas as pd\n",
        "import numpy as np\n",
        "import matplotlib.pyplot as plt\n",
        "%matplotlib inline\n",
        "\n",
        "# Define the headers since the data does not have any\n",
        "headers = [\"symboling\", \"normalized_losses\", \"make\", \"fuel_type\", \"aspiration\",\n",
        "           \"num_doors\", \"body_style\", \"drive_wheels\", \"engine_location\",\n",
        "           \"wheel_base\", \"length\", \"width\", \"height\", \"curb_weight\",\n",
        "           \"engine_type\", \"num_cylinders\", \"engine_size\", \"fuel_system\",\n",
        "           \"bore\", \"stroke\", \"compression_ratio\", \"horsepower\", \"peak_rpm\",\n",
        "           \"city_mpg\", \"highway_mpg\", \"price\"]\n",
        "\n",
        "# Read in the CSV file and convert \"?\" to NaN\n",
        "df = pd.read_csv(\"http://mlr.cs.umass.edu/ml/machine-learning-databases/autos/imports-85.data\",\n",
        "                  header=None, names=headers, na_values=\"?\" )\n",
        "df.head()"
      ],
      "execution_count": 1,
      "outputs": [
        {
          "output_type": "execute_result",
          "data": {
            "text/html": [
              "<div>\n",
              "<style scoped>\n",
              "    .dataframe tbody tr th:only-of-type {\n",
              "        vertical-align: middle;\n",
              "    }\n",
              "\n",
              "    .dataframe tbody tr th {\n",
              "        vertical-align: top;\n",
              "    }\n",
              "\n",
              "    .dataframe thead th {\n",
              "        text-align: right;\n",
              "    }\n",
              "</style>\n",
              "<table border=\"1\" class=\"dataframe\">\n",
              "  <thead>\n",
              "    <tr style=\"text-align: right;\">\n",
              "      <th></th>\n",
              "      <th>symboling</th>\n",
              "      <th>normalized_losses</th>\n",
              "      <th>make</th>\n",
              "      <th>fuel_type</th>\n",
              "      <th>aspiration</th>\n",
              "      <th>num_doors</th>\n",
              "      <th>body_style</th>\n",
              "      <th>drive_wheels</th>\n",
              "      <th>engine_location</th>\n",
              "      <th>wheel_base</th>\n",
              "      <th>...</th>\n",
              "      <th>engine_size</th>\n",
              "      <th>fuel_system</th>\n",
              "      <th>bore</th>\n",
              "      <th>stroke</th>\n",
              "      <th>compression_ratio</th>\n",
              "      <th>horsepower</th>\n",
              "      <th>peak_rpm</th>\n",
              "      <th>city_mpg</th>\n",
              "      <th>highway_mpg</th>\n",
              "      <th>price</th>\n",
              "    </tr>\n",
              "  </thead>\n",
              "  <tbody>\n",
              "    <tr>\n",
              "      <th>0</th>\n",
              "      <td>3</td>\n",
              "      <td>NaN</td>\n",
              "      <td>alfa-romero</td>\n",
              "      <td>gas</td>\n",
              "      <td>std</td>\n",
              "      <td>two</td>\n",
              "      <td>convertible</td>\n",
              "      <td>rwd</td>\n",
              "      <td>front</td>\n",
              "      <td>88.6</td>\n",
              "      <td>...</td>\n",
              "      <td>130</td>\n",
              "      <td>mpfi</td>\n",
              "      <td>3.47</td>\n",
              "      <td>2.68</td>\n",
              "      <td>9.0</td>\n",
              "      <td>111.0</td>\n",
              "      <td>5000.0</td>\n",
              "      <td>21</td>\n",
              "      <td>27</td>\n",
              "      <td>13495.0</td>\n",
              "    </tr>\n",
              "    <tr>\n",
              "      <th>1</th>\n",
              "      <td>3</td>\n",
              "      <td>NaN</td>\n",
              "      <td>alfa-romero</td>\n",
              "      <td>gas</td>\n",
              "      <td>std</td>\n",
              "      <td>two</td>\n",
              "      <td>convertible</td>\n",
              "      <td>rwd</td>\n",
              "      <td>front</td>\n",
              "      <td>88.6</td>\n",
              "      <td>...</td>\n",
              "      <td>130</td>\n",
              "      <td>mpfi</td>\n",
              "      <td>3.47</td>\n",
              "      <td>2.68</td>\n",
              "      <td>9.0</td>\n",
              "      <td>111.0</td>\n",
              "      <td>5000.0</td>\n",
              "      <td>21</td>\n",
              "      <td>27</td>\n",
              "      <td>16500.0</td>\n",
              "    </tr>\n",
              "    <tr>\n",
              "      <th>2</th>\n",
              "      <td>1</td>\n",
              "      <td>NaN</td>\n",
              "      <td>alfa-romero</td>\n",
              "      <td>gas</td>\n",
              "      <td>std</td>\n",
              "      <td>two</td>\n",
              "      <td>hatchback</td>\n",
              "      <td>rwd</td>\n",
              "      <td>front</td>\n",
              "      <td>94.5</td>\n",
              "      <td>...</td>\n",
              "      <td>152</td>\n",
              "      <td>mpfi</td>\n",
              "      <td>2.68</td>\n",
              "      <td>3.47</td>\n",
              "      <td>9.0</td>\n",
              "      <td>154.0</td>\n",
              "      <td>5000.0</td>\n",
              "      <td>19</td>\n",
              "      <td>26</td>\n",
              "      <td>16500.0</td>\n",
              "    </tr>\n",
              "    <tr>\n",
              "      <th>3</th>\n",
              "      <td>2</td>\n",
              "      <td>164.0</td>\n",
              "      <td>audi</td>\n",
              "      <td>gas</td>\n",
              "      <td>std</td>\n",
              "      <td>four</td>\n",
              "      <td>sedan</td>\n",
              "      <td>fwd</td>\n",
              "      <td>front</td>\n",
              "      <td>99.8</td>\n",
              "      <td>...</td>\n",
              "      <td>109</td>\n",
              "      <td>mpfi</td>\n",
              "      <td>3.19</td>\n",
              "      <td>3.40</td>\n",
              "      <td>10.0</td>\n",
              "      <td>102.0</td>\n",
              "      <td>5500.0</td>\n",
              "      <td>24</td>\n",
              "      <td>30</td>\n",
              "      <td>13950.0</td>\n",
              "    </tr>\n",
              "    <tr>\n",
              "      <th>4</th>\n",
              "      <td>2</td>\n",
              "      <td>164.0</td>\n",
              "      <td>audi</td>\n",
              "      <td>gas</td>\n",
              "      <td>std</td>\n",
              "      <td>four</td>\n",
              "      <td>sedan</td>\n",
              "      <td>4wd</td>\n",
              "      <td>front</td>\n",
              "      <td>99.4</td>\n",
              "      <td>...</td>\n",
              "      <td>136</td>\n",
              "      <td>mpfi</td>\n",
              "      <td>3.19</td>\n",
              "      <td>3.40</td>\n",
              "      <td>8.0</td>\n",
              "      <td>115.0</td>\n",
              "      <td>5500.0</td>\n",
              "      <td>18</td>\n",
              "      <td>22</td>\n",
              "      <td>17450.0</td>\n",
              "    </tr>\n",
              "  </tbody>\n",
              "</table>\n",
              "<p>5 rows × 26 columns</p>\n",
              "</div>"
            ],
            "text/plain": [
              "   symboling  normalized_losses         make fuel_type aspiration num_doors  \\\n",
              "0          3                NaN  alfa-romero       gas        std       two   \n",
              "1          3                NaN  alfa-romero       gas        std       two   \n",
              "2          1                NaN  alfa-romero       gas        std       two   \n",
              "3          2              164.0         audi       gas        std      four   \n",
              "4          2              164.0         audi       gas        std      four   \n",
              "\n",
              "    body_style drive_wheels engine_location  wheel_base   ...     engine_size  \\\n",
              "0  convertible          rwd           front        88.6   ...             130   \n",
              "1  convertible          rwd           front        88.6   ...             130   \n",
              "2    hatchback          rwd           front        94.5   ...             152   \n",
              "3        sedan          fwd           front        99.8   ...             109   \n",
              "4        sedan          4wd           front        99.4   ...             136   \n",
              "\n",
              "   fuel_system  bore  stroke compression_ratio horsepower  peak_rpm city_mpg  \\\n",
              "0         mpfi  3.47    2.68               9.0      111.0    5000.0       21   \n",
              "1         mpfi  3.47    2.68               9.0      111.0    5000.0       21   \n",
              "2         mpfi  2.68    3.47               9.0      154.0    5000.0       19   \n",
              "3         mpfi  3.19    3.40              10.0      102.0    5500.0       24   \n",
              "4         mpfi  3.19    3.40               8.0      115.0    5500.0       18   \n",
              "\n",
              "   highway_mpg    price  \n",
              "0           27  13495.0  \n",
              "1           27  16500.0  \n",
              "2           26  16500.0  \n",
              "3           30  13950.0  \n",
              "4           22  17450.0  \n",
              "\n",
              "[5 rows x 26 columns]"
            ]
          },
          "metadata": {
            "tags": []
          },
          "execution_count": 1
        }
      ]
    },
    {
      "metadata": {
        "id": "NysM6QWlMK3e",
        "colab_type": "code",
        "outputId": "e8dbd638-00ed-46d1-c375-fd0e0d01081c",
        "colab": {
          "base_uri": "https://localhost:8080/",
          "height": 34
        }
      },
      "cell_type": "code",
      "source": [
        "df.shape"
      ],
      "execution_count": 2,
      "outputs": [
        {
          "output_type": "execute_result",
          "data": {
            "text/plain": [
              "(205, 26)"
            ]
          },
          "metadata": {
            "tags": []
          },
          "execution_count": 2
        }
      ]
    },
    {
      "metadata": {
        "id": "wyS3TM2XMK3n",
        "colab_type": "code",
        "outputId": "44e3d4b9-884b-45ae-ecd8-705d7bb6ab3d",
        "colab": {
          "base_uri": "https://localhost:8080/",
          "height": 476
        }
      },
      "cell_type": "code",
      "source": [
        "df.dtypes"
      ],
      "execution_count": 3,
      "outputs": [
        {
          "output_type": "execute_result",
          "data": {
            "text/plain": [
              "symboling              int64\n",
              "normalized_losses    float64\n",
              "make                  object\n",
              "fuel_type             object\n",
              "aspiration            object\n",
              "num_doors             object\n",
              "body_style            object\n",
              "drive_wheels          object\n",
              "engine_location       object\n",
              "wheel_base           float64\n",
              "length               float64\n",
              "width                float64\n",
              "height               float64\n",
              "curb_weight            int64\n",
              "engine_type           object\n",
              "num_cylinders         object\n",
              "engine_size            int64\n",
              "fuel_system           object\n",
              "bore                 float64\n",
              "stroke               float64\n",
              "compression_ratio    float64\n",
              "horsepower           float64\n",
              "peak_rpm             float64\n",
              "city_mpg               int64\n",
              "highway_mpg            int64\n",
              "price                float64\n",
              "dtype: object"
            ]
          },
          "metadata": {
            "tags": []
          },
          "execution_count": 3
        }
      ]
    },
    {
      "metadata": {
        "id": "U8_s-RUfMK3s",
        "colab_type": "code",
        "outputId": "2723ea99-b212-43aa-e8cc-252c22f8e670",
        "colab": {
          "base_uri": "https://localhost:8080/",
          "height": 204
        }
      },
      "cell_type": "code",
      "source": [
        "obj_df = df.select_dtypes(include=['object']).copy()\n",
        "obj_df.head()"
      ],
      "execution_count": 4,
      "outputs": [
        {
          "output_type": "execute_result",
          "data": {
            "text/html": [
              "<div>\n",
              "<style scoped>\n",
              "    .dataframe tbody tr th:only-of-type {\n",
              "        vertical-align: middle;\n",
              "    }\n",
              "\n",
              "    .dataframe tbody tr th {\n",
              "        vertical-align: top;\n",
              "    }\n",
              "\n",
              "    .dataframe thead th {\n",
              "        text-align: right;\n",
              "    }\n",
              "</style>\n",
              "<table border=\"1\" class=\"dataframe\">\n",
              "  <thead>\n",
              "    <tr style=\"text-align: right;\">\n",
              "      <th></th>\n",
              "      <th>make</th>\n",
              "      <th>fuel_type</th>\n",
              "      <th>aspiration</th>\n",
              "      <th>num_doors</th>\n",
              "      <th>body_style</th>\n",
              "      <th>drive_wheels</th>\n",
              "      <th>engine_location</th>\n",
              "      <th>engine_type</th>\n",
              "      <th>num_cylinders</th>\n",
              "      <th>fuel_system</th>\n",
              "    </tr>\n",
              "  </thead>\n",
              "  <tbody>\n",
              "    <tr>\n",
              "      <th>0</th>\n",
              "      <td>alfa-romero</td>\n",
              "      <td>gas</td>\n",
              "      <td>std</td>\n",
              "      <td>two</td>\n",
              "      <td>convertible</td>\n",
              "      <td>rwd</td>\n",
              "      <td>front</td>\n",
              "      <td>dohc</td>\n",
              "      <td>four</td>\n",
              "      <td>mpfi</td>\n",
              "    </tr>\n",
              "    <tr>\n",
              "      <th>1</th>\n",
              "      <td>alfa-romero</td>\n",
              "      <td>gas</td>\n",
              "      <td>std</td>\n",
              "      <td>two</td>\n",
              "      <td>convertible</td>\n",
              "      <td>rwd</td>\n",
              "      <td>front</td>\n",
              "      <td>dohc</td>\n",
              "      <td>four</td>\n",
              "      <td>mpfi</td>\n",
              "    </tr>\n",
              "    <tr>\n",
              "      <th>2</th>\n",
              "      <td>alfa-romero</td>\n",
              "      <td>gas</td>\n",
              "      <td>std</td>\n",
              "      <td>two</td>\n",
              "      <td>hatchback</td>\n",
              "      <td>rwd</td>\n",
              "      <td>front</td>\n",
              "      <td>ohcv</td>\n",
              "      <td>six</td>\n",
              "      <td>mpfi</td>\n",
              "    </tr>\n",
              "    <tr>\n",
              "      <th>3</th>\n",
              "      <td>audi</td>\n",
              "      <td>gas</td>\n",
              "      <td>std</td>\n",
              "      <td>four</td>\n",
              "      <td>sedan</td>\n",
              "      <td>fwd</td>\n",
              "      <td>front</td>\n",
              "      <td>ohc</td>\n",
              "      <td>four</td>\n",
              "      <td>mpfi</td>\n",
              "    </tr>\n",
              "    <tr>\n",
              "      <th>4</th>\n",
              "      <td>audi</td>\n",
              "      <td>gas</td>\n",
              "      <td>std</td>\n",
              "      <td>four</td>\n",
              "      <td>sedan</td>\n",
              "      <td>4wd</td>\n",
              "      <td>front</td>\n",
              "      <td>ohc</td>\n",
              "      <td>five</td>\n",
              "      <td>mpfi</td>\n",
              "    </tr>\n",
              "  </tbody>\n",
              "</table>\n",
              "</div>"
            ],
            "text/plain": [
              "          make fuel_type aspiration num_doors   body_style drive_wheels  \\\n",
              "0  alfa-romero       gas        std       two  convertible          rwd   \n",
              "1  alfa-romero       gas        std       two  convertible          rwd   \n",
              "2  alfa-romero       gas        std       two    hatchback          rwd   \n",
              "3         audi       gas        std      four        sedan          fwd   \n",
              "4         audi       gas        std      four        sedan          4wd   \n",
              "\n",
              "  engine_location engine_type num_cylinders fuel_system  \n",
              "0           front        dohc          four        mpfi  \n",
              "1           front        dohc          four        mpfi  \n",
              "2           front        ohcv           six        mpfi  \n",
              "3           front         ohc          four        mpfi  \n",
              "4           front         ohc          five        mpfi  "
            ]
          },
          "metadata": {
            "tags": []
          },
          "execution_count": 4
        }
      ]
    },
    {
      "metadata": {
        "id": "mQph1dYIMK30",
        "colab_type": "code",
        "outputId": "d721c3be-4c93-404a-972a-8b3bb8edf72c",
        "colab": {
          "base_uri": "https://localhost:8080/",
          "height": 34
        }
      },
      "cell_type": "code",
      "source": [
        "obj_df.shape"
      ],
      "execution_count": 5,
      "outputs": [
        {
          "output_type": "execute_result",
          "data": {
            "text/plain": [
              "(205, 10)"
            ]
          },
          "metadata": {
            "tags": []
          },
          "execution_count": 5
        }
      ]
    },
    {
      "metadata": {
        "id": "ek39sBDcMK34",
        "colab_type": "text"
      },
      "cell_type": "markdown",
      "source": [
        "# Exercise 13.1\n",
        "\n",
        "Does the database contain missing values? If so, replace them using one of the methods explained in class"
      ]
    },
    {
      "metadata": {
        "id": "6tyS82w0RlyH",
        "colab_type": "text"
      },
      "cell_type": "markdown",
      "source": [
        "**Se identifican las variables con valores Nulos**"
      ]
    },
    {
      "metadata": {
        "id": "usXLhcFZqqz4",
        "colab_type": "code",
        "outputId": "28a3287f-d251-4ae8-914d-32344d475fa1",
        "colab": {
          "base_uri": "https://localhost:8080/",
          "height": 153
        }
      },
      "cell_type": "code",
      "source": [
        "dfColsNa = df[df.columns[df.isna().any()]].isnull().sum()\n",
        "dfColsNa"
      ],
      "execution_count": 6,
      "outputs": [
        {
          "output_type": "execute_result",
          "data": {
            "text/plain": [
              "normalized_losses    41\n",
              "num_doors             2\n",
              "bore                  4\n",
              "stroke                4\n",
              "horsepower            2\n",
              "peak_rpm              2\n",
              "price                 4\n",
              "dtype: int64"
            ]
          },
          "metadata": {
            "tags": []
          },
          "execution_count": 6
        }
      ]
    },
    {
      "metadata": {
        "id": "57s-lLajR2DT",
        "colab_type": "text"
      },
      "cell_type": "markdown",
      "source": [
        "**Se identifican los tipos de datos para cada una de las variables con valores nulos**"
      ]
    },
    {
      "metadata": {
        "id": "161cf9gl5nC0",
        "colab_type": "code",
        "outputId": "f1753677-967d-4241-bf86-657b315cd851",
        "colab": {
          "base_uri": "https://localhost:8080/",
          "height": 136
        }
      },
      "cell_type": "code",
      "source": [
        "for col in dfColsNa.index:\n",
        "  print(col,':',df[col].dtypes)"
      ],
      "execution_count": 7,
      "outputs": [
        {
          "output_type": "stream",
          "text": [
            "normalized_losses : float64\n",
            "num_doors : object\n",
            "bore : float64\n",
            "stroke : float64\n",
            "horsepower : float64\n",
            "peak_rpm : float64\n",
            "price : float64\n"
          ],
          "name": "stdout"
        }
      ]
    },
    {
      "metadata": {
        "id": "c3lghOmq9jFF",
        "colab_type": "text"
      },
      "cell_type": "markdown",
      "source": [
        "#### Como ayuda adicional, se grafican la cantidad y el porcentaje de valores nulos dentro del dataframe"
      ]
    },
    {
      "metadata": {
        "id": "muKZ9o0HxpRp",
        "colab_type": "code",
        "outputId": "238bcf0f-9a15-4272-a737-9bf7cd191c57",
        "colab": {
          "base_uri": "https://localhost:8080/",
          "height": 257
        }
      },
      "cell_type": "code",
      "source": [
        "percentcount=[]\n",
        "labels=[]\n",
        "valuecount=[]\n",
        "for col in dfColsNa.index:\n",
        "  labels.append(col)\n",
        "  valuecount.append(df[col].isnull().sum() )\n",
        "  percentcount.append(df[col].isnull().sum() / df.shape[0])\n",
        "\n",
        "ind = np.arange(len(labels))\n",
        "\n",
        "fig, (ax1,ax2) = plt.subplots(1,2,figsize=(15,3))\n",
        "rects = ax1.barh(ind,np.array(valuecount), color='blue')\n",
        "ax1.set_yticks(ind)\n",
        "ax1.set_yticklabels(labels, rotation='horizontal')\n",
        "ax1.set_xlabel('Count of Missiong Values')\n",
        "ax1.set_title('Variables with missing values')\n",
        "\n",
        "rects = ax2.barh(ind,np.array(percentcount), color='red')\n",
        "ax2.set_yticks(ind)\n",
        "ax2.set_yticklabels(labels, rotation='horizontal')\n",
        "ax2.set_xlabel('Percentage of Missiong Values')\n",
        "ax2.set_title('Variables with missing values')"
      ],
      "execution_count": 8,
      "outputs": [
        {
          "output_type": "execute_result",
          "data": {
            "text/plain": [
              "Text(0.5, 1.0, 'Variables with missing values')"
            ]
          },
          "metadata": {
            "tags": []
          },
          "execution_count": 8
        },
        {
          "output_type": "display_data",
          "data": {
            "image/png": "[encoded data removed]",
            "text/plain": [
              "<Figure size 1080x216 with 2 Axes>"
            ]
          },
          "metadata": {
            "tags": []
          }
        }
      ]
    },
    {
      "metadata": {
        "id": "ajo6VIBFS_s0",
        "colab_type": "text"
      },
      "cell_type": "markdown",
      "source": [
        "#### Se analizan las observaciones que tienen NaN  en la variable num_doors"
      ]
    },
    {
      "metadata": {
        "id": "MtHim8wWqq9w",
        "colab_type": "code",
        "outputId": "b11e1b2b-e110-4125-8d64-3bd6be3cd47b",
        "colab": {
          "base_uri": "https://localhost:8080/",
          "height": 160
        }
      },
      "cell_type": "code",
      "source": [
        "df[df['num_doors'].isnull()]\n"
      ],
      "execution_count": 9,
      "outputs": [
        {
          "output_type": "execute_result",
          "data": {
            "text/html": [
              "<div>\n",
              "<style scoped>\n",
              "    .dataframe tbody tr th:only-of-type {\n",
              "        vertical-align: middle;\n",
              "    }\n",
              "\n",
              "    .dataframe tbody tr th {\n",
              "        vertical-align: top;\n",
              "    }\n",
              "\n",
              "    .dataframe thead th {\n",
              "        text-align: right;\n",
              "    }\n",
              "</style>\n",
              "<table border=\"1\" class=\"dataframe\">\n",
              "  <thead>\n",
              "    <tr style=\"text-align: right;\">\n",
              "      <th></th>\n",
              "      <th>symboling</th>\n",
              "      <th>normalized_losses</th>\n",
              "      <th>make</th>\n",
              "      <th>fuel_type</th>\n",
              "      <th>aspiration</th>\n",
              "      <th>num_doors</th>\n",
              "      <th>body_style</th>\n",
              "      <th>drive_wheels</th>\n",
              "      <th>engine_location</th>\n",
              "      <th>wheel_base</th>\n",
              "      <th>...</th>\n",
              "      <th>engine_size</th>\n",
              "      <th>fuel_system</th>\n",
              "      <th>bore</th>\n",
              "      <th>stroke</th>\n",
              "      <th>compression_ratio</th>\n",
              "      <th>horsepower</th>\n",
              "      <th>peak_rpm</th>\n",
              "      <th>city_mpg</th>\n",
              "      <th>highway_mpg</th>\n",
              "      <th>price</th>\n",
              "    </tr>\n",
              "  </thead>\n",
              "  <tbody>\n",
              "    <tr>\n",
              "      <th>27</th>\n",
              "      <td>1</td>\n",
              "      <td>148.0</td>\n",
              "      <td>dodge</td>\n",
              "      <td>gas</td>\n",
              "      <td>turbo</td>\n",
              "      <td>NaN</td>\n",
              "      <td>sedan</td>\n",
              "      <td>fwd</td>\n",
              "      <td>front</td>\n",
              "      <td>93.7</td>\n",
              "      <td>...</td>\n",
              "      <td>98</td>\n",
              "      <td>mpfi</td>\n",
              "      <td>3.03</td>\n",
              "      <td>3.39</td>\n",
              "      <td>7.6</td>\n",
              "      <td>102.0</td>\n",
              "      <td>5500.0</td>\n",
              "      <td>24</td>\n",
              "      <td>30</td>\n",
              "      <td>8558.0</td>\n",
              "    </tr>\n",
              "    <tr>\n",
              "      <th>63</th>\n",
              "      <td>0</td>\n",
              "      <td>NaN</td>\n",
              "      <td>mazda</td>\n",
              "      <td>diesel</td>\n",
              "      <td>std</td>\n",
              "      <td>NaN</td>\n",
              "      <td>sedan</td>\n",
              "      <td>fwd</td>\n",
              "      <td>front</td>\n",
              "      <td>98.8</td>\n",
              "      <td>...</td>\n",
              "      <td>122</td>\n",
              "      <td>idi</td>\n",
              "      <td>3.39</td>\n",
              "      <td>3.39</td>\n",
              "      <td>22.7</td>\n",
              "      <td>64.0</td>\n",
              "      <td>4650.0</td>\n",
              "      <td>36</td>\n",
              "      <td>42</td>\n",
              "      <td>10795.0</td>\n",
              "    </tr>\n",
              "  </tbody>\n",
              "</table>\n",
              "<p>2 rows × 26 columns</p>\n",
              "</div>"
            ],
            "text/plain": [
              "    symboling  normalized_losses   make fuel_type aspiration num_doors  \\\n",
              "27          1              148.0  dodge       gas      turbo       NaN   \n",
              "63          0                NaN  mazda    diesel        std       NaN   \n",
              "\n",
              "   body_style drive_wheels engine_location  wheel_base   ...     engine_size  \\\n",
              "27      sedan          fwd           front        93.7   ...              98   \n",
              "63      sedan          fwd           front        98.8   ...             122   \n",
              "\n",
              "    fuel_system  bore  stroke compression_ratio horsepower  peak_rpm city_mpg  \\\n",
              "27         mpfi  3.03    3.39               7.6      102.0    5500.0       24   \n",
              "63          idi  3.39    3.39              22.7       64.0    4650.0       36   \n",
              "\n",
              "    highway_mpg    price  \n",
              "27           30   8558.0  \n",
              "63           42  10795.0  \n",
              "\n",
              "[2 rows x 26 columns]"
            ]
          },
          "metadata": {
            "tags": []
          },
          "execution_count": 9
        }
      ]
    },
    {
      "metadata": {
        "id": "JVO2L3s-TudW",
        "colab_type": "text"
      },
      "cell_type": "markdown",
      "source": [
        "##### Se crea tabla para identificar cuantos valores de cada categoría num_doors existen en la BD"
      ]
    },
    {
      "metadata": {
        "id": "VOrVGmnZRFoe",
        "colab_type": "code",
        "outputId": "e01e3998-89f0-43d2-cc22-6cd37dc51594",
        "colab": {
          "base_uri": "https://localhost:8080/",
          "height": 85
        }
      },
      "cell_type": "code",
      "source": [
        "df.groupby('num_doors').size()"
      ],
      "execution_count": 10,
      "outputs": [
        {
          "output_type": "execute_result",
          "data": {
            "text/plain": [
              "num_doors\n",
              "four    114\n",
              "two      89\n",
              "dtype: int64"
            ]
          },
          "metadata": {
            "tags": []
          },
          "execution_count": 10
        }
      ]
    },
    {
      "metadata": {
        "id": "RUvJjrO_UJ8M",
        "colab_type": "text"
      },
      "cell_type": "markdown",
      "source": [
        "##### Se completamn los valores NaN de num_doors con el valor \"two\""
      ]
    },
    {
      "metadata": {
        "id": "8GUk3eKjUla3",
        "colab_type": "code",
        "colab": {}
      },
      "cell_type": "code",
      "source": [
        "df['num_doors'].fillna('two',inplace=True)"
      ],
      "execution_count": 0,
      "outputs": []
    },
    {
      "metadata": {
        "id": "bfR4yjmsXpSy",
        "colab_type": "text"
      },
      "cell_type": "markdown",
      "source": [
        "#### Se analizan las observaciones que tienen NaN  en la variable normalized_losses"
      ]
    },
    {
      "metadata": {
        "id": "WpJAcLgSZVZw",
        "colab_type": "code",
        "outputId": "3f3bbabd-d9a5-4003-b3ef-441a24e80b93",
        "colab": {
          "base_uri": "https://localhost:8080/",
          "height": 170
        }
      },
      "cell_type": "code",
      "source": [
        "df['normalized_losses'][df['normalized_losses'].notnull()].describe()"
      ],
      "execution_count": 12,
      "outputs": [
        {
          "output_type": "execute_result",
          "data": {
            "text/plain": [
              "count    164.000000\n",
              "mean     122.000000\n",
              "std       35.442168\n",
              "min       65.000000\n",
              "25%       94.000000\n",
              "50%      115.000000\n",
              "75%      150.000000\n",
              "max      256.000000\n",
              "Name: normalized_losses, dtype: float64"
            ]
          },
          "metadata": {
            "tags": []
          },
          "execution_count": 12
        }
      ]
    },
    {
      "metadata": {
        "id": "fjqiwWVZ5v_a",
        "colab_type": "code",
        "colab": {}
      },
      "cell_type": "code",
      "source": [
        "df['normalized_losses'].fillna(df['normalized_losses'].mean(),inplace=True)"
      ],
      "execution_count": 0,
      "outputs": []
    },
    {
      "metadata": {
        "id": "Vv0LMq2X6n0O",
        "colab_type": "text"
      },
      "cell_type": "markdown",
      "source": [
        "#### Se analizan las observaciones que tienen NaN  en la variable bore"
      ]
    },
    {
      "metadata": {
        "id": "nyH_d1qWY5oj",
        "colab_type": "code",
        "outputId": "a609640a-f1bc-4933-f347-0b721aeb8de1",
        "colab": {
          "base_uri": "https://localhost:8080/",
          "height": 170
        }
      },
      "cell_type": "code",
      "source": [
        "df['bore'][df['bore'].notnull()].describe()"
      ],
      "execution_count": 14,
      "outputs": [
        {
          "output_type": "execute_result",
          "data": {
            "text/plain": [
              "count    201.000000\n",
              "mean       3.329751\n",
              "std        0.273539\n",
              "min        2.540000\n",
              "25%        3.150000\n",
              "50%        3.310000\n",
              "75%        3.590000\n",
              "max        3.940000\n",
              "Name: bore, dtype: float64"
            ]
          },
          "metadata": {
            "tags": []
          },
          "execution_count": 14
        }
      ]
    },
    {
      "metadata": {
        "id": "u4tcIQNQ6vAM",
        "colab_type": "code",
        "colab": {}
      },
      "cell_type": "code",
      "source": [
        "df['bore'].fillna(df['bore'].mean(),inplace=True)"
      ],
      "execution_count": 0,
      "outputs": []
    },
    {
      "metadata": {
        "id": "kxod08vt61Zh",
        "colab_type": "text"
      },
      "cell_type": "markdown",
      "source": [
        "#### Se analizan las observaciones que tienen NaN  en la variable stroke "
      ]
    },
    {
      "metadata": {
        "id": "y-p2FidvBvWb",
        "colab_type": "code",
        "outputId": "26c1012e-fc0e-46e5-d36a-04905bab68be",
        "colab": {
          "base_uri": "https://localhost:8080/",
          "height": 170
        }
      },
      "cell_type": "code",
      "source": [
        "df['stroke'][df['stroke'].notnull()].describe()"
      ],
      "execution_count": 16,
      "outputs": [
        {
          "output_type": "execute_result",
          "data": {
            "text/plain": [
              "count    201.000000\n",
              "mean       3.255423\n",
              "std        0.316717\n",
              "min        2.070000\n",
              "25%        3.110000\n",
              "50%        3.290000\n",
              "75%        3.410000\n",
              "max        4.170000\n",
              "Name: stroke, dtype: float64"
            ]
          },
          "metadata": {
            "tags": []
          },
          "execution_count": 16
        }
      ]
    },
    {
      "metadata": {
        "id": "1NaMTHTDqrCh",
        "colab_type": "code",
        "colab": {}
      },
      "cell_type": "code",
      "source": [
        "df['stroke'].fillna(df['stroke'].mean(),inplace=True)"
      ],
      "execution_count": 0,
      "outputs": []
    },
    {
      "metadata": {
        "id": "migPdFbH7axZ",
        "colab_type": "text"
      },
      "cell_type": "markdown",
      "source": [
        "#### Se analizan las observaciones que tienen NaN  en la variable horsepower "
      ]
    },
    {
      "metadata": {
        "id": "mQrN7_Ru7QuW",
        "colab_type": "code",
        "outputId": "62df1019-46f4-4040-ef07-f1854f751c33",
        "colab": {
          "base_uri": "https://localhost:8080/",
          "height": 170
        }
      },
      "cell_type": "code",
      "source": [
        "df['horsepower'][df['horsepower'].notnull()].describe()"
      ],
      "execution_count": 18,
      "outputs": [
        {
          "output_type": "execute_result",
          "data": {
            "text/plain": [
              "count    203.000000\n",
              "mean     104.256158\n",
              "std       39.714369\n",
              "min       48.000000\n",
              "25%       70.000000\n",
              "50%       95.000000\n",
              "75%      116.000000\n",
              "max      288.000000\n",
              "Name: horsepower, dtype: float64"
            ]
          },
          "metadata": {
            "tags": []
          },
          "execution_count": 18
        }
      ]
    },
    {
      "metadata": {
        "id": "QJ2xoypt7Q2q",
        "colab_type": "code",
        "colab": {}
      },
      "cell_type": "code",
      "source": [
        "df['horsepower'].fillna(df['horsepower'].mean(),inplace=True)"
      ],
      "execution_count": 0,
      "outputs": []
    },
    {
      "metadata": {
        "id": "2bGw5xMp8Aif",
        "colab_type": "text"
      },
      "cell_type": "markdown",
      "source": [
        "#### Se analizan las observaciones que tienen NaN  en la variable peak_rpm "
      ]
    },
    {
      "metadata": {
        "id": "jxmJ_Cct7Q6Q",
        "colab_type": "code",
        "outputId": "43a399ef-5179-4030-ed27-f7826c249d72",
        "colab": {
          "base_uri": "https://localhost:8080/",
          "height": 170
        }
      },
      "cell_type": "code",
      "source": [
        "df['peak_rpm'][df['peak_rpm'].notnull()].describe()"
      ],
      "execution_count": 20,
      "outputs": [
        {
          "output_type": "execute_result",
          "data": {
            "text/plain": [
              "count     203.000000\n",
              "mean     5125.369458\n",
              "std       479.334560\n",
              "min      4150.000000\n",
              "25%      4800.000000\n",
              "50%      5200.000000\n",
              "75%      5500.000000\n",
              "max      6600.000000\n",
              "Name: peak_rpm, dtype: float64"
            ]
          },
          "metadata": {
            "tags": []
          },
          "execution_count": 20
        }
      ]
    },
    {
      "metadata": {
        "id": "CxIhdtD_7RDU",
        "colab_type": "code",
        "colab": {}
      },
      "cell_type": "code",
      "source": [
        "df['peak_rpm'].fillna(df['peak_rpm'].mean(),inplace=True)"
      ],
      "execution_count": 0,
      "outputs": []
    },
    {
      "metadata": {
        "id": "UQV7SeMg823i",
        "colab_type": "text"
      },
      "cell_type": "markdown",
      "source": [
        "#### Se analizan las observaciones que tienen NaN  en la variable price"
      ]
    },
    {
      "metadata": {
        "id": "MbueTIBm7RHc",
        "colab_type": "code",
        "outputId": "ac227b44-329f-440f-eb70-4d7f193abe53",
        "colab": {
          "base_uri": "https://localhost:8080/",
          "height": 170
        }
      },
      "cell_type": "code",
      "source": [
        "df['price'][df['price'].notnull()].describe()"
      ],
      "execution_count": 22,
      "outputs": [
        {
          "output_type": "execute_result",
          "data": {
            "text/plain": [
              "count      201.000000\n",
              "mean     13207.129353\n",
              "std       7947.066342\n",
              "min       5118.000000\n",
              "25%       7775.000000\n",
              "50%      10295.000000\n",
              "75%      16500.000000\n",
              "max      45400.000000\n",
              "Name: price, dtype: float64"
            ]
          },
          "metadata": {
            "tags": []
          },
          "execution_count": 22
        }
      ]
    },
    {
      "metadata": {
        "id": "zWuG-c9u7RK-",
        "colab_type": "code",
        "colab": {}
      },
      "cell_type": "code",
      "source": [
        "df['price'].fillna(df['price'].mean(),inplace=True)"
      ],
      "execution_count": 0,
      "outputs": []
    },
    {
      "metadata": {
        "id": "qxFL40U8-GLg",
        "colab_type": "text"
      },
      "cell_type": "markdown",
      "source": [
        "#### Se valida nuevamente la existencia de valores nulos"
      ]
    },
    {
      "metadata": {
        "id": "aC6Q_nWf7ROr",
        "colab_type": "code",
        "outputId": "93064ca3-38e9-4b8b-fe1b-dd384ca8a28f",
        "colab": {
          "base_uri": "https://localhost:8080/",
          "height": 34
        }
      },
      "cell_type": "code",
      "source": [
        "dfColsNa = df[df.columns[df.isna().any()]].isnull().sum()\n",
        "dfColsNa"
      ],
      "execution_count": 24,
      "outputs": [
        {
          "output_type": "execute_result",
          "data": {
            "text/plain": [
              "Series([], dtype: float64)"
            ]
          },
          "metadata": {
            "tags": []
          },
          "execution_count": 24
        }
      ]
    },
    {
      "metadata": {
        "id": "_ocwdNoMMK39",
        "colab_type": "text"
      },
      "cell_type": "markdown",
      "source": [
        "# Exercise 13.2\n",
        "\n",
        "Split the data into training and testing sets\n",
        "\n",
        "Train a Random Forest Regressor to predict the price of a car using the nominal features"
      ]
    },
    {
      "metadata": {
        "id": "UMyADzWTwysK",
        "colab_type": "code",
        "colab": {}
      },
      "cell_type": "code",
      "source": [
        "from sklearn.ensemble import RandomForestRegressor\n",
        "from sklearn.metrics import mean_squared_error\n",
        "from sklearn.model_selection import train_test_split\n",
        "\n",
        "regr = RandomForestRegressor(max_depth=15, random_state=0,n_estimators=1000)\n",
        "\n",
        "y = df['price']\n",
        "X = df.drop('price', axis=1)\n",
        "X_train_, X_test_, y_train, y_test = train_test_split(X, y, test_size=0.33, random_state=42)\n",
        "\n"
      ],
      "execution_count": 0,
      "outputs": []
    },
    {
      "metadata": {
        "id": "HDx24QzXMK3_",
        "colab_type": "code",
        "colab": {
          "base_uri": "https://localhost:8080/",
          "height": 119
        },
        "outputId": "232d4c16-cbad-4753-fedc-4f59b931fe2a"
      },
      "cell_type": "code",
      "source": [
        "X_train = X_train_.select_dtypes(include=['int64','float64']).copy()\n",
        "X_test = X_test_.select_dtypes(include=['int64','float64']).copy()\n",
        "regr.fit(X_train, y_train)"
      ],
      "execution_count": 26,
      "outputs": [
        {
          "output_type": "execute_result",
          "data": {
            "text/plain": [
              "RandomForestRegressor(bootstrap=True, criterion='mse', max_depth=15,\n",
              "           max_features='auto', max_leaf_nodes=None,\n",
              "           min_impurity_decrease=0.0, min_impurity_split=None,\n",
              "           min_samples_leaf=1, min_samples_split=2,\n",
              "           min_weight_fraction_leaf=0.0, n_estimators=1000, n_jobs=None,\n",
              "           oob_score=False, random_state=0, verbose=0, warm_start=False)"
            ]
          },
          "metadata": {
            "tags": []
          },
          "execution_count": 26
        }
      ]
    },
    {
      "metadata": {
        "id": "iqdjDYFn260U",
        "colab_type": "code",
        "colab": {
          "base_uri": "https://localhost:8080/",
          "height": 669
        },
        "outputId": "d1becd2c-3e3b-42c8-f2a3-93306232c11d"
      },
      "cell_type": "code",
      "source": [
        "dfResult = pd.DataFrame({'True':y_test})\n",
        "dfResult['NominalVars'] = regr.predict(X_test)\n",
        "\n",
        "dfResult.head(10)"
      ],
      "execution_count": 27,
      "outputs": [
        {
          "output_type": "execute_result",
          "data": {
            "text/html": [
              "<div>\n",
              "<style scoped>\n",
              "    .dataframe tbody tr th:only-of-type {\n",
              "        vertical-align: middle;\n",
              "    }\n",
              "\n",
              "    .dataframe tbody tr th {\n",
              "        vertical-align: top;\n",
              "    }\n",
              "\n",
              "    .dataframe thead th {\n",
              "        text-align: right;\n",
              "    }\n",
              "</style>\n",
              "<table border=\"1\" class=\"dataframe\">\n",
              "  <thead>\n",
              "    <tr style=\"text-align: right;\">\n",
              "      <th></th>\n",
              "      <th>True</th>\n",
              "      <th>NominalVars</th>\n",
              "    </tr>\n",
              "  </thead>\n",
              "  <tbody>\n",
              "    <tr>\n",
              "      <th>15</th>\n",
              "      <td>30760.000000</td>\n",
              "      <td>30542.612423</td>\n",
              "    </tr>\n",
              "    <tr>\n",
              "      <th>9</th>\n",
              "      <td>13207.129353</td>\n",
              "      <td>18828.229092</td>\n",
              "    </tr>\n",
              "    <tr>\n",
              "      <th>100</th>\n",
              "      <td>9549.000000</td>\n",
              "      <td>9028.210000</td>\n",
              "    </tr>\n",
              "    <tr>\n",
              "      <th>132</th>\n",
              "      <td>11850.000000</td>\n",
              "      <td>13782.061000</td>\n",
              "    </tr>\n",
              "    <tr>\n",
              "      <th>68</th>\n",
              "      <td>28248.000000</td>\n",
              "      <td>28116.891259</td>\n",
              "    </tr>\n",
              "    <tr>\n",
              "      <th>95</th>\n",
              "      <td>7799.000000</td>\n",
              "      <td>7113.996058</td>\n",
              "    </tr>\n",
              "    <tr>\n",
              "      <th>159</th>\n",
              "      <td>7788.000000</td>\n",
              "      <td>8130.126622</td>\n",
              "    </tr>\n",
              "    <tr>\n",
              "      <th>162</th>\n",
              "      <td>9258.000000</td>\n",
              "      <td>8065.112429</td>\n",
              "    </tr>\n",
              "    <tr>\n",
              "      <th>147</th>\n",
              "      <td>10198.000000</td>\n",
              "      <td>10065.560333</td>\n",
              "    </tr>\n",
              "    <tr>\n",
              "      <th>182</th>\n",
              "      <td>7775.000000</td>\n",
              "      <td>8460.832896</td>\n",
              "    </tr>\n",
              "    <tr>\n",
              "      <th>191</th>\n",
              "      <td>13295.000000</td>\n",
              "      <td>14404.617879</td>\n",
              "    </tr>\n",
              "    <tr>\n",
              "      <th>164</th>\n",
              "      <td>8238.000000</td>\n",
              "      <td>8011.933888</td>\n",
              "    </tr>\n",
              "    <tr>\n",
              "      <th>65</th>\n",
              "      <td>18280.000000</td>\n",
              "      <td>14073.495026</td>\n",
              "    </tr>\n",
              "    <tr>\n",
              "      <th>175</th>\n",
              "      <td>9988.000000</td>\n",
              "      <td>10842.469833</td>\n",
              "    </tr>\n",
              "    <tr>\n",
              "      <th>73</th>\n",
              "      <td>40960.000000</td>\n",
              "      <td>40077.977259</td>\n",
              "    </tr>\n",
              "    <tr>\n",
              "      <th>152</th>\n",
              "      <td>6488.000000</td>\n",
              "      <td>6443.438155</td>\n",
              "    </tr>\n",
              "    <tr>\n",
              "      <th>18</th>\n",
              "      <td>5151.000000</td>\n",
              "      <td>7878.600582</td>\n",
              "    </tr>\n",
              "    <tr>\n",
              "      <th>82</th>\n",
              "      <td>12629.000000</td>\n",
              "      <td>13881.009129</td>\n",
              "    </tr>\n",
              "    <tr>\n",
              "      <th>86</th>\n",
              "      <td>8189.000000</td>\n",
              "      <td>8295.275500</td>\n",
              "    </tr>\n",
              "    <tr>\n",
              "      <th>143</th>\n",
              "      <td>9960.000000</td>\n",
              "      <td>9413.746917</td>\n",
              "    </tr>\n",
              "  </tbody>\n",
              "</table>\n",
              "</div>"
            ],
            "text/plain": [
              "             True   NominalVars\n",
              "15   30760.000000  30542.612423\n",
              "9    13207.129353  18828.229092\n",
              "100   9549.000000   9028.210000\n",
              "132  11850.000000  13782.061000\n",
              "68   28248.000000  28116.891259\n",
              "95    7799.000000   7113.996058\n",
              "159   7788.000000   8130.126622\n",
              "162   9258.000000   8065.112429\n",
              "147  10198.000000  10065.560333\n",
              "182   7775.000000   8460.832896\n",
              "191  13295.000000  14404.617879\n",
              "164   8238.000000   8011.933888\n",
              "65   18280.000000  14073.495026\n",
              "175   9988.000000  10842.469833\n",
              "73   40960.000000  40077.977259\n",
              "152   6488.000000   6443.438155\n",
              "18    5151.000000   7878.600582\n",
              "82   12629.000000  13881.009129\n",
              "86    8189.000000   8295.275500\n",
              "143   9960.000000   9413.746917"
            ]
          },
          "metadata": {
            "tags": []
          },
          "execution_count": 27
        }
      ]
    },
    {
      "metadata": {
        "id": "69vkuuT03N1Z",
        "colab_type": "code",
        "colab": {
          "base_uri": "https://localhost:8080/",
          "height": 34
        },
        "outputId": "819f7973-edfc-41bb-b3af-74bdbb00de0b"
      },
      "cell_type": "code",
      "source": [
        "np.sqrt(mean_squared_error(dfResult['True'], dfResult['NominalVars']))"
      ],
      "execution_count": 28,
      "outputs": [
        {
          "output_type": "execute_result",
          "data": {
            "text/plain": [
              "2480.5483086913796"
            ]
          },
          "metadata": {
            "tags": []
          },
          "execution_count": 28
        }
      ]
    },
    {
      "metadata": {
        "id": "qhNG6ed2MK4F",
        "colab_type": "text"
      },
      "cell_type": "markdown",
      "source": [
        "# Exercise 13.3\n",
        "\n",
        "Create dummy variables for the categorical features\n",
        "\n",
        "Train a Random Forest Regressor and compare"
      ]
    },
    {
      "metadata": {
        "id": "muqDIl9F-K2e",
        "colab_type": "code",
        "colab": {}
      },
      "cell_type": "code",
      "source": [
        "def fix_columns( d, columns ):\n",
        "  #Rellena las columnas faltantes con valores 0\n",
        "  for c in set( columns ) - set( d.columns ):\n",
        "    d[c] = 0\n",
        "    \n",
        "  #Les da el mismo orden y retorna\n",
        "  d = d[ columns ]\n",
        "  return d        "
      ],
      "execution_count": 0,
      "outputs": []
    },
    {
      "metadata": {
        "id": "8jDt0JPlMK4H",
        "colab_type": "code",
        "colab": {}
      },
      "cell_type": "code",
      "source": [
        "X_train = pd.get_dummies(X_train_)\n",
        "X_test = pd.get_dummies(X_test_)\n",
        "\n",
        "X_test = fix_columns( X_test.copy(), X_train.columns )"
      ],
      "execution_count": 0,
      "outputs": []
    },
    {
      "metadata": {
        "id": "wGDogdtMqDjn",
        "colab_type": "code",
        "colab": {
          "base_uri": "https://localhost:8080/",
          "height": 119
        },
        "outputId": "6d979350-be60-49a1-dc3d-3403c57b3350"
      },
      "cell_type": "code",
      "source": [
        "\n",
        "regr.fit(X_train, y_train)"
      ],
      "execution_count": 31,
      "outputs": [
        {
          "output_type": "execute_result",
          "data": {
            "text/plain": [
              "RandomForestRegressor(bootstrap=True, criterion='mse', max_depth=15,\n",
              "           max_features='auto', max_leaf_nodes=None,\n",
              "           min_impurity_decrease=0.0, min_impurity_split=None,\n",
              "           min_samples_leaf=1, min_samples_split=2,\n",
              "           min_weight_fraction_leaf=0.0, n_estimators=1000, n_jobs=None,\n",
              "           oob_score=False, random_state=0, verbose=0, warm_start=False)"
            ]
          },
          "metadata": {
            "tags": []
          },
          "execution_count": 31
        }
      ]
    },
    {
      "metadata": {
        "id": "wpL83Z2wqG5i",
        "colab_type": "code",
        "colab": {
          "base_uri": "https://localhost:8080/",
          "height": 669
        },
        "outputId": "054ee143-dc7a-49ee-f7ce-e9ed48621f6c"
      },
      "cell_type": "code",
      "source": [
        "dfResult['Dummi'] = regr.predict(X_test)\n",
        "dfResult.head(10)"
      ],
      "execution_count": 32,
      "outputs": [
        {
          "output_type": "execute_result",
          "data": {
            "text/html": [
              "<div>\n",
              "<style scoped>\n",
              "    .dataframe tbody tr th:only-of-type {\n",
              "        vertical-align: middle;\n",
              "    }\n",
              "\n",
              "    .dataframe tbody tr th {\n",
              "        vertical-align: top;\n",
              "    }\n",
              "\n",
              "    .dataframe thead th {\n",
              "        text-align: right;\n",
              "    }\n",
              "</style>\n",
              "<table border=\"1\" class=\"dataframe\">\n",
              "  <thead>\n",
              "    <tr style=\"text-align: right;\">\n",
              "      <th></th>\n",
              "      <th>True</th>\n",
              "      <th>NominalVars</th>\n",
              "      <th>Dummy</th>\n",
              "    </tr>\n",
              "  </thead>\n",
              "  <tbody>\n",
              "    <tr>\n",
              "      <th>15</th>\n",
              "      <td>30760.000000</td>\n",
              "      <td>30542.612423</td>\n",
              "      <td>30995.352423</td>\n",
              "    </tr>\n",
              "    <tr>\n",
              "      <th>9</th>\n",
              "      <td>13207.129353</td>\n",
              "      <td>18828.229092</td>\n",
              "      <td>19046.817905</td>\n",
              "    </tr>\n",
              "    <tr>\n",
              "      <th>100</th>\n",
              "      <td>9549.000000</td>\n",
              "      <td>9028.210000</td>\n",
              "      <td>8987.406500</td>\n",
              "    </tr>\n",
              "    <tr>\n",
              "      <th>132</th>\n",
              "      <td>11850.000000</td>\n",
              "      <td>13782.061000</td>\n",
              "      <td>13755.680367</td>\n",
              "    </tr>\n",
              "    <tr>\n",
              "      <th>68</th>\n",
              "      <td>28248.000000</td>\n",
              "      <td>28116.891259</td>\n",
              "      <td>28601.370000</td>\n",
              "    </tr>\n",
              "    <tr>\n",
              "      <th>95</th>\n",
              "      <td>7799.000000</td>\n",
              "      <td>7113.996058</td>\n",
              "      <td>6753.180429</td>\n",
              "    </tr>\n",
              "    <tr>\n",
              "      <th>159</th>\n",
              "      <td>7788.000000</td>\n",
              "      <td>8130.126622</td>\n",
              "      <td>8115.950771</td>\n",
              "    </tr>\n",
              "    <tr>\n",
              "      <th>162</th>\n",
              "      <td>9258.000000</td>\n",
              "      <td>8065.112429</td>\n",
              "      <td>8004.141429</td>\n",
              "    </tr>\n",
              "    <tr>\n",
              "      <th>147</th>\n",
              "      <td>10198.000000</td>\n",
              "      <td>10065.560333</td>\n",
              "      <td>10071.085417</td>\n",
              "    </tr>\n",
              "    <tr>\n",
              "      <th>182</th>\n",
              "      <td>7775.000000</td>\n",
              "      <td>8460.832896</td>\n",
              "      <td>8294.343234</td>\n",
              "    </tr>\n",
              "    <tr>\n",
              "      <th>191</th>\n",
              "      <td>13295.000000</td>\n",
              "      <td>14404.617879</td>\n",
              "      <td>14397.929736</td>\n",
              "    </tr>\n",
              "    <tr>\n",
              "      <th>164</th>\n",
              "      <td>8238.000000</td>\n",
              "      <td>8011.933888</td>\n",
              "      <td>7986.701000</td>\n",
              "    </tr>\n",
              "    <tr>\n",
              "      <th>65</th>\n",
              "      <td>18280.000000</td>\n",
              "      <td>14073.495026</td>\n",
              "      <td>14106.761929</td>\n",
              "    </tr>\n",
              "    <tr>\n",
              "      <th>175</th>\n",
              "      <td>9988.000000</td>\n",
              "      <td>10842.469833</td>\n",
              "      <td>10778.919500</td>\n",
              "    </tr>\n",
              "    <tr>\n",
              "      <th>73</th>\n",
              "      <td>40960.000000</td>\n",
              "      <td>40077.977259</td>\n",
              "      <td>39800.899035</td>\n",
              "    </tr>\n",
              "    <tr>\n",
              "      <th>152</th>\n",
              "      <td>6488.000000</td>\n",
              "      <td>6443.438155</td>\n",
              "      <td>6676.968776</td>\n",
              "    </tr>\n",
              "    <tr>\n",
              "      <th>18</th>\n",
              "      <td>5151.000000</td>\n",
              "      <td>7878.600582</td>\n",
              "      <td>6555.927945</td>\n",
              "    </tr>\n",
              "    <tr>\n",
              "      <th>82</th>\n",
              "      <td>12629.000000</td>\n",
              "      <td>13881.009129</td>\n",
              "      <td>14837.481629</td>\n",
              "    </tr>\n",
              "    <tr>\n",
              "      <th>86</th>\n",
              "      <td>8189.000000</td>\n",
              "      <td>8295.275500</td>\n",
              "      <td>8286.003500</td>\n",
              "    </tr>\n",
              "    <tr>\n",
              "      <th>143</th>\n",
              "      <td>9960.000000</td>\n",
              "      <td>9413.746917</td>\n",
              "      <td>9489.566250</td>\n",
              "    </tr>\n",
              "  </tbody>\n",
              "</table>\n",
              "</div>"
            ],
            "text/plain": [
              "             True   NominalVars         Dummy\n",
              "15   30760.000000  30542.612423  30995.352423\n",
              "9    13207.129353  18828.229092  19046.817905\n",
              "100   9549.000000   9028.210000   8987.406500\n",
              "132  11850.000000  13782.061000  13755.680367\n",
              "68   28248.000000  28116.891259  28601.370000\n",
              "95    7799.000000   7113.996058   6753.180429\n",
              "159   7788.000000   8130.126622   8115.950771\n",
              "162   9258.000000   8065.112429   8004.141429\n",
              "147  10198.000000  10065.560333  10071.085417\n",
              "182   7775.000000   8460.832896   8294.343234\n",
              "191  13295.000000  14404.617879  14397.929736\n",
              "164   8238.000000   8011.933888   7986.701000\n",
              "65   18280.000000  14073.495026  14106.761929\n",
              "175   9988.000000  10842.469833  10778.919500\n",
              "73   40960.000000  40077.977259  39800.899035\n",
              "152   6488.000000   6443.438155   6676.968776\n",
              "18    5151.000000   7878.600582   6555.927945\n",
              "82   12629.000000  13881.009129  14837.481629\n",
              "86    8189.000000   8295.275500   8286.003500\n",
              "143   9960.000000   9413.746917   9489.566250"
            ]
          },
          "metadata": {
            "tags": []
          },
          "execution_count": 32
        }
      ]
    },
    {
      "metadata": {
        "id": "UWSPL4kDy0Pa",
        "colab_type": "code",
        "colab": {
          "base_uri": "https://localhost:8080/",
          "height": 34
        },
        "outputId": "ab989b4f-25a0-4896-f77c-1f46bf1a8523"
      },
      "cell_type": "code",
      "source": [
        "np.sqrt(mean_squared_error(dfResult['True'], dfResult['Dummi']))"
      ],
      "execution_count": 33,
      "outputs": [
        {
          "output_type": "execute_result",
          "data": {
            "text/plain": [
              "2378.548829776885"
            ]
          },
          "metadata": {
            "tags": []
          },
          "execution_count": 33
        }
      ]
    },
    {
      "metadata": {
        "id": "LPD2xa4hMK4N",
        "colab_type": "text"
      },
      "cell_type": "markdown",
      "source": [
        "# Exercise 13.4\n",
        "\n",
        "Apply two other methods of categorical encoding\n",
        "\n",
        "compare the results"
      ]
    },
    {
      "metadata": {
        "id": "WuOwOF_aMK4O",
        "colab_type": "code",
        "colab": {}
      },
      "cell_type": "code",
      "source": [
        "#!pip install category_encoders"
      ],
      "execution_count": 0,
      "outputs": []
    },
    {
      "metadata": {
        "id": "wNRGGkET8Iw-",
        "colab_type": "code",
        "colab": {}
      },
      "cell_type": "code",
      "source": [
        "import category_encoders as ce\n",
        "X_train = ce.BinaryEncoder().fit_transform(X_train_, axis=1)\n",
        "X_test = ce.BinaryEncoder().fit_transform(X_test_, axis=1)"
      ],
      "execution_count": 0,
      "outputs": []
    },
    {
      "metadata": {
        "id": "HthsphP38hM6",
        "colab_type": "code",
        "colab": {
          "base_uri": "https://localhost:8080/",
          "height": 119
        },
        "outputId": "f421672a-e99b-47ea-c42d-f06b057f5a9e"
      },
      "cell_type": "code",
      "source": [
        "regr.fit(X_train, y_train)"
      ],
      "execution_count": 36,
      "outputs": [
        {
          "output_type": "execute_result",
          "data": {
            "text/plain": [
              "RandomForestRegressor(bootstrap=True, criterion='mse', max_depth=15,\n",
              "           max_features='auto', max_leaf_nodes=None,\n",
              "           min_impurity_decrease=0.0, min_impurity_split=None,\n",
              "           min_samples_leaf=1, min_samples_split=2,\n",
              "           min_weight_fraction_leaf=0.0, n_estimators=1000, n_jobs=None,\n",
              "           oob_score=False, random_state=0, verbose=0, warm_start=False)"
            ]
          },
          "metadata": {
            "tags": []
          },
          "execution_count": 36
        }
      ]
    },
    {
      "metadata": {
        "id": "WdvPubpW80a4",
        "colab_type": "code",
        "colab": {
          "base_uri": "https://localhost:8080/",
          "height": 669
        },
        "outputId": "13ea1880-b6b4-4a92-d010-5d7f940026d9"
      },
      "cell_type": "code",
      "source": [
        "dfResult['BinaryEncoder'] = regr.predict(X_test)\n",
        "dfResult.head(10)"
      ],
      "execution_count": 37,
      "outputs": [
        {
          "output_type": "execute_result",
          "data": {
            "text/html": [
              "<div>\n",
              "<style scoped>\n",
              "    .dataframe tbody tr th:only-of-type {\n",
              "        vertical-align: middle;\n",
              "    }\n",
              "\n",
              "    .dataframe tbody tr th {\n",
              "        vertical-align: top;\n",
              "    }\n",
              "\n",
              "    .dataframe thead th {\n",
              "        text-align: right;\n",
              "    }\n",
              "</style>\n",
              "<table border=\"1\" class=\"dataframe\">\n",
              "  <thead>\n",
              "    <tr style=\"text-align: right;\">\n",
              "      <th></th>\n",
              "      <th>True</th>\n",
              "      <th>NominalVars</th>\n",
              "      <th>Dummy</th>\n",
              "      <th>BinaryEncoder</th>\n",
              "    </tr>\n",
              "  </thead>\n",
              "  <tbody>\n",
              "    <tr>\n",
              "      <th>15</th>\n",
              "      <td>30760.000000</td>\n",
              "      <td>30542.612423</td>\n",
              "      <td>30995.352423</td>\n",
              "      <td>29426.211580</td>\n",
              "    </tr>\n",
              "    <tr>\n",
              "      <th>9</th>\n",
              "      <td>13207.129353</td>\n",
              "      <td>18828.229092</td>\n",
              "      <td>19046.817905</td>\n",
              "      <td>18808.855259</td>\n",
              "    </tr>\n",
              "    <tr>\n",
              "      <th>100</th>\n",
              "      <td>9549.000000</td>\n",
              "      <td>9028.210000</td>\n",
              "      <td>8987.406500</td>\n",
              "      <td>9087.352167</td>\n",
              "    </tr>\n",
              "    <tr>\n",
              "      <th>132</th>\n",
              "      <td>11850.000000</td>\n",
              "      <td>13782.061000</td>\n",
              "      <td>13755.680367</td>\n",
              "      <td>13767.506247</td>\n",
              "    </tr>\n",
              "    <tr>\n",
              "      <th>68</th>\n",
              "      <td>28248.000000</td>\n",
              "      <td>28116.891259</td>\n",
              "      <td>28601.370000</td>\n",
              "      <td>28419.410403</td>\n",
              "    </tr>\n",
              "    <tr>\n",
              "      <th>95</th>\n",
              "      <td>7799.000000</td>\n",
              "      <td>7113.996058</td>\n",
              "      <td>6753.180429</td>\n",
              "      <td>7149.212129</td>\n",
              "    </tr>\n",
              "    <tr>\n",
              "      <th>159</th>\n",
              "      <td>7788.000000</td>\n",
              "      <td>8130.126622</td>\n",
              "      <td>8115.950771</td>\n",
              "      <td>8164.041562</td>\n",
              "    </tr>\n",
              "    <tr>\n",
              "      <th>162</th>\n",
              "      <td>9258.000000</td>\n",
              "      <td>8065.112429</td>\n",
              "      <td>8004.141429</td>\n",
              "      <td>7985.846308</td>\n",
              "    </tr>\n",
              "    <tr>\n",
              "      <th>147</th>\n",
              "      <td>10198.000000</td>\n",
              "      <td>10065.560333</td>\n",
              "      <td>10071.085417</td>\n",
              "      <td>10294.362000</td>\n",
              "    </tr>\n",
              "    <tr>\n",
              "      <th>182</th>\n",
              "      <td>7775.000000</td>\n",
              "      <td>8460.832896</td>\n",
              "      <td>8294.343234</td>\n",
              "      <td>8258.806473</td>\n",
              "    </tr>\n",
              "    <tr>\n",
              "      <th>191</th>\n",
              "      <td>13295.000000</td>\n",
              "      <td>14404.617879</td>\n",
              "      <td>14397.929736</td>\n",
              "      <td>14685.161783</td>\n",
              "    </tr>\n",
              "    <tr>\n",
              "      <th>164</th>\n",
              "      <td>8238.000000</td>\n",
              "      <td>8011.933888</td>\n",
              "      <td>7986.701000</td>\n",
              "      <td>8040.241517</td>\n",
              "    </tr>\n",
              "    <tr>\n",
              "      <th>65</th>\n",
              "      <td>18280.000000</td>\n",
              "      <td>14073.495026</td>\n",
              "      <td>14106.761929</td>\n",
              "      <td>14293.195225</td>\n",
              "    </tr>\n",
              "    <tr>\n",
              "      <th>175</th>\n",
              "      <td>9988.000000</td>\n",
              "      <td>10842.469833</td>\n",
              "      <td>10778.919500</td>\n",
              "      <td>10923.548333</td>\n",
              "    </tr>\n",
              "    <tr>\n",
              "      <th>73</th>\n",
              "      <td>40960.000000</td>\n",
              "      <td>40077.977259</td>\n",
              "      <td>39800.899035</td>\n",
              "      <td>39215.081881</td>\n",
              "    </tr>\n",
              "    <tr>\n",
              "      <th>152</th>\n",
              "      <td>6488.000000</td>\n",
              "      <td>6443.438155</td>\n",
              "      <td>6676.968776</td>\n",
              "      <td>6686.275423</td>\n",
              "    </tr>\n",
              "    <tr>\n",
              "      <th>18</th>\n",
              "      <td>5151.000000</td>\n",
              "      <td>7878.600582</td>\n",
              "      <td>6555.927945</td>\n",
              "      <td>8224.394866</td>\n",
              "    </tr>\n",
              "    <tr>\n",
              "      <th>82</th>\n",
              "      <td>12629.000000</td>\n",
              "      <td>13881.009129</td>\n",
              "      <td>14837.481629</td>\n",
              "      <td>14762.267221</td>\n",
              "    </tr>\n",
              "    <tr>\n",
              "      <th>86</th>\n",
              "      <td>8189.000000</td>\n",
              "      <td>8295.275500</td>\n",
              "      <td>8286.003500</td>\n",
              "      <td>8567.138500</td>\n",
              "    </tr>\n",
              "    <tr>\n",
              "      <th>143</th>\n",
              "      <td>9960.000000</td>\n",
              "      <td>9413.746917</td>\n",
              "      <td>9489.566250</td>\n",
              "      <td>9696.144333</td>\n",
              "    </tr>\n",
              "  </tbody>\n",
              "</table>\n",
              "</div>"
            ],
            "text/plain": [
              "             True   NominalVars         Dummy  BinaryEncoder\n",
              "15   30760.000000  30542.612423  30995.352423   29426.211580\n",
              "9    13207.129353  18828.229092  19046.817905   18808.855259\n",
              "100   9549.000000   9028.210000   8987.406500    9087.352167\n",
              "132  11850.000000  13782.061000  13755.680367   13767.506247\n",
              "68   28248.000000  28116.891259  28601.370000   28419.410403\n",
              "95    7799.000000   7113.996058   6753.180429    7149.212129\n",
              "159   7788.000000   8130.126622   8115.950771    8164.041562\n",
              "162   9258.000000   8065.112429   8004.141429    7985.846308\n",
              "147  10198.000000  10065.560333  10071.085417   10294.362000\n",
              "182   7775.000000   8460.832896   8294.343234    8258.806473\n",
              "191  13295.000000  14404.617879  14397.929736   14685.161783\n",
              "164   8238.000000   8011.933888   7986.701000    8040.241517\n",
              "65   18280.000000  14073.495026  14106.761929   14293.195225\n",
              "175   9988.000000  10842.469833  10778.919500   10923.548333\n",
              "73   40960.000000  40077.977259  39800.899035   39215.081881\n",
              "152   6488.000000   6443.438155   6676.968776    6686.275423\n",
              "18    5151.000000   7878.600582   6555.927945    8224.394866\n",
              "82   12629.000000  13881.009129  14837.481629   14762.267221\n",
              "86    8189.000000   8295.275500   8286.003500    8567.138500\n",
              "143   9960.000000   9413.746917   9489.566250    9696.144333"
            ]
          },
          "metadata": {
            "tags": []
          },
          "execution_count": 37
        }
      ]
    },
    {
      "metadata": {
        "id": "PaKSyDbW8828",
        "colab_type": "code",
        "colab": {
          "base_uri": "https://localhost:8080/",
          "height": 34
        },
        "outputId": "78bee537-f226-490a-d7ca-399ef2054bd8"
      },
      "cell_type": "code",
      "source": [
        "np.sqrt(mean_squared_error(dfResult['True'], dfResult['BinaryEncoder']))"
      ],
      "execution_count": 38,
      "outputs": [
        {
          "output_type": "execute_result",
          "data": {
            "text/plain": [
              "2630.094182124692"
            ]
          },
          "metadata": {
            "tags": []
          },
          "execution_count": 38
        }
      ]
    },
    {
      "metadata": {
        "id": "zqIZaI_Y9CF_",
        "colab_type": "code",
        "colab": {}
      },
      "cell_type": "code",
      "source": [
        "X_train = ce.HashingEncoder().fit_transform(X_train_, axis=1)\n",
        "X_test = ce.HashingEncoder().fit_transform(X_test_, axis=1)"
      ],
      "execution_count": 0,
      "outputs": []
    },
    {
      "metadata": {
        "id": "MSWRS9Gr9bIq",
        "colab_type": "code",
        "colab": {
          "base_uri": "https://localhost:8080/",
          "height": 119
        },
        "outputId": "86258f3f-c524-4cc4-a288-633df201b1e9"
      },
      "cell_type": "code",
      "source": [
        "regr.fit(X_train, y_train)"
      ],
      "execution_count": 40,
      "outputs": [
        {
          "output_type": "execute_result",
          "data": {
            "text/plain": [
              "RandomForestRegressor(bootstrap=True, criterion='mse', max_depth=15,\n",
              "           max_features='auto', max_leaf_nodes=None,\n",
              "           min_impurity_decrease=0.0, min_impurity_split=None,\n",
              "           min_samples_leaf=1, min_samples_split=2,\n",
              "           min_weight_fraction_leaf=0.0, n_estimators=1000, n_jobs=None,\n",
              "           oob_score=False, random_state=0, verbose=0, warm_start=False)"
            ]
          },
          "metadata": {
            "tags": []
          },
          "execution_count": 40
        }
      ]
    },
    {
      "metadata": {
        "id": "4JH_VEw99jL4",
        "colab_type": "code",
        "colab": {
          "base_uri": "https://localhost:8080/",
          "height": 669
        },
        "outputId": "9a67a5c5-de4f-4e9e-a6ca-1341e06f03db"
      },
      "cell_type": "code",
      "source": [
        "dfResult['HashingEncoder'] = regr.predict(X_test)\n",
        "dfResult.head(10)"
      ],
      "execution_count": 41,
      "outputs": [
        {
          "output_type": "execute_result",
          "data": {
            "text/html": [
              "<div>\n",
              "<style scoped>\n",
              "    .dataframe tbody tr th:only-of-type {\n",
              "        vertical-align: middle;\n",
              "    }\n",
              "\n",
              "    .dataframe tbody tr th {\n",
              "        vertical-align: top;\n",
              "    }\n",
              "\n",
              "    .dataframe thead th {\n",
              "        text-align: right;\n",
              "    }\n",
              "</style>\n",
              "<table border=\"1\" class=\"dataframe\">\n",
              "  <thead>\n",
              "    <tr style=\"text-align: right;\">\n",
              "      <th></th>\n",
              "      <th>True</th>\n",
              "      <th>NominalVars</th>\n",
              "      <th>Dummy</th>\n",
              "      <th>BinaryEncoder</th>\n",
              "      <th>HashingEncoder</th>\n",
              "    </tr>\n",
              "  </thead>\n",
              "  <tbody>\n",
              "    <tr>\n",
              "      <th>15</th>\n",
              "      <td>30760.000000</td>\n",
              "      <td>30542.612423</td>\n",
              "      <td>30995.352423</td>\n",
              "      <td>29426.211580</td>\n",
              "      <td>31186.953294</td>\n",
              "    </tr>\n",
              "    <tr>\n",
              "      <th>9</th>\n",
              "      <td>13207.129353</td>\n",
              "      <td>18828.229092</td>\n",
              "      <td>19046.817905</td>\n",
              "      <td>18808.855259</td>\n",
              "      <td>18999.653109</td>\n",
              "    </tr>\n",
              "    <tr>\n",
              "      <th>100</th>\n",
              "      <td>9549.000000</td>\n",
              "      <td>9028.210000</td>\n",
              "      <td>8987.406500</td>\n",
              "      <td>9087.352167</td>\n",
              "      <td>9011.225000</td>\n",
              "    </tr>\n",
              "    <tr>\n",
              "      <th>132</th>\n",
              "      <td>11850.000000</td>\n",
              "      <td>13782.061000</td>\n",
              "      <td>13755.680367</td>\n",
              "      <td>13767.506247</td>\n",
              "      <td>13676.066175</td>\n",
              "    </tr>\n",
              "    <tr>\n",
              "      <th>68</th>\n",
              "      <td>28248.000000</td>\n",
              "      <td>28116.891259</td>\n",
              "      <td>28601.370000</td>\n",
              "      <td>28419.410403</td>\n",
              "      <td>28349.304129</td>\n",
              "    </tr>\n",
              "    <tr>\n",
              "      <th>95</th>\n",
              "      <td>7799.000000</td>\n",
              "      <td>7113.996058</td>\n",
              "      <td>6753.180429</td>\n",
              "      <td>7149.212129</td>\n",
              "      <td>7023.037000</td>\n",
              "    </tr>\n",
              "    <tr>\n",
              "      <th>159</th>\n",
              "      <td>7788.000000</td>\n",
              "      <td>8130.126622</td>\n",
              "      <td>8115.950771</td>\n",
              "      <td>8164.041562</td>\n",
              "      <td>8131.339010</td>\n",
              "    </tr>\n",
              "    <tr>\n",
              "      <th>162</th>\n",
              "      <td>9258.000000</td>\n",
              "      <td>8065.112429</td>\n",
              "      <td>8004.141429</td>\n",
              "      <td>7985.846308</td>\n",
              "      <td>7979.360429</td>\n",
              "    </tr>\n",
              "    <tr>\n",
              "      <th>147</th>\n",
              "      <td>10198.000000</td>\n",
              "      <td>10065.560333</td>\n",
              "      <td>10071.085417</td>\n",
              "      <td>10294.362000</td>\n",
              "      <td>9903.769425</td>\n",
              "    </tr>\n",
              "    <tr>\n",
              "      <th>182</th>\n",
              "      <td>7775.000000</td>\n",
              "      <td>8460.832896</td>\n",
              "      <td>8294.343234</td>\n",
              "      <td>8258.806473</td>\n",
              "      <td>8379.159602</td>\n",
              "    </tr>\n",
              "    <tr>\n",
              "      <th>191</th>\n",
              "      <td>13295.000000</td>\n",
              "      <td>14404.617879</td>\n",
              "      <td>14397.929736</td>\n",
              "      <td>14685.161783</td>\n",
              "      <td>15896.850534</td>\n",
              "    </tr>\n",
              "    <tr>\n",
              "      <th>164</th>\n",
              "      <td>8238.000000</td>\n",
              "      <td>8011.933888</td>\n",
              "      <td>7986.701000</td>\n",
              "      <td>8040.241517</td>\n",
              "      <td>7965.249517</td>\n",
              "    </tr>\n",
              "    <tr>\n",
              "      <th>65</th>\n",
              "      <td>18280.000000</td>\n",
              "      <td>14073.495026</td>\n",
              "      <td>14106.761929</td>\n",
              "      <td>14293.195225</td>\n",
              "      <td>13794.056414</td>\n",
              "    </tr>\n",
              "    <tr>\n",
              "      <th>175</th>\n",
              "      <td>9988.000000</td>\n",
              "      <td>10842.469833</td>\n",
              "      <td>10778.919500</td>\n",
              "      <td>10923.548333</td>\n",
              "      <td>10676.155667</td>\n",
              "    </tr>\n",
              "    <tr>\n",
              "      <th>73</th>\n",
              "      <td>40960.000000</td>\n",
              "      <td>40077.977259</td>\n",
              "      <td>39800.899035</td>\n",
              "      <td>39215.081881</td>\n",
              "      <td>39960.714129</td>\n",
              "    </tr>\n",
              "    <tr>\n",
              "      <th>152</th>\n",
              "      <td>6488.000000</td>\n",
              "      <td>6443.438155</td>\n",
              "      <td>6676.968776</td>\n",
              "      <td>6686.275423</td>\n",
              "      <td>6925.318776</td>\n",
              "    </tr>\n",
              "    <tr>\n",
              "      <th>18</th>\n",
              "      <td>5151.000000</td>\n",
              "      <td>7878.600582</td>\n",
              "      <td>6555.927945</td>\n",
              "      <td>8224.394866</td>\n",
              "      <td>7875.897194</td>\n",
              "    </tr>\n",
              "    <tr>\n",
              "      <th>82</th>\n",
              "      <td>12629.000000</td>\n",
              "      <td>13881.009129</td>\n",
              "      <td>14837.481629</td>\n",
              "      <td>14762.267221</td>\n",
              "      <td>16537.822888</td>\n",
              "    </tr>\n",
              "    <tr>\n",
              "      <th>86</th>\n",
              "      <td>8189.000000</td>\n",
              "      <td>8295.275500</td>\n",
              "      <td>8286.003500</td>\n",
              "      <td>8567.138500</td>\n",
              "      <td>8290.388000</td>\n",
              "    </tr>\n",
              "    <tr>\n",
              "      <th>143</th>\n",
              "      <td>9960.000000</td>\n",
              "      <td>9413.746917</td>\n",
              "      <td>9489.566250</td>\n",
              "      <td>9696.144333</td>\n",
              "      <td>9346.081759</td>\n",
              "    </tr>\n",
              "  </tbody>\n",
              "</table>\n",
              "</div>"
            ],
            "text/plain": [
              "             True   NominalVars         Dummy  BinaryEncoder  HashingEncoder\n",
              "15   30760.000000  30542.612423  30995.352423   29426.211580    31186.953294\n",
              "9    13207.129353  18828.229092  19046.817905   18808.855259    18999.653109\n",
              "100   9549.000000   9028.210000   8987.406500    9087.352167     9011.225000\n",
              "132  11850.000000  13782.061000  13755.680367   13767.506247    13676.066175\n",
              "68   28248.000000  28116.891259  28601.370000   28419.410403    28349.304129\n",
              "95    7799.000000   7113.996058   6753.180429    7149.212129     7023.037000\n",
              "159   7788.000000   8130.126622   8115.950771    8164.041562     8131.339010\n",
              "162   9258.000000   8065.112429   8004.141429    7985.846308     7979.360429\n",
              "147  10198.000000  10065.560333  10071.085417   10294.362000     9903.769425\n",
              "182   7775.000000   8460.832896   8294.343234    8258.806473     8379.159602\n",
              "191  13295.000000  14404.617879  14397.929736   14685.161783    15896.850534\n",
              "164   8238.000000   8011.933888   7986.701000    8040.241517     7965.249517\n",
              "65   18280.000000  14073.495026  14106.761929   14293.195225    13794.056414\n",
              "175   9988.000000  10842.469833  10778.919500   10923.548333    10676.155667\n",
              "73   40960.000000  40077.977259  39800.899035   39215.081881    39960.714129\n",
              "152   6488.000000   6443.438155   6676.968776    6686.275423     6925.318776\n",
              "18    5151.000000   7878.600582   6555.927945    8224.394866     7875.897194\n",
              "82   12629.000000  13881.009129  14837.481629   14762.267221    16537.822888\n",
              "86    8189.000000   8295.275500   8286.003500    8567.138500     8290.388000\n",
              "143   9960.000000   9413.746917   9489.566250    9696.144333     9346.081759"
            ]
          },
          "metadata": {
            "tags": []
          },
          "execution_count": 41
        }
      ]
    },
    {
      "metadata": {
        "id": "xNsv5h_99n9W",
        "colab_type": "code",
        "colab": {
          "base_uri": "https://localhost:8080/",
          "height": 34
        },
        "outputId": "5bf9e867-403c-4c0f-a019-92f04c98773e"
      },
      "cell_type": "code",
      "source": [
        "np.sqrt(mean_squared_error(dfResult['True'], dfResult['HashingEncoder']))"
      ],
      "execution_count": 42,
      "outputs": [
        {
          "output_type": "execute_result",
          "data": {
            "text/plain": [
              "2471.893456034546"
            ]
          },
          "metadata": {
            "tags": []
          },
          "execution_count": 42
        }
      ]
    },
    {
      "metadata": {
        "id": "YphVejlTBmo8",
        "colab_type": "code",
        "colab": {
          "base_uri": "https://localhost:8080/",
          "height": 85
        },
        "outputId": "e7ff9d7f-5945-4112-86b1-a80783d6d5bb"
      },
      "cell_type": "code",
      "source": [
        "for col in dfResult.columns[1:]:\n",
        "  print(col,':',np.sqrt(mean_squared_error(dfResult['True'], dfResult[col])))\n"
      ],
      "execution_count": 43,
      "outputs": [
        {
          "output_type": "stream",
          "text": [
            "NominalVars : 2480.5483086913796\n",
            "Dummy : 2378.548829776885\n",
            "BinaryEncoder : 2630.094182124692\n",
            "HashingEncoder : 2471.893456034546\n"
          ],
          "name": "stdout"
        }
      ]
    }
  ]
}