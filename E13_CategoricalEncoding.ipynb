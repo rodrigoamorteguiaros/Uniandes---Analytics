{
  "nbformat": 4,
  "nbformat_minor": 0,
  "metadata": {
    "colab": {
      "name": "Copia de E13-CategoricalEncoding.ipynb",
      "version": "0.3.2",
      "provenance": [],
      "collapsed_sections": []
    },
    "kernelspec": {
      "display_name": "Python 3",
      "language": "python",
      "name": "python3"
    }
  },
  "cells": [
    {
      "metadata": {
        "id": "AGKdgqiZMK3S",
        "colab_type": "text"
      },
      "cell_type": "markdown",
      "source": [
        "# Exercise 13\n",
        "\n",
        "This particular Automobile Data Set includes a good mix of categorical values as well as continuous values and serves as a useful example that is relatively easy to understand. Since domain understanding is an important aspect when deciding how to encode various categorical values - this data set makes a good case study."
      ]
    },
    {
      "metadata": {
        "id": "2nW927JdMK3U",
        "colab_type": "text"
      },
      "cell_type": "markdown",
      "source": [
        "Read the data into Pandas"
      ]
    },
    {
      "metadata": {
        "id": "ViXVcpQUMK3W",
        "colab_type": "code",
        "outputId": "896848d4-2d41-485c-8dce-2fda1e91c99c",
        "colab": {
          "base_uri": "https://localhost:8080/",
          "height": 304
        }
      },
      "cell_type": "code",
      "source": [
        "import pandas as pd\n",
        "import numpy as np\n",
        "import matplotlib.pyplot as plt\n",
        "%matplotlib inline\n",
        "\n",
        "# Define the headers since the data does not have any\n",
        "headers = [\"symboling\", \"normalized_losses\", \"make\", \"fuel_type\", \"aspiration\",\n",
        "           \"num_doors\", \"body_style\", \"drive_wheels\", \"engine_location\",\n",
        "           \"wheel_base\", \"length\", \"width\", \"height\", \"curb_weight\",\n",
        "           \"engine_type\", \"num_cylinders\", \"engine_size\", \"fuel_system\",\n",
        "           \"bore\", \"stroke\", \"compression_ratio\", \"horsepower\", \"peak_rpm\",\n",
        "           \"city_mpg\", \"highway_mpg\", \"price\"]\n",
        "\n",
        "# Read in the CSV file and convert \"?\" to NaN\n",
        "df = pd.read_csv(\"http://mlr.cs.umass.edu/ml/machine-learning-databases/autos/imports-85.data\",\n",
        "                  header=None, names=headers, na_values=\"?\" )\n",
        "df.head()"
      ],
      "execution_count": 1,
      "outputs": [
        {
          "output_type": "execute_result",
          "data": {
            "text/html": [
              "<div>\n",
              "<style scoped>\n",
              "    .dataframe tbody tr th:only-of-type {\n",
              "        vertical-align: middle;\n",
              "    }\n",
              "\n",
              "    .dataframe tbody tr th {\n",
              "        vertical-align: top;\n",
              "    }\n",
              "\n",
              "    .dataframe thead th {\n",
              "        text-align: right;\n",
              "    }\n",
              "</style>\n",
              "<table border=\"1\" class=\"dataframe\">\n",
              "  <thead>\n",
              "    <tr style=\"text-align: right;\">\n",
              "      <th></th>\n",
              "      <th>symboling</th>\n",
              "      <th>normalized_losses</th>\n",
              "      <th>make</th>\n",
              "      <th>fuel_type</th>\n",
              "      <th>aspiration</th>\n",
              "      <th>num_doors</th>\n",
              "      <th>body_style</th>\n",
              "      <th>drive_wheels</th>\n",
              "      <th>engine_location</th>\n",
              "      <th>wheel_base</th>\n",
              "      <th>...</th>\n",
              "      <th>engine_size</th>\n",
              "      <th>fuel_system</th>\n",
              "      <th>bore</th>\n",
              "      <th>stroke</th>\n",
              "      <th>compression_ratio</th>\n",
              "      <th>horsepower</th>\n",
              "      <th>peak_rpm</th>\n",
              "      <th>city_mpg</th>\n",
              "      <th>highway_mpg</th>\n",
              "      <th>price</th>\n",
              "    </tr>\n",
              "  </thead>\n",
              "  <tbody>\n",
              "    <tr>\n",
              "      <th>0</th>\n",
              "      <td>3</td>\n",
              "      <td>NaN</td>\n",
              "      <td>alfa-romero</td>\n",
              "      <td>gas</td>\n",
              "      <td>std</td>\n",
              "      <td>two</td>\n",
              "      <td>convertible</td>\n",
              "      <td>rwd</td>\n",
              "      <td>front</td>\n",
              "      <td>88.6</td>\n",
              "      <td>...</td>\n",
              "      <td>130</td>\n",
              "      <td>mpfi</td>\n",
              "      <td>3.47</td>\n",
              "      <td>2.68</td>\n",
              "      <td>9.0</td>\n",
              "      <td>111.0</td>\n",
              "      <td>5000.0</td>\n",
              "      <td>21</td>\n",
              "      <td>27</td>\n",
              "      <td>13495.0</td>\n",
              "    </tr>\n",
              "    <tr>\n",
              "      <th>1</th>\n",
              "      <td>3</td>\n",
              "      <td>NaN</td>\n",
              "      <td>alfa-romero</td>\n",
              "      <td>gas</td>\n",
              "      <td>std</td>\n",
              "      <td>two</td>\n",
              "      <td>convertible</td>\n",
              "      <td>rwd</td>\n",
              "      <td>front</td>\n",
              "      <td>88.6</td>\n",
              "      <td>...</td>\n",
              "      <td>130</td>\n",
              "      <td>mpfi</td>\n",
              "      <td>3.47</td>\n",
              "      <td>2.68</td>\n",
              "      <td>9.0</td>\n",
              "      <td>111.0</td>\n",
              "      <td>5000.0</td>\n",
              "      <td>21</td>\n",
              "      <td>27</td>\n",
              "      <td>16500.0</td>\n",
              "    </tr>\n",
              "    <tr>\n",
              "      <th>2</th>\n",
              "      <td>1</td>\n",
              "      <td>NaN</td>\n",
              "      <td>alfa-romero</td>\n",
              "      <td>gas</td>\n",
              "      <td>std</td>\n",
              "      <td>two</td>\n",
              "      <td>hatchback</td>\n",
              "      <td>rwd</td>\n",
              "      <td>front</td>\n",
              "      <td>94.5</td>\n",
              "      <td>...</td>\n",
              "      <td>152</td>\n",
              "      <td>mpfi</td>\n",
              "      <td>2.68</td>\n",
              "      <td>3.47</td>\n",
              "      <td>9.0</td>\n",
              "      <td>154.0</td>\n",
              "      <td>5000.0</td>\n",
              "      <td>19</td>\n",
              "      <td>26</td>\n",
              "      <td>16500.0</td>\n",
              "    </tr>\n",
              "    <tr>\n",
              "      <th>3</th>\n",
              "      <td>2</td>\n",
              "      <td>164.0</td>\n",
              "      <td>audi</td>\n",
              "      <td>gas</td>\n",
              "      <td>std</td>\n",
              "      <td>four</td>\n",
              "      <td>sedan</td>\n",
              "      <td>fwd</td>\n",
              "      <td>front</td>\n",
              "      <td>99.8</td>\n",
              "      <td>...</td>\n",
              "      <td>109</td>\n",
              "      <td>mpfi</td>\n",
              "      <td>3.19</td>\n",
              "      <td>3.40</td>\n",
              "      <td>10.0</td>\n",
              "      <td>102.0</td>\n",
              "      <td>5500.0</td>\n",
              "      <td>24</td>\n",
              "      <td>30</td>\n",
              "      <td>13950.0</td>\n",
              "    </tr>\n",
              "    <tr>\n",
              "      <th>4</th>\n",
              "      <td>2</td>\n",
              "      <td>164.0</td>\n",
              "      <td>audi</td>\n",
              "      <td>gas</td>\n",
              "      <td>std</td>\n",
              "      <td>four</td>\n",
              "      <td>sedan</td>\n",
              "      <td>4wd</td>\n",
              "      <td>front</td>\n",
              "      <td>99.4</td>\n",
              "      <td>...</td>\n",
              "      <td>136</td>\n",
              "      <td>mpfi</td>\n",
              "      <td>3.19</td>\n",
              "      <td>3.40</td>\n",
              "      <td>8.0</td>\n",
              "      <td>115.0</td>\n",
              "      <td>5500.0</td>\n",
              "      <td>18</td>\n",
              "      <td>22</td>\n",
              "      <td>17450.0</td>\n",
              "    </tr>\n",
              "  </tbody>\n",
              "</table>\n",
              "<p>5 rows × 26 columns</p>\n",
              "</div>"
            ],
            "text/plain": [
              "   symboling  normalized_losses         make fuel_type aspiration num_doors  \\\n",
              "0          3                NaN  alfa-romero       gas        std       two   \n",
              "1          3                NaN  alfa-romero       gas        std       two   \n",
              "2          1                NaN  alfa-romero       gas        std       two   \n",
              "3          2              164.0         audi       gas        std      four   \n",
              "4          2              164.0         audi       gas        std      four   \n",
              "\n",
              "    body_style drive_wheels engine_location  wheel_base   ...     engine_size  \\\n",
              "0  convertible          rwd           front        88.6   ...             130   \n",
              "1  convertible          rwd           front        88.6   ...             130   \n",
              "2    hatchback          rwd           front        94.5   ...             152   \n",
              "3        sedan          fwd           front        99.8   ...             109   \n",
              "4        sedan          4wd           front        99.4   ...             136   \n",
              "\n",
              "   fuel_system  bore  stroke compression_ratio horsepower  peak_rpm city_mpg  \\\n",
              "0         mpfi  3.47    2.68               9.0      111.0    5000.0       21   \n",
              "1         mpfi  3.47    2.68               9.0      111.0    5000.0       21   \n",
              "2         mpfi  2.68    3.47               9.0      154.0    5000.0       19   \n",
              "3         mpfi  3.19    3.40              10.0      102.0    5500.0       24   \n",
              "4         mpfi  3.19    3.40               8.0      115.0    5500.0       18   \n",
              "\n",
              "   highway_mpg    price  \n",
              "0           27  13495.0  \n",
              "1           27  16500.0  \n",
              "2           26  16500.0  \n",
              "3           30  13950.0  \n",
              "4           22  17450.0  \n",
              "\n",
              "[5 rows x 26 columns]"
            ]
          },
          "metadata": {
            "tags": []
          },
          "execution_count": 1
        }
      ]
    },
    {
      "metadata": {
        "id": "NysM6QWlMK3e",
        "colab_type": "code",
        "outputId": "fb372ae1-0384-456c-d29d-23ffe37a9ef2",
        "colab": {
          "base_uri": "https://localhost:8080/",
          "height": 34
        }
      },
      "cell_type": "code",
      "source": [
        "df.shape"
      ],
      "execution_count": 2,
      "outputs": [
        {
          "output_type": "execute_result",
          "data": {
            "text/plain": [
              "(205, 26)"
            ]
          },
          "metadata": {
            "tags": []
          },
          "execution_count": 2
        }
      ]
    },
    {
      "metadata": {
        "id": "wyS3TM2XMK3n",
        "colab_type": "code",
        "outputId": "f90263fd-7870-4b8e-a81a-b6346b1e786b",
        "colab": {
          "base_uri": "https://localhost:8080/",
          "height": 476
        }
      },
      "cell_type": "code",
      "source": [
        "df.dtypes"
      ],
      "execution_count": 3,
      "outputs": [
        {
          "output_type": "execute_result",
          "data": {
            "text/plain": [
              "symboling              int64\n",
              "normalized_losses    float64\n",
              "make                  object\n",
              "fuel_type             object\n",
              "aspiration            object\n",
              "num_doors             object\n",
              "body_style            object\n",
              "drive_wheels          object\n",
              "engine_location       object\n",
              "wheel_base           float64\n",
              "length               float64\n",
              "width                float64\n",
              "height               float64\n",
              "curb_weight            int64\n",
              "engine_type           object\n",
              "num_cylinders         object\n",
              "engine_size            int64\n",
              "fuel_system           object\n",
              "bore                 float64\n",
              "stroke               float64\n",
              "compression_ratio    float64\n",
              "horsepower           float64\n",
              "peak_rpm             float64\n",
              "city_mpg               int64\n",
              "highway_mpg            int64\n",
              "price                float64\n",
              "dtype: object"
            ]
          },
          "metadata": {
            "tags": []
          },
          "execution_count": 3
        }
      ]
    },
    {
      "metadata": {
        "id": "U8_s-RUfMK3s",
        "colab_type": "code",
        "outputId": "86b9e2a0-974b-493f-e838-dd5810f9c09c",
        "colab": {
          "base_uri": "https://localhost:8080/",
          "height": 204
        }
      },
      "cell_type": "code",
      "source": [
        "obj_df = df.select_dtypes(include=['object']).copy()\n",
        "obj_df.head()"
      ],
      "execution_count": 4,
      "outputs": [
        {
          "output_type": "execute_result",
          "data": {
            "text/html": [
              "<div>\n",
              "<style scoped>\n",
              "    .dataframe tbody tr th:only-of-type {\n",
              "        vertical-align: middle;\n",
              "    }\n",
              "\n",
              "    .dataframe tbody tr th {\n",
              "        vertical-align: top;\n",
              "    }\n",
              "\n",
              "    .dataframe thead th {\n",
              "        text-align: right;\n",
              "    }\n",
              "</style>\n",
              "<table border=\"1\" class=\"dataframe\">\n",
              "  <thead>\n",
              "    <tr style=\"text-align: right;\">\n",
              "      <th></th>\n",
              "      <th>make</th>\n",
              "      <th>fuel_type</th>\n",
              "      <th>aspiration</th>\n",
              "      <th>num_doors</th>\n",
              "      <th>body_style</th>\n",
              "      <th>drive_wheels</th>\n",
              "      <th>engine_location</th>\n",
              "      <th>engine_type</th>\n",
              "      <th>num_cylinders</th>\n",
              "      <th>fuel_system</th>\n",
              "    </tr>\n",
              "  </thead>\n",
              "  <tbody>\n",
              "    <tr>\n",
              "      <th>0</th>\n",
              "      <td>alfa-romero</td>\n",
              "      <td>gas</td>\n",
              "      <td>std</td>\n",
              "      <td>two</td>\n",
              "      <td>convertible</td>\n",
              "      <td>rwd</td>\n",
              "      <td>front</td>\n",
              "      <td>dohc</td>\n",
              "      <td>four</td>\n",
              "      <td>mpfi</td>\n",
              "    </tr>\n",
              "    <tr>\n",
              "      <th>1</th>\n",
              "      <td>alfa-romero</td>\n",
              "      <td>gas</td>\n",
              "      <td>std</td>\n",
              "      <td>two</td>\n",
              "      <td>convertible</td>\n",
              "      <td>rwd</td>\n",
              "      <td>front</td>\n",
              "      <td>dohc</td>\n",
              "      <td>four</td>\n",
              "      <td>mpfi</td>\n",
              "    </tr>\n",
              "    <tr>\n",
              "      <th>2</th>\n",
              "      <td>alfa-romero</td>\n",
              "      <td>gas</td>\n",
              "      <td>std</td>\n",
              "      <td>two</td>\n",
              "      <td>hatchback</td>\n",
              "      <td>rwd</td>\n",
              "      <td>front</td>\n",
              "      <td>ohcv</td>\n",
              "      <td>six</td>\n",
              "      <td>mpfi</td>\n",
              "    </tr>\n",
              "    <tr>\n",
              "      <th>3</th>\n",
              "      <td>audi</td>\n",
              "      <td>gas</td>\n",
              "      <td>std</td>\n",
              "      <td>four</td>\n",
              "      <td>sedan</td>\n",
              "      <td>fwd</td>\n",
              "      <td>front</td>\n",
              "      <td>ohc</td>\n",
              "      <td>four</td>\n",
              "      <td>mpfi</td>\n",
              "    </tr>\n",
              "    <tr>\n",
              "      <th>4</th>\n",
              "      <td>audi</td>\n",
              "      <td>gas</td>\n",
              "      <td>std</td>\n",
              "      <td>four</td>\n",
              "      <td>sedan</td>\n",
              "      <td>4wd</td>\n",
              "      <td>front</td>\n",
              "      <td>ohc</td>\n",
              "      <td>five</td>\n",
              "      <td>mpfi</td>\n",
              "    </tr>\n",
              "  </tbody>\n",
              "</table>\n",
              "</div>"
            ],
            "text/plain": [
              "          make fuel_type aspiration num_doors   body_style drive_wheels  \\\n",
              "0  alfa-romero       gas        std       two  convertible          rwd   \n",
              "1  alfa-romero       gas        std       two  convertible          rwd   \n",
              "2  alfa-romero       gas        std       two    hatchback          rwd   \n",
              "3         audi       gas        std      four        sedan          fwd   \n",
              "4         audi       gas        std      four        sedan          4wd   \n",
              "\n",
              "  engine_location engine_type num_cylinders fuel_system  \n",
              "0           front        dohc          four        mpfi  \n",
              "1           front        dohc          four        mpfi  \n",
              "2           front        ohcv           six        mpfi  \n",
              "3           front         ohc          four        mpfi  \n",
              "4           front         ohc          five        mpfi  "
            ]
          },
          "metadata": {
            "tags": []
          },
          "execution_count": 4
        }
      ]
    },
    {
      "metadata": {
        "id": "mQph1dYIMK30",
        "colab_type": "code",
        "outputId": "05fc6289-85db-4877-d801-94685112cd21",
        "colab": {
          "base_uri": "https://localhost:8080/",
          "height": 34
        }
      },
      "cell_type": "code",
      "source": [
        "obj_df.shape"
      ],
      "execution_count": 5,
      "outputs": [
        {
          "output_type": "execute_result",
          "data": {
            "text/plain": [
              "(205, 10)"
            ]
          },
          "metadata": {
            "tags": []
          },
          "execution_count": 5
        }
      ]
    },
    {
      "metadata": {
        "id": "ek39sBDcMK34",
        "colab_type": "text"
      },
      "cell_type": "markdown",
      "source": [
        "# Exercise 13.1\n",
        "\n",
        "Does the database contain missing values? If so, replace them using one of the methods explained in class"
      ]
    },
    {
      "metadata": {
        "id": "6tyS82w0RlyH",
        "colab_type": "text"
      },
      "cell_type": "markdown",
      "source": [
        "**Se identifican las variables con valores Nulos**"
      ]
    },
    {
      "metadata": {
        "id": "usXLhcFZqqz4",
        "colab_type": "code",
        "outputId": "4f3c0fbf-b177-48eb-85ae-4b5e00ef1cd1",
        "colab": {
          "base_uri": "https://localhost:8080/",
          "height": 153
        }
      },
      "cell_type": "code",
      "source": [
        "dfColsNa = df[df.columns[df.isna().any()]].isnull().sum()\n",
        "dfColsNa"
      ],
      "execution_count": 6,
      "outputs": [
        {
          "output_type": "execute_result",
          "data": {
            "text/plain": [
              "normalized_losses    41\n",
              "num_doors             2\n",
              "bore                  4\n",
              "stroke                4\n",
              "horsepower            2\n",
              "peak_rpm              2\n",
              "price                 4\n",
              "dtype: int64"
            ]
          },
          "metadata": {
            "tags": []
          },
          "execution_count": 6
        }
      ]
    },
    {
      "metadata": {
        "id": "57s-lLajR2DT",
        "colab_type": "text"
      },
      "cell_type": "markdown",
      "source": [
        "**Se identifican los tipos de datos para cada una de las variables con valores nulos**"
      ]
    },
    {
      "metadata": {
        "id": "161cf9gl5nC0",
        "colab_type": "code",
        "outputId": "e7deb971-c39c-453f-c671-0a4e0337a442",
        "colab": {
          "base_uri": "https://localhost:8080/",
          "height": 136
        }
      },
      "cell_type": "code",
      "source": [
        "for col in dfColsNa.index:\n",
        "  print(col,':',df[col].dtypes)"
      ],
      "execution_count": 7,
      "outputs": [
        {
          "output_type": "stream",
          "text": [
            "normalized_losses : float64\n",
            "num_doors : object\n",
            "bore : float64\n",
            "stroke : float64\n",
            "horsepower : float64\n",
            "peak_rpm : float64\n",
            "price : float64\n"
          ],
          "name": "stdout"
        }
      ]
    },
    {
      "metadata": {
        "id": "c3lghOmq9jFF",
        "colab_type": "text"
      },
      "cell_type": "markdown",
      "source": [
        "#### Como ayuda adicional, se grafican la cantidad y el porcentaje de valores nulos dentro del dataframe"
      ]
    },
    {
      "metadata": {
        "id": "muKZ9o0HxpRp",
        "colab_type": "code",
        "outputId": "4060dca3-e356-4a8e-8ddd-e1317e426d81",
        "colab": {
          "base_uri": "https://localhost:8080/",
          "height": 257
        }
      },
      "cell_type": "code",
      "source": [
        "percentcount=[]\n",
        "labels=[]\n",
        "valuecount=[]\n",
        "for col in dfColsNa.index:\n",
        "  labels.append(col)\n",
        "  valuecount.append(df[col].isnull().sum() )\n",
        "  percentcount.append(df[col].isnull().sum() / df.shape[0])\n",
        "\n",
        "ind = np.arange(len(labels))\n",
        "\n",
        "fig, (ax1,ax2) = plt.subplots(1,2,figsize=(15,3))\n",
        "rects = ax1.barh(ind,np.array(valuecount), color='blue')\n",
        "ax1.set_yticks(ind)\n",
        "ax1.set_yticklabels(labels, rotation='horizontal')\n",
        "ax1.set_xlabel('Count of Missiong Values')\n",
        "ax1.set_title('Variables with missing values')\n",
        "\n",
        "rects = ax2.barh(ind,np.array(percentcount), color='red')\n",
        "ax2.set_yticks(ind)\n",
        "ax2.set_yticklabels(labels, rotation='horizontal')\n",
        "ax2.set_xlabel('Percentage of Missiong Values')\n",
        "ax2.set_title('Variables with missing values')"
      ],
      "execution_count": 8,
      "outputs": [
        {
          "output_type": "execute_result",
          "data": {
            "text/plain": [
              "Text(0.5, 1.0, 'Variables with missing values')"
            ]
          },
          "metadata": {
            "tags": []
          },
          "execution_count": 8
        },
        {
          "output_type": "display_data",
          "data": {
            "image/png": "[encoded data removed]",
            "text/plain": [
              "<Figure size 1080x216 with 2 Axes>"
            ]
          },
          "metadata": {
            "tags": []
          }
        }
      ]
    },
    {
      "metadata": {
        "id": "ajo6VIBFS_s0",
        "colab_type": "text"
      },
      "cell_type": "markdown",
      "source": [
        "#### Se analizan las observaciones que tienen NaN  en la variable num_doors"
      ]
    },
    {
      "metadata": {
        "id": "MtHim8wWqq9w",
        "colab_type": "code",
        "outputId": "6ceee10c-d032-4c6d-9f3f-d5d23d6ec866",
        "colab": {
          "base_uri": "https://localhost:8080/",
          "height": 160
        }
      },
      "cell_type": "code",
      "source": [
        "df[df['num_doors'].isnull()]\n"
      ],
      "execution_count": 9,
      "outputs": [
        {
          "output_type": "execute_result",
          "data": {
            "text/html": [
              "<div>\n",
              "<style scoped>\n",
              "    .dataframe tbody tr th:only-of-type {\n",
              "        vertical-align: middle;\n",
              "    }\n",
              "\n",
              "    .dataframe tbody tr th {\n",
              "        vertical-align: top;\n",
              "    }\n",
              "\n",
              "    .dataframe thead th {\n",
              "        text-align: right;\n",
              "    }\n",
              "</style>\n",
              "<table border=\"1\" class=\"dataframe\">\n",
              "  <thead>\n",
              "    <tr style=\"text-align: right;\">\n",
              "      <th></th>\n",
              "      <th>symboling</th>\n",
              "      <th>normalized_losses</th>\n",
              "      <th>make</th>\n",
              "      <th>fuel_type</th>\n",
              "      <th>aspiration</th>\n",
              "      <th>num_doors</th>\n",
              "      <th>body_style</th>\n",
              "      <th>drive_wheels</th>\n",
              "      <th>engine_location</th>\n",
              "      <th>wheel_base</th>\n",
              "      <th>...</th>\n",
              "      <th>engine_size</th>\n",
              "      <th>fuel_system</th>\n",
              "      <th>bore</th>\n",
              "      <th>stroke</th>\n",
              "      <th>compression_ratio</th>\n",
              "      <th>horsepower</th>\n",
              "      <th>peak_rpm</th>\n",
              "      <th>city_mpg</th>\n",
              "      <th>highway_mpg</th>\n",
              "      <th>price</th>\n",
              "    </tr>\n",
              "  </thead>\n",
              "  <tbody>\n",
              "    <tr>\n",
              "      <th>27</th>\n",
              "      <td>1</td>\n",
              "      <td>148.0</td>\n",
              "      <td>dodge</td>\n",
              "      <td>gas</td>\n",
              "      <td>turbo</td>\n",
              "      <td>NaN</td>\n",
              "      <td>sedan</td>\n",
              "      <td>fwd</td>\n",
              "      <td>front</td>\n",
              "      <td>93.7</td>\n",
              "      <td>...</td>\n",
              "      <td>98</td>\n",
              "      <td>mpfi</td>\n",
              "      <td>3.03</td>\n",
              "      <td>3.39</td>\n",
              "      <td>7.6</td>\n",
              "      <td>102.0</td>\n",
              "      <td>5500.0</td>\n",
              "      <td>24</td>\n",
              "      <td>30</td>\n",
              "      <td>8558.0</td>\n",
              "    </tr>\n",
              "    <tr>\n",
              "      <th>63</th>\n",
              "      <td>0</td>\n",
              "      <td>NaN</td>\n",
              "      <td>mazda</td>\n",
              "      <td>diesel</td>\n",
              "      <td>std</td>\n",
              "      <td>NaN</td>\n",
              "      <td>sedan</td>\n",
              "      <td>fwd</td>\n",
              "      <td>front</td>\n",
              "      <td>98.8</td>\n",
              "      <td>...</td>\n",
              "      <td>122</td>\n",
              "      <td>idi</td>\n",
              "      <td>3.39</td>\n",
              "      <td>3.39</td>\n",
              "      <td>22.7</td>\n",
              "      <td>64.0</td>\n",
              "      <td>4650.0</td>\n",
              "      <td>36</td>\n",
              "      <td>42</td>\n",
              "      <td>10795.0</td>\n",
              "    </tr>\n",
              "  </tbody>\n",
              "</table>\n",
              "<p>2 rows × 26 columns</p>\n",
              "</div>"
            ],
            "text/plain": [
              "    symboling  normalized_losses   make fuel_type aspiration num_doors  \\\n",
              "27          1              148.0  dodge       gas      turbo       NaN   \n",
              "63          0                NaN  mazda    diesel        std       NaN   \n",
              "\n",
              "   body_style drive_wheels engine_location  wheel_base   ...     engine_size  \\\n",
              "27      sedan          fwd           front        93.7   ...              98   \n",
              "63      sedan          fwd           front        98.8   ...             122   \n",
              "\n",
              "    fuel_system  bore  stroke compression_ratio horsepower  peak_rpm city_mpg  \\\n",
              "27         mpfi  3.03    3.39               7.6      102.0    5500.0       24   \n",
              "63          idi  3.39    3.39              22.7       64.0    4650.0       36   \n",
              "\n",
              "    highway_mpg    price  \n",
              "27           30   8558.0  \n",
              "63           42  10795.0  \n",
              "\n",
              "[2 rows x 26 columns]"
            ]
          },
          "metadata": {
            "tags": []
          },
          "execution_count": 9
        }
      ]
    },
    {
      "metadata": {
        "id": "JVO2L3s-TudW",
        "colab_type": "text"
      },
      "cell_type": "markdown",
      "source": [
        "##### Se agrupacion de 'num_doors' tabla para identificar cuantos valores de cada categoría num_doors existen en la BD"
      ]
    },
    {
      "metadata": {
        "id": "VOrVGmnZRFoe",
        "colab_type": "code",
        "outputId": "06c46996-da2d-4a72-8220-35d0291ee47a",
        "colab": {
          "base_uri": "https://localhost:8080/",
          "height": 85
        }
      },
      "cell_type": "code",
      "source": [
        "df.groupby('num_doors').size()"
      ],
      "execution_count": 10,
      "outputs": [
        {
          "output_type": "execute_result",
          "data": {
            "text/plain": [
              "num_doors\n",
              "four    114\n",
              "two      89\n",
              "dtype: int64"
            ]
          },
          "metadata": {
            "tags": []
          },
          "execution_count": 10
        }
      ]
    },
    {
      "metadata": {
        "id": "RUvJjrO_UJ8M",
        "colab_type": "text"
      },
      "cell_type": "markdown",
      "source": [
        "##### Se completamn los valores NaN de num_doors con el valor \"two\""
      ]
    },
    {
      "metadata": {
        "id": "8GUk3eKjUla3",
        "colab_type": "code",
        "colab": {}
      },
      "cell_type": "code",
      "source": [
        "df['num_doors'].fillna('two',inplace=True)"
      ],
      "execution_count": 0,
      "outputs": []
    },
    {
      "metadata": {
        "id": "bfR4yjmsXpSy",
        "colab_type": "text"
      },
      "cell_type": "markdown",
      "source": [
        "#### Se analizan las observaciones que tienen NaN  en la variable normalized_losses"
      ]
    },
    {
      "metadata": {
        "id": "WpJAcLgSZVZw",
        "colab_type": "code",
        "outputId": "6c049d77-659b-45c8-a5fe-e43f1669b078",
        "colab": {
          "base_uri": "https://localhost:8080/",
          "height": 170
        }
      },
      "cell_type": "code",
      "source": [
        "df['normalized_losses'][df['normalized_losses'].notnull()].describe()"
      ],
      "execution_count": 12,
      "outputs": [
        {
          "output_type": "execute_result",
          "data": {
            "text/plain": [
              "count    164.000000\n",
              "mean     122.000000\n",
              "std       35.442168\n",
              "min       65.000000\n",
              "25%       94.000000\n",
              "50%      115.000000\n",
              "75%      150.000000\n",
              "max      256.000000\n",
              "Name: normalized_losses, dtype: float64"
            ]
          },
          "metadata": {
            "tags": []
          },
          "execution_count": 12
        }
      ]
    },
    {
      "metadata": {
        "id": "fjqiwWVZ5v_a",
        "colab_type": "code",
        "colab": {}
      },
      "cell_type": "code",
      "source": [
        "df['normalized_losses'].fillna(df['normalized_losses'].mean(),inplace=True)"
      ],
      "execution_count": 0,
      "outputs": []
    },
    {
      "metadata": {
        "id": "Vv0LMq2X6n0O",
        "colab_type": "text"
      },
      "cell_type": "markdown",
      "source": [
        "#### Se analizan las observaciones que tienen NaN  en la variable bore"
      ]
    },
    {
      "metadata": {
        "id": "nyH_d1qWY5oj",
        "colab_type": "code",
        "outputId": "72d713ff-247b-485c-f928-4ce3b1a88834",
        "colab": {
          "base_uri": "https://localhost:8080/",
          "height": 170
        }
      },
      "cell_type": "code",
      "source": [
        "df['bore'][df['bore'].notnull()].describe()"
      ],
      "execution_count": 14,
      "outputs": [
        {
          "output_type": "execute_result",
          "data": {
            "text/plain": [
              "count    201.000000\n",
              "mean       3.329751\n",
              "std        0.273539\n",
              "min        2.540000\n",
              "25%        3.150000\n",
              "50%        3.310000\n",
              "75%        3.590000\n",
              "max        3.940000\n",
              "Name: bore, dtype: float64"
            ]
          },
          "metadata": {
            "tags": []
          },
          "execution_count": 14
        }
      ]
    },
    {
      "metadata": {
        "id": "u4tcIQNQ6vAM",
        "colab_type": "code",
        "colab": {}
      },
      "cell_type": "code",
      "source": [
        "df['bore'].fillna(df['bore'].mean(),inplace=True)"
      ],
      "execution_count": 0,
      "outputs": []
    },
    {
      "metadata": {
        "id": "kxod08vt61Zh",
        "colab_type": "text"
      },
      "cell_type": "markdown",
      "source": [
        "#### Se analizan las observaciones que tienen NaN  en la variable stroke "
      ]
    },
    {
      "metadata": {
        "id": "y-p2FidvBvWb",
        "colab_type": "code",
        "outputId": "4139b894-0095-4a8b-d8b2-9754ef479074",
        "colab": {
          "base_uri": "https://localhost:8080/",
          "height": 170
        }
      },
      "cell_type": "code",
      "source": [
        "df['stroke'][df['stroke'].notnull()].describe()"
      ],
      "execution_count": 16,
      "outputs": [
        {
          "output_type": "execute_result",
          "data": {
            "text/plain": [
              "count    201.000000\n",
              "mean       3.255423\n",
              "std        0.316717\n",
              "min        2.070000\n",
              "25%        3.110000\n",
              "50%        3.290000\n",
              "75%        3.410000\n",
              "max        4.170000\n",
              "Name: stroke, dtype: float64"
            ]
          },
          "metadata": {
            "tags": []
          },
          "execution_count": 16
        }
      ]
    },
    {
      "metadata": {
        "id": "1NaMTHTDqrCh",
        "colab_type": "code",
        "colab": {}
      },
      "cell_type": "code",
      "source": [
        "df['stroke'].fillna(df['stroke'].mean(),inplace=True)"
      ],
      "execution_count": 0,
      "outputs": []
    },
    {
      "metadata": {
        "id": "migPdFbH7axZ",
        "colab_type": "text"
      },
      "cell_type": "markdown",
      "source": [
        "#### Se analizan las observaciones que tienen NaN  en la variable horsepower "
      ]
    },
    {
      "metadata": {
        "id": "mQrN7_Ru7QuW",
        "colab_type": "code",
        "outputId": "a1034373-7fcf-4b64-dbd0-1e87536e567e",
        "colab": {
          "base_uri": "https://localhost:8080/",
          "height": 170
        }
      },
      "cell_type": "code",
      "source": [
        "df['horsepower'][df['horsepower'].notnull()].describe()"
      ],
      "execution_count": 18,
      "outputs": [
        {
          "output_type": "execute_result",
          "data": {
            "text/plain": [
              "count    203.000000\n",
              "mean     104.256158\n",
              "std       39.714369\n",
              "min       48.000000\n",
              "25%       70.000000\n",
              "50%       95.000000\n",
              "75%      116.000000\n",
              "max      288.000000\n",
              "Name: horsepower, dtype: float64"
            ]
          },
          "metadata": {
            "tags": []
          },
          "execution_count": 18
        }
      ]
    },
    {
      "metadata": {
        "id": "QJ2xoypt7Q2q",
        "colab_type": "code",
        "colab": {}
      },
      "cell_type": "code",
      "source": [
        "df['horsepower'].fillna(df['horsepower'].mean(),inplace=True)"
      ],
      "execution_count": 0,
      "outputs": []
    },
    {
      "metadata": {
        "id": "2bGw5xMp8Aif",
        "colab_type": "text"
      },
      "cell_type": "markdown",
      "source": [
        "#### Se analizan las observaciones que tienen NaN  en la variable peak_rpm "
      ]
    },
    {
      "metadata": {
        "id": "jxmJ_Cct7Q6Q",
        "colab_type": "code",
        "outputId": "086c419f-cbc8-4d15-f696-63f9083616ed",
        "colab": {
          "base_uri": "https://localhost:8080/",
          "height": 170
        }
      },
      "cell_type": "code",
      "source": [
        "df['peak_rpm'][df['peak_rpm'].notnull()].describe()"
      ],
      "execution_count": 20,
      "outputs": [
        {
          "output_type": "execute_result",
          "data": {
            "text/plain": [
              "count     203.000000\n",
              "mean     5125.369458\n",
              "std       479.334560\n",
              "min      4150.000000\n",
              "25%      4800.000000\n",
              "50%      5200.000000\n",
              "75%      5500.000000\n",
              "max      6600.000000\n",
              "Name: peak_rpm, dtype: float64"
            ]
          },
          "metadata": {
            "tags": []
          },
          "execution_count": 20
        }
      ]
    },
    {
      "metadata": {
        "id": "CxIhdtD_7RDU",
        "colab_type": "code",
        "colab": {}
      },
      "cell_type": "code",
      "source": [
        "df['peak_rpm'].fillna(df['peak_rpm'].mean(),inplace=True)"
      ],
      "execution_count": 0,
      "outputs": []
    },
    {
      "metadata": {
        "id": "UQV7SeMg823i",
        "colab_type": "text"
      },
      "cell_type": "markdown",
      "source": [
        "#### Se analizan las observaciones que tienen NaN  en la variable price"
      ]
    },
    {
      "metadata": {
        "id": "MbueTIBm7RHc",
        "colab_type": "code",
        "outputId": "c6c7da75-453b-4530-c1a2-405868d6fc5b",
        "colab": {
          "base_uri": "https://localhost:8080/",
          "height": 170
        }
      },
      "cell_type": "code",
      "source": [
        "df['price'][df['price'].notnull()].describe()"
      ],
      "execution_count": 22,
      "outputs": [
        {
          "output_type": "execute_result",
          "data": {
            "text/plain": [
              "count      201.000000\n",
              "mean     13207.129353\n",
              "std       7947.066342\n",
              "min       5118.000000\n",
              "25%       7775.000000\n",
              "50%      10295.000000\n",
              "75%      16500.000000\n",
              "max      45400.000000\n",
              "Name: price, dtype: float64"
            ]
          },
          "metadata": {
            "tags": []
          },
          "execution_count": 22
        }
      ]
    },
    {
      "metadata": {
        "id": "zWuG-c9u7RK-",
        "colab_type": "code",
        "colab": {}
      },
      "cell_type": "code",
      "source": [
        "df['price'].fillna(df['price'].mean(),inplace=True)"
      ],
      "execution_count": 0,
      "outputs": []
    },
    {
      "metadata": {
        "id": "qxFL40U8-GLg",
        "colab_type": "text"
      },
      "cell_type": "markdown",
      "source": [
        "#### Se valida nuevamente la existencia de valores nulos"
      ]
    },
    {
      "metadata": {
        "id": "aC6Q_nWf7ROr",
        "colab_type": "code",
        "outputId": "df51bf29-31c7-4a7f-81b3-4bded3a141ae",
        "colab": {
          "base_uri": "https://localhost:8080/",
          "height": 34
        }
      },
      "cell_type": "code",
      "source": [
        "dfColsNa = df[df.columns[df.isna().any()]].isnull().sum()\n",
        "dfColsNa"
      ],
      "execution_count": 24,
      "outputs": [
        {
          "output_type": "execute_result",
          "data": {
            "text/plain": [
              "Series([], dtype: float64)"
            ]
          },
          "metadata": {
            "tags": []
          },
          "execution_count": 24
        }
      ]
    },
    {
      "metadata": {
        "id": "_ocwdNoMMK39",
        "colab_type": "text"
      },
      "cell_type": "markdown",
      "source": [
        "# Exercise 13.2\n",
        "\n",
        "Split the data into training and testing sets\n",
        "\n",
        "Train a Random Forest Regressor to predict the price of a car using the nominal features"
      ]
    },
    {
      "metadata": {
        "id": "UMyADzWTwysK",
        "colab_type": "code",
        "colab": {}
      },
      "cell_type": "code",
      "source": [
        "from sklearn.ensemble import RandomForestRegressor\n",
        "from sklearn.metrics import mean_squared_error\n",
        "from sklearn.model_selection import train_test_split\n",
        "\n",
        "regr = RandomForestRegressor(max_depth=15, random_state=0,n_estimators=1000)\n",
        "\n",
        "y = df['price']\n",
        "X = df.drop('price', axis=1)\n",
        "X_train_, X_test_, y_train, y_test = train_test_split(X, y, test_size=0.33, random_state=42)"
      ],
      "execution_count": 0,
      "outputs": []
    },
    {
      "metadata": {
        "id": "bi_g3m_CESzP",
        "colab_type": "text"
      },
      "cell_type": "markdown",
      "source": [
        "#### Se ejecuta el modelo solo con variables explicativas tipo int64 y float64"
      ]
    },
    {
      "metadata": {
        "id": "HDx24QzXMK3_",
        "colab_type": "code",
        "outputId": "fa66a047-2f17-4d5d-f302-8e5b00339313",
        "colab": {
          "base_uri": "https://localhost:8080/",
          "height": 119
        }
      },
      "cell_type": "code",
      "source": [
        "X_train = X_train_.select_dtypes(include=['int64','float64']).copy()\n",
        "X_test = X_test_.select_dtypes(include=['int64','float64']).copy()\n",
        "regr.fit(X_train, y_train)"
      ],
      "execution_count": 26,
      "outputs": [
        {
          "output_type": "execute_result",
          "data": {
            "text/plain": [
              "RandomForestRegressor(bootstrap=True, criterion='mse', max_depth=15,\n",
              "           max_features='auto', max_leaf_nodes=None,\n",
              "           min_impurity_decrease=0.0, min_impurity_split=None,\n",
              "           min_samples_leaf=1, min_samples_split=2,\n",
              "           min_weight_fraction_leaf=0.0, n_estimators=1000, n_jobs=None,\n",
              "           oob_score=False, random_state=0, verbose=0, warm_start=False)"
            ]
          },
          "metadata": {
            "tags": []
          },
          "execution_count": 26
        }
      ]
    },
    {
      "metadata": {
        "id": "iqdjDYFn260U",
        "colab_type": "code",
        "outputId": "e0e8dc22-a194-4d29-8f72-698cb661760b",
        "colab": {
          "base_uri": "https://localhost:8080/",
          "height": 359
        }
      },
      "cell_type": "code",
      "source": [
        "dfResult = pd.DataFrame({'True':y_test})\n",
        "dfResult['NominalVars'] = regr.predict(X_test)\n",
        "\n",
        "dfResult.head(10)"
      ],
      "execution_count": 27,
      "outputs": [
        {
          "output_type": "execute_result",
          "data": {
            "text/html": [
              "<div>\n",
              "<style scoped>\n",
              "    .dataframe tbody tr th:only-of-type {\n",
              "        vertical-align: middle;\n",
              "    }\n",
              "\n",
              "    .dataframe tbody tr th {\n",
              "        vertical-align: top;\n",
              "    }\n",
              "\n",
              "    .dataframe thead th {\n",
              "        text-align: right;\n",
              "    }\n",
              "</style>\n",
              "<table border=\"1\" class=\"dataframe\">\n",
              "  <thead>\n",
              "    <tr style=\"text-align: right;\">\n",
              "      <th></th>\n",
              "      <th>True</th>\n",
              "      <th>NominalVars</th>\n",
              "    </tr>\n",
              "  </thead>\n",
              "  <tbody>\n",
              "    <tr>\n",
              "      <th>15</th>\n",
              "      <td>30760.000000</td>\n",
              "      <td>30542.612423</td>\n",
              "    </tr>\n",
              "    <tr>\n",
              "      <th>9</th>\n",
              "      <td>13207.129353</td>\n",
              "      <td>18828.229092</td>\n",
              "    </tr>\n",
              "    <tr>\n",
              "      <th>100</th>\n",
              "      <td>9549.000000</td>\n",
              "      <td>9028.210000</td>\n",
              "    </tr>\n",
              "    <tr>\n",
              "      <th>132</th>\n",
              "      <td>11850.000000</td>\n",
              "      <td>13782.061000</td>\n",
              "    </tr>\n",
              "    <tr>\n",
              "      <th>68</th>\n",
              "      <td>28248.000000</td>\n",
              "      <td>28116.891259</td>\n",
              "    </tr>\n",
              "    <tr>\n",
              "      <th>95</th>\n",
              "      <td>7799.000000</td>\n",
              "      <td>7113.996058</td>\n",
              "    </tr>\n",
              "    <tr>\n",
              "      <th>159</th>\n",
              "      <td>7788.000000</td>\n",
              "      <td>8130.126622</td>\n",
              "    </tr>\n",
              "    <tr>\n",
              "      <th>162</th>\n",
              "      <td>9258.000000</td>\n",
              "      <td>8065.112429</td>\n",
              "    </tr>\n",
              "    <tr>\n",
              "      <th>147</th>\n",
              "      <td>10198.000000</td>\n",
              "      <td>10065.560333</td>\n",
              "    </tr>\n",
              "    <tr>\n",
              "      <th>182</th>\n",
              "      <td>7775.000000</td>\n",
              "      <td>8460.832896</td>\n",
              "    </tr>\n",
              "  </tbody>\n",
              "</table>\n",
              "</div>"
            ],
            "text/plain": [
              "             True   NominalVars\n",
              "15   30760.000000  30542.612423\n",
              "9    13207.129353  18828.229092\n",
              "100   9549.000000   9028.210000\n",
              "132  11850.000000  13782.061000\n",
              "68   28248.000000  28116.891259\n",
              "95    7799.000000   7113.996058\n",
              "159   7788.000000   8130.126622\n",
              "162   9258.000000   8065.112429\n",
              "147  10198.000000  10065.560333\n",
              "182   7775.000000   8460.832896"
            ]
          },
          "metadata": {
            "tags": []
          },
          "execution_count": 27
        }
      ]
    },
    {
      "metadata": {
        "id": "69vkuuT03N1Z",
        "colab_type": "code",
        "outputId": "06bf5413-6687-4ccc-c4e9-9738bfddcbae",
        "colab": {
          "base_uri": "https://localhost:8080/",
          "height": 34
        }
      },
      "cell_type": "code",
      "source": [
        "np.sqrt(mean_squared_error(dfResult['True'], dfResult['NominalVars']))"
      ],
      "execution_count": 28,
      "outputs": [
        {
          "output_type": "execute_result",
          "data": {
            "text/plain": [
              "2480.5483086913796"
            ]
          },
          "metadata": {
            "tags": []
          },
          "execution_count": 28
        }
      ]
    },
    {
      "metadata": {
        "id": "qhNG6ed2MK4F",
        "colab_type": "text"
      },
      "cell_type": "markdown",
      "source": [
        "# Exercise 13.3\n",
        "\n",
        "Create dummy variables for the categorical features\n",
        "\n",
        "Train a Random Forest Regressor and compare"
      ]
    },
    {
      "metadata": {
        "id": "uLNnN9iQEkmN",
        "colab_type": "text"
      },
      "cell_type": "markdown",
      "source": [
        "### Se crea función fix_columns, para corregir el faltante de variables Dummy entre Train y Test."
      ]
    },
    {
      "metadata": {
        "id": "muqDIl9F-K2e",
        "colab_type": "code",
        "colab": {}
      },
      "cell_type": "code",
      "source": [
        "def fix_columns( d, columns ):\n",
        "  #Rellena las columnas faltantes con valores 0\n",
        "  for c in set( columns ) - set( d.columns ):\n",
        "    d[c] = 0\n",
        "    \n",
        "  #Les da el mismo orden y retorna\n",
        "  d = d[ columns ]\n",
        "  return d        "
      ],
      "execution_count": 0,
      "outputs": []
    },
    {
      "metadata": {
        "id": "8jDt0JPlMK4H",
        "colab_type": "code",
        "colab": {}
      },
      "cell_type": "code",
      "source": [
        "X_train = pd.get_dummies(X_train_)\n",
        "X_test = pd.get_dummies(X_test_)\n",
        "\n",
        "X_test = fix_columns( X_test.copy(), X_train.columns )"
      ],
      "execution_count": 0,
      "outputs": []
    },
    {
      "metadata": {
        "id": "wGDogdtMqDjn",
        "colab_type": "code",
        "outputId": "b8a19d70-9e08-4702-d3df-2a10a679affd",
        "colab": {
          "base_uri": "https://localhost:8080/",
          "height": 119
        }
      },
      "cell_type": "code",
      "source": [
        "\n",
        "regr.fit(X_train, y_train)"
      ],
      "execution_count": 31,
      "outputs": [
        {
          "output_type": "execute_result",
          "data": {
            "text/plain": [
              "RandomForestRegressor(bootstrap=True, criterion='mse', max_depth=15,\n",
              "           max_features='auto', max_leaf_nodes=None,\n",
              "           min_impurity_decrease=0.0, min_impurity_split=None,\n",
              "           min_samples_leaf=1, min_samples_split=2,\n",
              "           min_weight_fraction_leaf=0.0, n_estimators=1000, n_jobs=None,\n",
              "           oob_score=False, random_state=0, verbose=0, warm_start=False)"
            ]
          },
          "metadata": {
            "tags": []
          },
          "execution_count": 31
        }
      ]
    },
    {
      "metadata": {
        "id": "wpL83Z2wqG5i",
        "colab_type": "code",
        "outputId": "5f722ea2-c1b2-421c-b73b-9a6fef2b85e0",
        "colab": {
          "base_uri": "https://localhost:8080/",
          "height": 359
        }
      },
      "cell_type": "code",
      "source": [
        "dfResult['dummies'] = regr.predict(X_test)\n",
        "dfResult.head(10)"
      ],
      "execution_count": 32,
      "outputs": [
        {
          "output_type": "execute_result",
          "data": {
            "text/html": [
              "<div>\n",
              "<style scoped>\n",
              "    .dataframe tbody tr th:only-of-type {\n",
              "        vertical-align: middle;\n",
              "    }\n",
              "\n",
              "    .dataframe tbody tr th {\n",
              "        vertical-align: top;\n",
              "    }\n",
              "\n",
              "    .dataframe thead th {\n",
              "        text-align: right;\n",
              "    }\n",
              "</style>\n",
              "<table border=\"1\" class=\"dataframe\">\n",
              "  <thead>\n",
              "    <tr style=\"text-align: right;\">\n",
              "      <th></th>\n",
              "      <th>True</th>\n",
              "      <th>NominalVars</th>\n",
              "      <th>dummies</th>\n",
              "    </tr>\n",
              "  </thead>\n",
              "  <tbody>\n",
              "    <tr>\n",
              "      <th>15</th>\n",
              "      <td>30760.000000</td>\n",
              "      <td>30542.612423</td>\n",
              "      <td>30995.352423</td>\n",
              "    </tr>\n",
              "    <tr>\n",
              "      <th>9</th>\n",
              "      <td>13207.129353</td>\n",
              "      <td>18828.229092</td>\n",
              "      <td>19046.817905</td>\n",
              "    </tr>\n",
              "    <tr>\n",
              "      <th>100</th>\n",
              "      <td>9549.000000</td>\n",
              "      <td>9028.210000</td>\n",
              "      <td>8987.406500</td>\n",
              "    </tr>\n",
              "    <tr>\n",
              "      <th>132</th>\n",
              "      <td>11850.000000</td>\n",
              "      <td>13782.061000</td>\n",
              "      <td>13755.680367</td>\n",
              "    </tr>\n",
              "    <tr>\n",
              "      <th>68</th>\n",
              "      <td>28248.000000</td>\n",
              "      <td>28116.891259</td>\n",
              "      <td>28601.370000</td>\n",
              "    </tr>\n",
              "    <tr>\n",
              "      <th>95</th>\n",
              "      <td>7799.000000</td>\n",
              "      <td>7113.996058</td>\n",
              "      <td>6753.180429</td>\n",
              "    </tr>\n",
              "    <tr>\n",
              "      <th>159</th>\n",
              "      <td>7788.000000</td>\n",
              "      <td>8130.126622</td>\n",
              "      <td>8115.950771</td>\n",
              "    </tr>\n",
              "    <tr>\n",
              "      <th>162</th>\n",
              "      <td>9258.000000</td>\n",
              "      <td>8065.112429</td>\n",
              "      <td>8004.141429</td>\n",
              "    </tr>\n",
              "    <tr>\n",
              "      <th>147</th>\n",
              "      <td>10198.000000</td>\n",
              "      <td>10065.560333</td>\n",
              "      <td>10071.085417</td>\n",
              "    </tr>\n",
              "    <tr>\n",
              "      <th>182</th>\n",
              "      <td>7775.000000</td>\n",
              "      <td>8460.832896</td>\n",
              "      <td>8294.343234</td>\n",
              "    </tr>\n",
              "  </tbody>\n",
              "</table>\n",
              "</div>"
            ],
            "text/plain": [
              "             True   NominalVars       dummies\n",
              "15   30760.000000  30542.612423  30995.352423\n",
              "9    13207.129353  18828.229092  19046.817905\n",
              "100   9549.000000   9028.210000   8987.406500\n",
              "132  11850.000000  13782.061000  13755.680367\n",
              "68   28248.000000  28116.891259  28601.370000\n",
              "95    7799.000000   7113.996058   6753.180429\n",
              "159   7788.000000   8130.126622   8115.950771\n",
              "162   9258.000000   8065.112429   8004.141429\n",
              "147  10198.000000  10065.560333  10071.085417\n",
              "182   7775.000000   8460.832896   8294.343234"
            ]
          },
          "metadata": {
            "tags": []
          },
          "execution_count": 32
        }
      ]
    },
    {
      "metadata": {
        "id": "UWSPL4kDy0Pa",
        "colab_type": "code",
        "outputId": "daaaedb9-90ec-4ba4-f185-fc0a81646870",
        "colab": {
          "base_uri": "https://localhost:8080/",
          "height": 34
        }
      },
      "cell_type": "code",
      "source": [
        "np.sqrt(mean_squared_error(dfResult['True'], dfResult['dummies']))"
      ],
      "execution_count": 33,
      "outputs": [
        {
          "output_type": "execute_result",
          "data": {
            "text/plain": [
              "2378.548829776885"
            ]
          },
          "metadata": {
            "tags": []
          },
          "execution_count": 33
        }
      ]
    },
    {
      "metadata": {
        "id": "LPD2xa4hMK4N",
        "colab_type": "text"
      },
      "cell_type": "markdown",
      "source": [
        "# Exercise 13.4\n",
        "\n",
        "Apply two other methods of categorical encoding\n",
        "\n",
        "compare the results"
      ]
    },
    {
      "metadata": {
        "id": "WuOwOF_aMK4O",
        "colab_type": "code",
        "colab": {}
      },
      "cell_type": "code",
      "source": [
        "#!pip install category_encoders\n",
        "import category_encoders as ce"
      ],
      "execution_count": 0,
      "outputs": []
    },
    {
      "metadata": {
        "id": "rj9TQl3fEy-y",
        "colab_type": "text"
      },
      "cell_type": "markdown",
      "source": [
        "### Las variables del Dataframe completo para las variables categorigas se codifican con BinaryEncoder"
      ]
    },
    {
      "metadata": {
        "id": "wNRGGkET8Iw-",
        "colab_type": "code",
        "colab": {}
      },
      "cell_type": "code",
      "source": [
        "X_total = ce.BinaryEncoder().fit_transform(X, axis=1)"
      ],
      "execution_count": 0,
      "outputs": []
    },
    {
      "metadata": {
        "id": "tiiCzd1F9lzD",
        "colab_type": "text"
      },
      "cell_type": "markdown",
      "source": [
        "##### Se crean nuevamente los dataframe de Train y Test, usando los indices de y_train y y_test, para conservar el split definido inicialmente."
      ]
    },
    {
      "metadata": {
        "id": "uZru4JA29S-D",
        "colab_type": "code",
        "colab": {}
      },
      "cell_type": "code",
      "source": [
        "X_train = X_total.loc[y_train.index]\n",
        "X_test = X_total.loc[y_test.index]"
      ],
      "execution_count": 0,
      "outputs": []
    },
    {
      "metadata": {
        "id": "HthsphP38hM6",
        "colab_type": "code",
        "outputId": "154d3adc-97ff-4ef1-ac46-8f8b784cf8eb",
        "colab": {
          "base_uri": "https://localhost:8080/",
          "height": 119
        }
      },
      "cell_type": "code",
      "source": [
        "regr.fit(X_train, y_train)"
      ],
      "execution_count": 37,
      "outputs": [
        {
          "output_type": "execute_result",
          "data": {
            "text/plain": [
              "RandomForestRegressor(bootstrap=True, criterion='mse', max_depth=15,\n",
              "           max_features='auto', max_leaf_nodes=None,\n",
              "           min_impurity_decrease=0.0, min_impurity_split=None,\n",
              "           min_samples_leaf=1, min_samples_split=2,\n",
              "           min_weight_fraction_leaf=0.0, n_estimators=1000, n_jobs=None,\n",
              "           oob_score=False, random_state=0, verbose=0, warm_start=False)"
            ]
          },
          "metadata": {
            "tags": []
          },
          "execution_count": 37
        }
      ]
    },
    {
      "metadata": {
        "id": "WdvPubpW80a4",
        "colab_type": "code",
        "outputId": "0277672b-c5ac-40db-bbdc-8939c9cb7227",
        "colab": {
          "base_uri": "https://localhost:8080/",
          "height": 359
        }
      },
      "cell_type": "code",
      "source": [
        "dfResult['BinaryEncoder'] = regr.predict(X_test)\n",
        "dfResult.head(10)"
      ],
      "execution_count": 38,
      "outputs": [
        {
          "output_type": "execute_result",
          "data": {
            "text/html": [
              "<div>\n",
              "<style scoped>\n",
              "    .dataframe tbody tr th:only-of-type {\n",
              "        vertical-align: middle;\n",
              "    }\n",
              "\n",
              "    .dataframe tbody tr th {\n",
              "        vertical-align: top;\n",
              "    }\n",
              "\n",
              "    .dataframe thead th {\n",
              "        text-align: right;\n",
              "    }\n",
              "</style>\n",
              "<table border=\"1\" class=\"dataframe\">\n",
              "  <thead>\n",
              "    <tr style=\"text-align: right;\">\n",
              "      <th></th>\n",
              "      <th>True</th>\n",
              "      <th>NominalVars</th>\n",
              "      <th>dummies</th>\n",
              "      <th>BinaryEncoder</th>\n",
              "    </tr>\n",
              "  </thead>\n",
              "  <tbody>\n",
              "    <tr>\n",
              "      <th>15</th>\n",
              "      <td>30760.000000</td>\n",
              "      <td>30542.612423</td>\n",
              "      <td>30995.352423</td>\n",
              "      <td>30749.717958</td>\n",
              "    </tr>\n",
              "    <tr>\n",
              "      <th>9</th>\n",
              "      <td>13207.129353</td>\n",
              "      <td>18828.229092</td>\n",
              "      <td>19046.817905</td>\n",
              "      <td>19212.740647</td>\n",
              "    </tr>\n",
              "    <tr>\n",
              "      <th>100</th>\n",
              "      <td>9549.000000</td>\n",
              "      <td>9028.210000</td>\n",
              "      <td>8987.406500</td>\n",
              "      <td>8970.220667</td>\n",
              "    </tr>\n",
              "    <tr>\n",
              "      <th>132</th>\n",
              "      <td>11850.000000</td>\n",
              "      <td>13782.061000</td>\n",
              "      <td>13755.680367</td>\n",
              "      <td>13710.787879</td>\n",
              "    </tr>\n",
              "    <tr>\n",
              "      <th>68</th>\n",
              "      <td>28248.000000</td>\n",
              "      <td>28116.891259</td>\n",
              "      <td>28601.370000</td>\n",
              "      <td>28750.889682</td>\n",
              "    </tr>\n",
              "    <tr>\n",
              "      <th>95</th>\n",
              "      <td>7799.000000</td>\n",
              "      <td>7113.996058</td>\n",
              "      <td>6753.180429</td>\n",
              "      <td>6874.557558</td>\n",
              "    </tr>\n",
              "    <tr>\n",
              "      <th>159</th>\n",
              "      <td>7788.000000</td>\n",
              "      <td>8130.126622</td>\n",
              "      <td>8115.950771</td>\n",
              "      <td>8158.931751</td>\n",
              "    </tr>\n",
              "    <tr>\n",
              "      <th>162</th>\n",
              "      <td>9258.000000</td>\n",
              "      <td>8065.112429</td>\n",
              "      <td>8004.141429</td>\n",
              "      <td>8042.910929</td>\n",
              "    </tr>\n",
              "    <tr>\n",
              "      <th>147</th>\n",
              "      <td>10198.000000</td>\n",
              "      <td>10065.560333</td>\n",
              "      <td>10071.085417</td>\n",
              "      <td>10310.361821</td>\n",
              "    </tr>\n",
              "    <tr>\n",
              "      <th>182</th>\n",
              "      <td>7775.000000</td>\n",
              "      <td>8460.832896</td>\n",
              "      <td>8294.343234</td>\n",
              "      <td>8385.671915</td>\n",
              "    </tr>\n",
              "  </tbody>\n",
              "</table>\n",
              "</div>"
            ],
            "text/plain": [
              "             True   NominalVars       dummies  BinaryEncoder\n",
              "15   30760.000000  30542.612423  30995.352423   30749.717958\n",
              "9    13207.129353  18828.229092  19046.817905   19212.740647\n",
              "100   9549.000000   9028.210000   8987.406500    8970.220667\n",
              "132  11850.000000  13782.061000  13755.680367   13710.787879\n",
              "68   28248.000000  28116.891259  28601.370000   28750.889682\n",
              "95    7799.000000   7113.996058   6753.180429    6874.557558\n",
              "159   7788.000000   8130.126622   8115.950771    8158.931751\n",
              "162   9258.000000   8065.112429   8004.141429    8042.910929\n",
              "147  10198.000000  10065.560333  10071.085417   10310.361821\n",
              "182   7775.000000   8460.832896   8294.343234    8385.671915"
            ]
          },
          "metadata": {
            "tags": []
          },
          "execution_count": 38
        }
      ]
    },
    {
      "metadata": {
        "id": "PaKSyDbW8828",
        "colab_type": "code",
        "outputId": "be6cbe56-fab4-42f7-dc92-c7499178ab14",
        "colab": {
          "base_uri": "https://localhost:8080/",
          "height": 34
        }
      },
      "cell_type": "code",
      "source": [
        "np.sqrt(mean_squared_error(dfResult['True'], dfResult['BinaryEncoder']))"
      ],
      "execution_count": 39,
      "outputs": [
        {
          "output_type": "execute_result",
          "data": {
            "text/plain": [
              "2470.607783537381"
            ]
          },
          "metadata": {
            "tags": []
          },
          "execution_count": 39
        }
      ]
    },
    {
      "metadata": {
        "id": "qjtQzh8mE_a6",
        "colab_type": "text"
      },
      "cell_type": "markdown",
      "source": [
        "### Las variables categorigas se codifican con HashingEncoder"
      ]
    },
    {
      "metadata": {
        "id": "Ityrdpe2-Eao",
        "colab_type": "code",
        "colab": {}
      },
      "cell_type": "code",
      "source": [
        "X_total = ce.HashingEncoder().fit_transform(X, axis=1)"
      ],
      "execution_count": 0,
      "outputs": []
    },
    {
      "metadata": {
        "id": "Pt7cLz7Y-cMF",
        "colab_type": "text"
      },
      "cell_type": "markdown",
      "source": [
        "##### Se crean nuevamente los dataframe de Train y Test, usando los indices de y_train y y_test, para conservar el split definido inicialmente."
      ]
    },
    {
      "metadata": {
        "id": "10x0CUTV-hFV",
        "colab_type": "code",
        "colab": {}
      },
      "cell_type": "code",
      "source": [
        "X_train = X_total.loc[y_train.index]\n",
        "X_test = X_total.loc[y_test.index]"
      ],
      "execution_count": 0,
      "outputs": []
    },
    {
      "metadata": {
        "id": "MSWRS9Gr9bIq",
        "colab_type": "code",
        "outputId": "ebbdcb2a-004c-4e73-c0a0-0ba1a16275be",
        "colab": {
          "base_uri": "https://localhost:8080/",
          "height": 119
        }
      },
      "cell_type": "code",
      "source": [
        "regr.fit(X_train, y_train)"
      ],
      "execution_count": 42,
      "outputs": [
        {
          "output_type": "execute_result",
          "data": {
            "text/plain": [
              "RandomForestRegressor(bootstrap=True, criterion='mse', max_depth=15,\n",
              "           max_features='auto', max_leaf_nodes=None,\n",
              "           min_impurity_decrease=0.0, min_impurity_split=None,\n",
              "           min_samples_leaf=1, min_samples_split=2,\n",
              "           min_weight_fraction_leaf=0.0, n_estimators=1000, n_jobs=None,\n",
              "           oob_score=False, random_state=0, verbose=0, warm_start=False)"
            ]
          },
          "metadata": {
            "tags": []
          },
          "execution_count": 42
        }
      ]
    },
    {
      "metadata": {
        "id": "4JH_VEw99jL4",
        "colab_type": "code",
        "outputId": "ed86a625-2a05-4975-d44b-474abcce42db",
        "colab": {
          "base_uri": "https://localhost:8080/",
          "height": 359
        }
      },
      "cell_type": "code",
      "source": [
        "dfResult['HashingEncoder'] = regr.predict(X_test)\n",
        "dfResult.head(10)"
      ],
      "execution_count": 43,
      "outputs": [
        {
          "output_type": "execute_result",
          "data": {
            "text/html": [
              "<div>\n",
              "<style scoped>\n",
              "    .dataframe tbody tr th:only-of-type {\n",
              "        vertical-align: middle;\n",
              "    }\n",
              "\n",
              "    .dataframe tbody tr th {\n",
              "        vertical-align: top;\n",
              "    }\n",
              "\n",
              "    .dataframe thead th {\n",
              "        text-align: right;\n",
              "    }\n",
              "</style>\n",
              "<table border=\"1\" class=\"dataframe\">\n",
              "  <thead>\n",
              "    <tr style=\"text-align: right;\">\n",
              "      <th></th>\n",
              "      <th>True</th>\n",
              "      <th>NominalVars</th>\n",
              "      <th>dummies</th>\n",
              "      <th>BinaryEncoder</th>\n",
              "      <th>HashingEncoder</th>\n",
              "    </tr>\n",
              "  </thead>\n",
              "  <tbody>\n",
              "    <tr>\n",
              "      <th>15</th>\n",
              "      <td>30760.000000</td>\n",
              "      <td>30542.612423</td>\n",
              "      <td>30995.352423</td>\n",
              "      <td>30749.717958</td>\n",
              "      <td>31186.953294</td>\n",
              "    </tr>\n",
              "    <tr>\n",
              "      <th>9</th>\n",
              "      <td>13207.129353</td>\n",
              "      <td>18828.229092</td>\n",
              "      <td>19046.817905</td>\n",
              "      <td>19212.740647</td>\n",
              "      <td>18999.653109</td>\n",
              "    </tr>\n",
              "    <tr>\n",
              "      <th>100</th>\n",
              "      <td>9549.000000</td>\n",
              "      <td>9028.210000</td>\n",
              "      <td>8987.406500</td>\n",
              "      <td>8970.220667</td>\n",
              "      <td>9011.225000</td>\n",
              "    </tr>\n",
              "    <tr>\n",
              "      <th>132</th>\n",
              "      <td>11850.000000</td>\n",
              "      <td>13782.061000</td>\n",
              "      <td>13755.680367</td>\n",
              "      <td>13710.787879</td>\n",
              "      <td>13676.066175</td>\n",
              "    </tr>\n",
              "    <tr>\n",
              "      <th>68</th>\n",
              "      <td>28248.000000</td>\n",
              "      <td>28116.891259</td>\n",
              "      <td>28601.370000</td>\n",
              "      <td>28750.889682</td>\n",
              "      <td>28349.304129</td>\n",
              "    </tr>\n",
              "    <tr>\n",
              "      <th>95</th>\n",
              "      <td>7799.000000</td>\n",
              "      <td>7113.996058</td>\n",
              "      <td>6753.180429</td>\n",
              "      <td>6874.557558</td>\n",
              "      <td>7023.037000</td>\n",
              "    </tr>\n",
              "    <tr>\n",
              "      <th>159</th>\n",
              "      <td>7788.000000</td>\n",
              "      <td>8130.126622</td>\n",
              "      <td>8115.950771</td>\n",
              "      <td>8158.931751</td>\n",
              "      <td>8131.339010</td>\n",
              "    </tr>\n",
              "    <tr>\n",
              "      <th>162</th>\n",
              "      <td>9258.000000</td>\n",
              "      <td>8065.112429</td>\n",
              "      <td>8004.141429</td>\n",
              "      <td>8042.910929</td>\n",
              "      <td>7979.360429</td>\n",
              "    </tr>\n",
              "    <tr>\n",
              "      <th>147</th>\n",
              "      <td>10198.000000</td>\n",
              "      <td>10065.560333</td>\n",
              "      <td>10071.085417</td>\n",
              "      <td>10310.361821</td>\n",
              "      <td>9903.769425</td>\n",
              "    </tr>\n",
              "    <tr>\n",
              "      <th>182</th>\n",
              "      <td>7775.000000</td>\n",
              "      <td>8460.832896</td>\n",
              "      <td>8294.343234</td>\n",
              "      <td>8385.671915</td>\n",
              "      <td>8379.159602</td>\n",
              "    </tr>\n",
              "  </tbody>\n",
              "</table>\n",
              "</div>"
            ],
            "text/plain": [
              "             True   NominalVars       dummies  BinaryEncoder  HashingEncoder\n",
              "15   30760.000000  30542.612423  30995.352423   30749.717958    31186.953294\n",
              "9    13207.129353  18828.229092  19046.817905   19212.740647    18999.653109\n",
              "100   9549.000000   9028.210000   8987.406500    8970.220667     9011.225000\n",
              "132  11850.000000  13782.061000  13755.680367   13710.787879    13676.066175\n",
              "68   28248.000000  28116.891259  28601.370000   28750.889682    28349.304129\n",
              "95    7799.000000   7113.996058   6753.180429    6874.557558     7023.037000\n",
              "159   7788.000000   8130.126622   8115.950771    8158.931751     8131.339010\n",
              "162   9258.000000   8065.112429   8004.141429    8042.910929     7979.360429\n",
              "147  10198.000000  10065.560333  10071.085417   10310.361821     9903.769425\n",
              "182   7775.000000   8460.832896   8294.343234    8385.671915     8379.159602"
            ]
          },
          "metadata": {
            "tags": []
          },
          "execution_count": 43
        }
      ]
    },
    {
      "metadata": {
        "id": "xNsv5h_99n9W",
        "colab_type": "code",
        "outputId": "c2f43546-cd9d-4801-a44f-38281b4de060",
        "colab": {
          "base_uri": "https://localhost:8080/",
          "height": 34
        }
      },
      "cell_type": "code",
      "source": [
        "np.sqrt(mean_squared_error(dfResult['True'], dfResult['HashingEncoder']))"
      ],
      "execution_count": 44,
      "outputs": [
        {
          "output_type": "execute_result",
          "data": {
            "text/plain": [
              "2471.893456034546"
            ]
          },
          "metadata": {
            "tags": []
          },
          "execution_count": 44
        }
      ]
    },
    {
      "metadata": {
        "id": "n-P2GErO_296",
        "colab_type": "text"
      },
      "cell_type": "markdown",
      "source": [
        "### Las variables categorigas se codifican con HelmertEncoder"
      ]
    },
    {
      "metadata": {
        "id": "8M43XIP9_Qhq",
        "colab_type": "code",
        "colab": {}
      },
      "cell_type": "code",
      "source": [
        "X_total = ce.HelmertEncoder().fit_transform(X, axis=1)"
      ],
      "execution_count": 0,
      "outputs": []
    },
    {
      "metadata": {
        "id": "eu0DI14o_9RO",
        "colab_type": "text"
      },
      "cell_type": "markdown",
      "source": [
        "##### Se crean nuevamente los dataframe de Train y Test, usando los indices de y_train y y_test, para conservar el split definido inicialmente."
      ]
    },
    {
      "metadata": {
        "id": "K_NYW6E6_QlO",
        "colab_type": "code",
        "colab": {}
      },
      "cell_type": "code",
      "source": [
        "X_train = X_total.loc[y_train.index]\n",
        "X_test = X_total.loc[y_test.index]"
      ],
      "execution_count": 0,
      "outputs": []
    },
    {
      "metadata": {
        "id": "Bh50UqM2_QoA",
        "colab_type": "code",
        "colab": {
          "base_uri": "https://localhost:8080/",
          "height": 119
        },
        "outputId": "9974bfc0-0b19-47cb-cdc6-68476225b362"
      },
      "cell_type": "code",
      "source": [
        "regr.fit(X_train, y_train)"
      ],
      "execution_count": 47,
      "outputs": [
        {
          "output_type": "execute_result",
          "data": {
            "text/plain": [
              "RandomForestRegressor(bootstrap=True, criterion='mse', max_depth=15,\n",
              "           max_features='auto', max_leaf_nodes=None,\n",
              "           min_impurity_decrease=0.0, min_impurity_split=None,\n",
              "           min_samples_leaf=1, min_samples_split=2,\n",
              "           min_weight_fraction_leaf=0.0, n_estimators=1000, n_jobs=None,\n",
              "           oob_score=False, random_state=0, verbose=0, warm_start=False)"
            ]
          },
          "metadata": {
            "tags": []
          },
          "execution_count": 47
        }
      ]
    },
    {
      "metadata": {
        "id": "9jb3R9Rh_Qqr",
        "colab_type": "code",
        "colab": {
          "base_uri": "https://localhost:8080/",
          "height": 359
        },
        "outputId": "76693396-4139-4417-9297-50a7daeb80c1"
      },
      "cell_type": "code",
      "source": [
        "dfResult['HelmertEncoder'] = regr.predict(X_test)\n",
        "dfResult.head(10)"
      ],
      "execution_count": 48,
      "outputs": [
        {
          "output_type": "execute_result",
          "data": {
            "text/html": [
              "<div>\n",
              "<style scoped>\n",
              "    .dataframe tbody tr th:only-of-type {\n",
              "        vertical-align: middle;\n",
              "    }\n",
              "\n",
              "    .dataframe tbody tr th {\n",
              "        vertical-align: top;\n",
              "    }\n",
              "\n",
              "    .dataframe thead th {\n",
              "        text-align: right;\n",
              "    }\n",
              "</style>\n",
              "<table border=\"1\" class=\"dataframe\">\n",
              "  <thead>\n",
              "    <tr style=\"text-align: right;\">\n",
              "      <th></th>\n",
              "      <th>True</th>\n",
              "      <th>NominalVars</th>\n",
              "      <th>dummies</th>\n",
              "      <th>BinaryEncoder</th>\n",
              "      <th>HashingEncoder</th>\n",
              "      <th>HelmertEncoder</th>\n",
              "    </tr>\n",
              "  </thead>\n",
              "  <tbody>\n",
              "    <tr>\n",
              "      <th>15</th>\n",
              "      <td>30760.000000</td>\n",
              "      <td>30542.612423</td>\n",
              "      <td>30995.352423</td>\n",
              "      <td>30749.717958</td>\n",
              "      <td>31186.953294</td>\n",
              "      <td>31474.305517</td>\n",
              "    </tr>\n",
              "    <tr>\n",
              "      <th>9</th>\n",
              "      <td>13207.129353</td>\n",
              "      <td>18828.229092</td>\n",
              "      <td>19046.817905</td>\n",
              "      <td>19212.740647</td>\n",
              "      <td>18999.653109</td>\n",
              "      <td>19493.412017</td>\n",
              "    </tr>\n",
              "    <tr>\n",
              "      <th>100</th>\n",
              "      <td>9549.000000</td>\n",
              "      <td>9028.210000</td>\n",
              "      <td>8987.406500</td>\n",
              "      <td>8970.220667</td>\n",
              "      <td>9011.225000</td>\n",
              "      <td>8967.564000</td>\n",
              "    </tr>\n",
              "    <tr>\n",
              "      <th>132</th>\n",
              "      <td>11850.000000</td>\n",
              "      <td>13782.061000</td>\n",
              "      <td>13755.680367</td>\n",
              "      <td>13710.787879</td>\n",
              "      <td>13676.066175</td>\n",
              "      <td>13582.818879</td>\n",
              "    </tr>\n",
              "    <tr>\n",
              "      <th>68</th>\n",
              "      <td>28248.000000</td>\n",
              "      <td>28116.891259</td>\n",
              "      <td>28601.370000</td>\n",
              "      <td>28750.889682</td>\n",
              "      <td>28349.304129</td>\n",
              "      <td>28782.834129</td>\n",
              "    </tr>\n",
              "    <tr>\n",
              "      <th>95</th>\n",
              "      <td>7799.000000</td>\n",
              "      <td>7113.996058</td>\n",
              "      <td>6753.180429</td>\n",
              "      <td>6874.557558</td>\n",
              "      <td>7023.037000</td>\n",
              "      <td>6777.740129</td>\n",
              "    </tr>\n",
              "    <tr>\n",
              "      <th>159</th>\n",
              "      <td>7788.000000</td>\n",
              "      <td>8130.126622</td>\n",
              "      <td>8115.950771</td>\n",
              "      <td>8158.931751</td>\n",
              "      <td>8131.339010</td>\n",
              "      <td>8175.633826</td>\n",
              "    </tr>\n",
              "    <tr>\n",
              "      <th>162</th>\n",
              "      <td>9258.000000</td>\n",
              "      <td>8065.112429</td>\n",
              "      <td>8004.141429</td>\n",
              "      <td>8042.910929</td>\n",
              "      <td>7979.360429</td>\n",
              "      <td>8016.939667</td>\n",
              "    </tr>\n",
              "    <tr>\n",
              "      <th>147</th>\n",
              "      <td>10198.000000</td>\n",
              "      <td>10065.560333</td>\n",
              "      <td>10071.085417</td>\n",
              "      <td>10310.361821</td>\n",
              "      <td>9903.769425</td>\n",
              "      <td>9728.864167</td>\n",
              "    </tr>\n",
              "    <tr>\n",
              "      <th>182</th>\n",
              "      <td>7775.000000</td>\n",
              "      <td>8460.832896</td>\n",
              "      <td>8294.343234</td>\n",
              "      <td>8385.671915</td>\n",
              "      <td>8379.159602</td>\n",
              "      <td>8287.665104</td>\n",
              "    </tr>\n",
              "  </tbody>\n",
              "</table>\n",
              "</div>"
            ],
            "text/plain": [
              "             True   NominalVars       dummies  BinaryEncoder  HashingEncoder  \\\n",
              "15   30760.000000  30542.612423  30995.352423   30749.717958    31186.953294   \n",
              "9    13207.129353  18828.229092  19046.817905   19212.740647    18999.653109   \n",
              "100   9549.000000   9028.210000   8987.406500    8970.220667     9011.225000   \n",
              "132  11850.000000  13782.061000  13755.680367   13710.787879    13676.066175   \n",
              "68   28248.000000  28116.891259  28601.370000   28750.889682    28349.304129   \n",
              "95    7799.000000   7113.996058   6753.180429    6874.557558     7023.037000   \n",
              "159   7788.000000   8130.126622   8115.950771    8158.931751     8131.339010   \n",
              "162   9258.000000   8065.112429   8004.141429    8042.910929     7979.360429   \n",
              "147  10198.000000  10065.560333  10071.085417   10310.361821     9903.769425   \n",
              "182   7775.000000   8460.832896   8294.343234    8385.671915     8379.159602   \n",
              "\n",
              "     HelmertEncoder  \n",
              "15     31474.305517  \n",
              "9      19493.412017  \n",
              "100     8967.564000  \n",
              "132    13582.818879  \n",
              "68     28782.834129  \n",
              "95      6777.740129  \n",
              "159     8175.633826  \n",
              "162     8016.939667  \n",
              "147     9728.864167  \n",
              "182     8287.665104  "
            ]
          },
          "metadata": {
            "tags": []
          },
          "execution_count": 48
        }
      ]
    },
    {
      "metadata": {
        "id": "2p2U9f30_Qt7",
        "colab_type": "code",
        "colab": {
          "base_uri": "https://localhost:8080/",
          "height": 34
        },
        "outputId": "73197e87-800d-49b5-fb46-c299fa2c2b94"
      },
      "cell_type": "code",
      "source": [
        "np.sqrt(mean_squared_error(dfResult['True'], dfResult['HelmertEncoder']))"
      ],
      "execution_count": 49,
      "outputs": [
        {
          "output_type": "execute_result",
          "data": {
            "text/plain": [
              "2379.005831214595"
            ]
          },
          "metadata": {
            "tags": []
          },
          "execution_count": 49
        }
      ]
    },
    {
      "metadata": {
        "id": "8qB72TXeFEji",
        "colab_type": "text"
      },
      "cell_type": "markdown",
      "source": [
        "### Se presentan los resultados la raiz de MSE para para los cinco modelos modelos.  Obteniendo el mejor resultado para las variables codificadas con Dummy"
      ]
    },
    {
      "metadata": {
        "id": "YphVejlTBmo8",
        "colab_type": "code",
        "outputId": "937cc702-3d2b-4915-f168-06bf7ea7df4f",
        "colab": {
          "base_uri": "https://localhost:8080/",
          "height": 102
        }
      },
      "cell_type": "code",
      "source": [
        "for col in dfResult.columns[1:]:\n",
        "  print(col,':',np.sqrt(mean_squared_error(dfResult['True'], dfResult[col])))\n"
      ],
      "execution_count": 50,
      "outputs": [
        {
          "output_type": "stream",
          "text": [
            "NominalVars : 2480.5483086913796\n",
            "dummies : 2378.548829776885\n",
            "BinaryEncoder : 2470.607783537381\n",
            "HashingEncoder : 2471.893456034546\n",
            "HelmertEncoder : 2379.005831214595\n"
          ],
          "name": "stdout"
        }
      ]
    }
  ]
}