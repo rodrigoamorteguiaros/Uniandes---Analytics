{
  "nbformat": 4,
  "nbformat_minor": 0,
  "metadata": {
    "colab": {
      "name": "Copia de E15-fraud_detection.ipynb",
      "version": "0.3.2",
      "provenance": [],
      "collapsed_sections": []
    },
    "kernelspec": {
      "display_name": "Python 3",
      "language": "python",
      "name": "python3"
    }
  },
  "cells": [
    {
      "metadata": {
        "id": "hIBKxeEoUuEk",
        "colab_type": "text"
      },
      "cell_type": "markdown",
      "source": [
        "# Exercise 15\n",
        "\n",
        "# Fraud Detection"
      ]
    },
    {
      "metadata": {
        "id": "qogBLWYoUuEm",
        "colab_type": "text"
      },
      "cell_type": "markdown",
      "source": [
        "## Introduction\n",
        "\n",
        "- Fraud Detection Dataset from Microsoft Azure: [data](http://gallery.cortanaintelligence.com/Experiment/8e9fe4e03b8b4c65b9ca947c72b8e463)\n",
        "\n",
        "Fraud detection is one of the earliest industrial applications of data mining and machine learning. Fraud detection is typically handled as a binary classification problem, but the class population is unbalanced because instances of fraud are usually very rare compared to the overall volume of transactions. Moreover, when fraudulent transactions are discovered, the business typically takes measures to block the accounts from transacting to prevent further losses. "
      ]
    },
    {
      "metadata": {
        "id": "r-XIZcUmUuEn",
        "colab_type": "code",
        "colab": {}
      },
      "cell_type": "code",
      "source": [
        "%matplotlib inline\n",
        "import pandas as pd\n",
        "import numpy as np\n",
        "from sklearn.model_selection import cross_val_score\n",
        "from sklearn.linear_model import LogisticRegression\n",
        "from sklearn.tree import DecisionTreeClassifier\n",
        "from sklearn import metrics"
      ],
      "execution_count": 0,
      "outputs": []
    },
    {
      "metadata": {
        "id": "MYHMwLd1UuEq",
        "colab_type": "code",
        "colab": {}
      },
      "cell_type": "code",
      "source": [
        "import pandas as pd\n",
        "\n",
        "url = 'https://raw.githubusercontent.com/albahnsen/PracticalMachineLearningClass/master/datasets/15_fraud_detection.csv.zip'\n",
        "df = pd.read_csv(url, index_col=0)\n",
        "#df.head()"
      ],
      "execution_count": 0,
      "outputs": []
    },
    {
      "metadata": {
        "id": "pJGDWsncUuEw",
        "colab_type": "code",
        "outputId": "8d0c5978-5f2f-4c0e-abb3-127eed4b0bf9",
        "colab": {
          "base_uri": "https://localhost:8080/",
          "height": 258
        }
      },
      "cell_type": "code",
      "source": [
        "df.head()"
      ],
      "execution_count": 3,
      "outputs": [
        {
          "output_type": "execute_result",
          "data": {
            "text/html": [
              "<div>\n",
              "<style scoped>\n",
              "    .dataframe tbody tr th:only-of-type {\n",
              "        vertical-align: middle;\n",
              "    }\n",
              "\n",
              "    .dataframe tbody tr th {\n",
              "        vertical-align: top;\n",
              "    }\n",
              "\n",
              "    .dataframe thead th {\n",
              "        text-align: right;\n",
              "    }\n",
              "</style>\n",
              "<table border=\"1\" class=\"dataframe\">\n",
              "  <thead>\n",
              "    <tr style=\"text-align: right;\">\n",
              "      <th></th>\n",
              "      <th>accountAge</th>\n",
              "      <th>digitalItemCount</th>\n",
              "      <th>sumPurchaseCount1Day</th>\n",
              "      <th>sumPurchaseAmount1Day</th>\n",
              "      <th>sumPurchaseAmount30Day</th>\n",
              "      <th>paymentBillingPostalCode - LogOddsForClass_0</th>\n",
              "      <th>accountPostalCode - LogOddsForClass_0</th>\n",
              "      <th>paymentBillingState - LogOddsForClass_0</th>\n",
              "      <th>accountState - LogOddsForClass_0</th>\n",
              "      <th>paymentInstrumentAgeInAccount</th>\n",
              "      <th>ipState - LogOddsForClass_0</th>\n",
              "      <th>transactionAmount</th>\n",
              "      <th>transactionAmountUSD</th>\n",
              "      <th>ipPostalCode - LogOddsForClass_0</th>\n",
              "      <th>localHour - LogOddsForClass_0</th>\n",
              "      <th>Label</th>\n",
              "    </tr>\n",
              "  </thead>\n",
              "  <tbody>\n",
              "    <tr>\n",
              "      <th>0</th>\n",
              "      <td>2000</td>\n",
              "      <td>0</td>\n",
              "      <td>0</td>\n",
              "      <td>0.00</td>\n",
              "      <td>720.25</td>\n",
              "      <td>5.064533</td>\n",
              "      <td>0.421214</td>\n",
              "      <td>1.312186</td>\n",
              "      <td>0.566395</td>\n",
              "      <td>3279.574306</td>\n",
              "      <td>1.218157</td>\n",
              "      <td>599.00</td>\n",
              "      <td>626.164650</td>\n",
              "      <td>1.259543</td>\n",
              "      <td>4.745402</td>\n",
              "      <td>0</td>\n",
              "    </tr>\n",
              "    <tr>\n",
              "      <th>1</th>\n",
              "      <td>62</td>\n",
              "      <td>1</td>\n",
              "      <td>1</td>\n",
              "      <td>1185.44</td>\n",
              "      <td>2530.37</td>\n",
              "      <td>0.538996</td>\n",
              "      <td>0.481838</td>\n",
              "      <td>4.401370</td>\n",
              "      <td>4.500157</td>\n",
              "      <td>61.970139</td>\n",
              "      <td>4.035601</td>\n",
              "      <td>1185.44</td>\n",
              "      <td>1185.440000</td>\n",
              "      <td>3.981118</td>\n",
              "      <td>4.921349</td>\n",
              "      <td>0</td>\n",
              "    </tr>\n",
              "    <tr>\n",
              "      <th>2</th>\n",
              "      <td>2000</td>\n",
              "      <td>0</td>\n",
              "      <td>0</td>\n",
              "      <td>0.00</td>\n",
              "      <td>0.00</td>\n",
              "      <td>5.064533</td>\n",
              "      <td>5.096396</td>\n",
              "      <td>3.056357</td>\n",
              "      <td>3.155226</td>\n",
              "      <td>0.000000</td>\n",
              "      <td>3.314186</td>\n",
              "      <td>32.09</td>\n",
              "      <td>32.090000</td>\n",
              "      <td>5.008490</td>\n",
              "      <td>4.742303</td>\n",
              "      <td>0</td>\n",
              "    </tr>\n",
              "    <tr>\n",
              "      <th>3</th>\n",
              "      <td>1</td>\n",
              "      <td>1</td>\n",
              "      <td>0</td>\n",
              "      <td>0.00</td>\n",
              "      <td>0.00</td>\n",
              "      <td>5.064533</td>\n",
              "      <td>5.096396</td>\n",
              "      <td>3.331154</td>\n",
              "      <td>3.331239</td>\n",
              "      <td>0.000000</td>\n",
              "      <td>3.529398</td>\n",
              "      <td>133.28</td>\n",
              "      <td>132.729554</td>\n",
              "      <td>1.324925</td>\n",
              "      <td>4.745402</td>\n",
              "      <td>0</td>\n",
              "    </tr>\n",
              "    <tr>\n",
              "      <th>4</th>\n",
              "      <td>1</td>\n",
              "      <td>1</td>\n",
              "      <td>0</td>\n",
              "      <td>0.00</td>\n",
              "      <td>132.73</td>\n",
              "      <td>5.412885</td>\n",
              "      <td>0.342945</td>\n",
              "      <td>5.563677</td>\n",
              "      <td>4.086965</td>\n",
              "      <td>0.001389</td>\n",
              "      <td>3.529398</td>\n",
              "      <td>543.66</td>\n",
              "      <td>543.660000</td>\n",
              "      <td>2.693451</td>\n",
              "      <td>4.876771</td>\n",
              "      <td>0</td>\n",
              "    </tr>\n",
              "  </tbody>\n",
              "</table>\n",
              "</div>"
            ],
            "text/plain": [
              "   accountAge  digitalItemCount  sumPurchaseCount1Day  sumPurchaseAmount1Day  \\\n",
              "0        2000                 0                     0                   0.00   \n",
              "1          62                 1                     1                1185.44   \n",
              "2        2000                 0                     0                   0.00   \n",
              "3           1                 1                     0                   0.00   \n",
              "4           1                 1                     0                   0.00   \n",
              "\n",
              "   sumPurchaseAmount30Day  paymentBillingPostalCode - LogOddsForClass_0  \\\n",
              "0                  720.25                                      5.064533   \n",
              "1                 2530.37                                      0.538996   \n",
              "2                    0.00                                      5.064533   \n",
              "3                    0.00                                      5.064533   \n",
              "4                  132.73                                      5.412885   \n",
              "\n",
              "   accountPostalCode - LogOddsForClass_0  \\\n",
              "0                               0.421214   \n",
              "1                               0.481838   \n",
              "2                               5.096396   \n",
              "3                               5.096396   \n",
              "4                               0.342945   \n",
              "\n",
              "   paymentBillingState - LogOddsForClass_0  accountState - LogOddsForClass_0  \\\n",
              "0                                 1.312186                          0.566395   \n",
              "1                                 4.401370                          4.500157   \n",
              "2                                 3.056357                          3.155226   \n",
              "3                                 3.331154                          3.331239   \n",
              "4                                 5.563677                          4.086965   \n",
              "\n",
              "   paymentInstrumentAgeInAccount  ipState - LogOddsForClass_0  \\\n",
              "0                    3279.574306                     1.218157   \n",
              "1                      61.970139                     4.035601   \n",
              "2                       0.000000                     3.314186   \n",
              "3                       0.000000                     3.529398   \n",
              "4                       0.001389                     3.529398   \n",
              "\n",
              "   transactionAmount  transactionAmountUSD  ipPostalCode - LogOddsForClass_0  \\\n",
              "0             599.00            626.164650                          1.259543   \n",
              "1            1185.44           1185.440000                          3.981118   \n",
              "2              32.09             32.090000                          5.008490   \n",
              "3             133.28            132.729554                          1.324925   \n",
              "4             543.66            543.660000                          2.693451   \n",
              "\n",
              "   localHour - LogOddsForClass_0  Label  \n",
              "0                       4.745402      0  \n",
              "1                       4.921349      0  \n",
              "2                       4.742303      0  \n",
              "3                       4.745402      0  \n",
              "4                       4.876771      0  "
            ]
          },
          "metadata": {
            "tags": []
          },
          "execution_count": 3
        }
      ]
    },
    {
      "metadata": {
        "id": "glKtN5umUuE0",
        "colab_type": "code",
        "outputId": "c66c86ee-0fa2-41ca-e865-a65be84f59e8",
        "colab": {
          "base_uri": "https://localhost:8080/",
          "height": 34
        }
      },
      "cell_type": "code",
      "source": [
        "df.shape, df.Label.sum(), df.Label.mean()"
      ],
      "execution_count": 4,
      "outputs": [
        {
          "output_type": "execute_result",
          "data": {
            "text/plain": [
              "((138721, 16), 797, 0.0057453449730033666)"
            ]
          },
          "metadata": {
            "tags": []
          },
          "execution_count": 4
        }
      ]
    },
    {
      "metadata": {
        "id": "tFrXHuf_zszb",
        "colab_type": "code",
        "colab": {}
      },
      "cell_type": "code",
      "source": [
        "import matplotlib.pyplot as plt\n",
        "def plot_two_classes(X, y, subplot=False, size=(10, 10)):\n",
        "    # Plot the two classes\n",
        "    if subplot == False:\n",
        "        fig, subplot = plt.subplots(nrows=1, ncols=1, figsize=size)\n",
        "        \n",
        "    subplot.scatter(X[y==0, 0], X[y==0, 1], label=\"Class #0\", \n",
        "                    alpha=0.5, s=70)\n",
        "    subplot.scatter(X[y==1, 0], X[y==1, 1], label=\"Class #1\", \n",
        "                    alpha=0.5, s=70)\n",
        "    subplot.legend()\n",
        "    return subplot"
      ],
      "execution_count": 0,
      "outputs": []
    },
    {
      "metadata": {
        "id": "-yfLDJ6SUuE5",
        "colab_type": "text"
      },
      "cell_type": "markdown",
      "source": [
        "# Exercise 15.1\n",
        "\n",
        "Estimate a Logistic Regression and a Decision Tree\n",
        "\n",
        "Evaluate using the following metrics:\n",
        "* Accuracy\n",
        "* F1-Score\n",
        "* F_Beta-Score (Beta=10)\n",
        "\n",
        "Comment about the results"
      ]
    },
    {
      "metadata": {
        "id": "4mBA9kNUUuE6",
        "colab_type": "code",
        "colab": {}
      },
      "cell_type": "code",
      "source": [
        "from sklearn.model_selection import train_test_split\n",
        "y = df['Label']\n",
        "X = df.drop('Label', axis=1)\n",
        "\n",
        "X_train_, X_test_, y_train, y_test = train_test_split(X, y, test_size=0.30, random_state=42)\n"
      ],
      "execution_count": 0,
      "outputs": []
    },
    {
      "metadata": {
        "id": "I131E_vFvXBH",
        "colab_type": "text"
      },
      "cell_type": "markdown",
      "source": [
        "##### En primer lugar graficamos una matriz de correlacion, para identificar alta correlacion entre la variables, comprobando que no existe"
      ]
    },
    {
      "metadata": {
        "id": "BQgJGBrv1eAj",
        "colab_type": "code",
        "outputId": "3ab73ed2-3f28-4ee2-f635-1b43bb0c4619",
        "colab": {
          "base_uri": "https://localhost:8080/",
          "height": 506
        }
      },
      "cell_type": "code",
      "source": [
        "corr = X.corr()\n",
        "plt.figure(figsize=(9,7))\n",
        "plt.imshow(corr,cmap='hot')\n",
        "plt.colorbar()\n",
        "plt.xticks(range(len(corr)),corr.columns,rotation=20)\n",
        "plt.yticks(range(len(corr)),corr.columns)\n",
        "plt.show()"
      ],
      "execution_count": 7,
      "outputs": [
        {
          "output_type": "display_data",
          "data": {
            "image/png": "[encoded data removed]",
            "text/plain": [
              "<Figure size 648x504 with 2 Axes>"
            ]
          },
          "metadata": {
            "tags": []
          }
        }
      ]
    },
    {
      "metadata": {
        "id": "JxcY0gsCwA6B",
        "colab_type": "text"
      },
      "cell_type": "markdown",
      "source": [
        "##### Solo para fines de graficar, se usara PCA con dos componentes"
      ]
    },
    {
      "metadata": {
        "id": "e42I7IWx1eMy",
        "colab_type": "code",
        "colab": {}
      },
      "cell_type": "code",
      "source": [
        "from sklearn.decomposition import PCA\n",
        "pca = PCA(n_components = 2)\n"
      ],
      "execution_count": 0,
      "outputs": []
    },
    {
      "metadata": {
        "id": "0wA1jEMp1eTa",
        "colab_type": "code",
        "outputId": "bfdd721d-a5a9-4c26-b081-75f57a949307",
        "colab": {
          "base_uri": "https://localhost:8080/",
          "height": 350
        }
      },
      "cell_type": "code",
      "source": [
        "plot_two_classes(pca.fit_transform(X_train_), y_train,subplot=False,size=(5,5))"
      ],
      "execution_count": 9,
      "outputs": [
        {
          "output_type": "execute_result",
          "data": {
            "text/plain": [
              "<matplotlib.axes._subplots.AxesSubplot at 0x7ff1f34acb00>"
            ]
          },
          "metadata": {
            "tags": []
          },
          "execution_count": 9
        },
        {
          "output_type": "display_data",
          "data": {
            "image/png": "[encoded data removed]",
            "text/plain": [
              "<Figure size 360x360 with 1 Axes>"
            ]
          },
          "metadata": {
            "tags": []
          }
        }
      ]
    },
    {
      "metadata": {
        "id": "XhrirK98wW2e",
        "colab_type": "text"
      },
      "cell_type": "markdown",
      "source": [
        "##### Se identifica el desbalaceo, al graficar en barrras la cantidad de observaciones con valor 0 vs la cantidad de observaciones con valor 1"
      ]
    },
    {
      "metadata": {
        "id": "01BKbqZ70pPI",
        "colab_type": "code",
        "outputId": "6b0b9f0c-3477-4a56-c93f-86853a9dad13",
        "colab": {
          "base_uri": "https://localhost:8080/",
          "height": 34
        }
      },
      "cell_type": "code",
      "source": [
        "(y==0).sum(),(y==1).sum()"
      ],
      "execution_count": 10,
      "outputs": [
        {
          "output_type": "execute_result",
          "data": {
            "text/plain": [
              "(137924, 797)"
            ]
          },
          "metadata": {
            "tags": []
          },
          "execution_count": 10
        }
      ]
    },
    {
      "metadata": {
        "id": "wxRAs8-L0rAi",
        "colab_type": "code",
        "outputId": "48b4c9d0-e8bf-437b-9c99-d02bce9e5b46",
        "colab": {
          "base_uri": "https://localhost:8080/",
          "height": 265
        }
      },
      "cell_type": "code",
      "source": [
        "ax = plt.subplot(111)\n",
        "ax.bar([0,1], [(y==0).sum(),(y==1).sum()],width=0.5,color='b',align='center')\n",
        "plt.show()"
      ],
      "execution_count": 11,
      "outputs": [
        {
          "output_type": "display_data",
          "data": {
            "image/png": "[encoded data removed]",
            "text/plain": [
              "<Figure size 432x288 with 1 Axes>"
            ]
          },
          "metadata": {
            "tags": []
          }
        }
      ]
    },
    {
      "metadata": {
        "id": "N_9Z06An0rWH",
        "colab_type": "code",
        "colab": {}
      },
      "cell_type": "code",
      "source": [
        "#Se crea Datafrane, para almacenar todos los resultados obtenidos\n",
        "dfResult = pd.DataFrame({'True':y_test})"
      ],
      "execution_count": 0,
      "outputs": []
    },
    {
      "metadata": {
        "id": "ZDqCEkPAbKEC",
        "colab_type": "code",
        "outputId": "1244cb52-2b8e-4ea6-8200-b429114cda75",
        "colab": {
          "base_uri": "https://localhost:8080/",
          "height": 122
        }
      },
      "cell_type": "code",
      "source": [
        "from sklearn.linear_model import LogisticRegression\n",
        "from sklearn.tree import DecisionTreeClassifier\n",
        "from sklearn.ensemble import RandomForestClassifier\n",
        "from sklearn.metrics import accuracy_score,f1_score,fbeta_score\n",
        "\n",
        "\n",
        "models = {'LogisticRegr': LogisticRegression(solver='lbfgs',max_iter=200),\n",
        "          'DecisionTree': DecisionTreeClassifier(),\n",
        "          'RandomForest': RandomForestClassifier(n_estimators=100)}\n",
        "\n",
        "for model in models.keys():\n",
        "    models[model].fit(X_train_, y_train)\n",
        "    dfResult[model+'.1'] = models[model].predict(X_test_)\n",
        "    \n",
        "    print(model,'accuracy_score:{:.3f}'.format(accuracy_score(dfResult[model+'.1'],y_test)), \n",
        "          'f1_score:{:.3f}'.format(f1_score(dfResult[model+'.1'],y_test)), \n",
        "          'fbeta_score:{:.3f}'.format(fbeta_score(dfResult[model+'.1'],y_test,beta=10)))\n"
      ],
      "execution_count": 13,
      "outputs": [
        {
          "output_type": "stream",
          "text": [
            "/usr/local/lib/python3.6/dist-packages/sklearn/metrics/classification.py:1145: UndefinedMetricWarning: F-score is ill-defined and being set to 0.0 due to no true samples.\n",
            "  'recall', 'true', average, warn_for)\n"
          ],
          "name": "stderr"
        },
        {
          "output_type": "stream",
          "text": [
            "LogisticRegr accuracy_score:0.994 f1_score:0.000 fbeta_score:0.000\n",
            "DecisionTree accuracy_score:0.989 f1_score:0.133 fbeta_score:0.122\n",
            "RandomForest accuracy_score:0.994 f1_score:0.147 fbeta_score:0.488\n"
          ],
          "name": "stdout"
        }
      ]
    },
    {
      "metadata": {
        "id": "FBYjSRHz19V2",
        "colab_type": "code",
        "outputId": "e409f28e-dd3d-46f4-f840-259a9c0ff02c",
        "colab": {
          "base_uri": "https://localhost:8080/",
          "height": 280
        }
      },
      "cell_type": "code",
      "source": [
        "fig, ax = plt.subplots(2,2)\n",
        "width = 0.25\n",
        "\n",
        "ax[0,0].bar( [0,1], [(dfResult['LogisticRegr.1']==0).sum(),(y==1).sum()], width)\n",
        "ax[0,0].set_title('LogisticRegr.1')\n",
        "ax[0,1].bar( [0,1], [(dfResult['DecisionTree.1']==0).sum(),(y==1).sum()], width)\n",
        "ax[0,1].set_title('DecisionTree.1')\n",
        "ax[1,0].bar( [0,1], [(dfResult['RandomForest.1']==0).sum(),(y==1).sum()], width)\n",
        "ax[1,0].set_title('RandomForest.1')\n",
        "plt.show()"
      ],
      "execution_count": 14,
      "outputs": [
        {
          "output_type": "display_data",
          "data": {
            "image/png": "[encoded data removed]",
            "text/plain": [
              "<Figure size 432x288 with 4 Axes>"
            ]
          },
          "metadata": {
            "tags": []
          }
        }
      ]
    },
    {
      "metadata": {
        "id": "vv6V3pMgUuE9",
        "colab_type": "text"
      },
      "cell_type": "markdown",
      "source": [
        "# Exercise 15.2\n",
        "\n",
        "Under-sample the negative class using random-under-sampling\n",
        "\n",
        "Which is parameter for target_percentage did you choose?\n",
        "How the results change?\n",
        "\n",
        "**Only apply under-sampling to the training set, evaluate using the whole test set**"
      ]
    },
    {
      "metadata": {
        "id": "kV0WaJIC8k8R",
        "colab_type": "text"
      },
      "cell_type": "markdown",
      "source": [
        "##### En primer lugar se define lafuncion UnderSamplig "
      ]
    },
    {
      "metadata": {
        "id": "kMeT3EtUUuE_",
        "colab_type": "code",
        "colab": {}
      },
      "cell_type": "code",
      "source": [
        "def UnderSampling(X, y, target_percentage=0.5, seed=None):\n",
        "    # Assuming minority class is the positive\n",
        "    n_samples = y.shape[0]\n",
        "    n_samples_0 = (y == 0).sum()\n",
        "    n_samples_1 = (y == 1).sum()\n",
        "\n",
        "    n_samples_0_new =  n_samples_1 / target_percentage - n_samples_1\n",
        "    n_samples_0_new_per = n_samples_0_new / n_samples_0\n",
        "\n",
        "    filter_ = y == 0\n",
        "\n",
        "    np.random.seed(seed)\n",
        "    rand_1 = np.random.binomial(n=1, p=n_samples_0_new_per, size=n_samples)\n",
        "    \n",
        "    filter_ = filter_ & rand_1\n",
        "    filter_ = filter_ | (y == 1)\n",
        "    filter_ = filter_.astype(bool)\n",
        "    \n",
        "    return X[filter_], y[filter_]"
      ],
      "execution_count": 0,
      "outputs": []
    },
    {
      "metadata": {
        "id": "cgdMupor95OK",
        "colab_type": "text"
      },
      "cell_type": "markdown",
      "source": [
        "##### Se aplica la función UnderSampling, validando los valores para X_u y y_u, lo mismo que se verifica que ya se encuentra balanceado."
      ]
    },
    {
      "metadata": {
        "id": "VO_OxQrL7tAS",
        "colab_type": "code",
        "outputId": "69477e51-fb43-400f-9f86-b0ad9f678056",
        "colab": {
          "base_uri": "https://localhost:8080/",
          "height": 34
        }
      },
      "cell_type": "code",
      "source": [
        "X_u, y_u = UnderSampling(X_train_, np.array(y_train), 0.5, 1)\n",
        "X_u.shape, y_u.shape"
      ],
      "execution_count": 16,
      "outputs": [
        {
          "output_type": "execute_result",
          "data": {
            "text/plain": [
              "((1079, 15), (1079,))"
            ]
          },
          "metadata": {
            "tags": []
          },
          "execution_count": 16
        }
      ]
    },
    {
      "metadata": {
        "id": "6RfFK_iu7tTd",
        "colab_type": "code",
        "outputId": "cf69dd1a-122d-404b-afab-ac2a20a51ca9",
        "colab": {
          "base_uri": "https://localhost:8080/",
          "height": 265
        }
      },
      "cell_type": "code",
      "source": [
        "ax = plt.subplot()\n",
        "ax.bar([0,1], [(y_u==0).sum(),(y_u==1).sum()],width=0.5,color='b',align='center')\n",
        "plt.show()"
      ],
      "execution_count": 17,
      "outputs": [
        {
          "output_type": "display_data",
          "data": {
            "image/png": "[encoded data removed]",
            "text/plain": [
              "<Figure size 432x288 with 1 Axes>"
            ]
          },
          "metadata": {
            "tags": []
          }
        }
      ]
    },
    {
      "metadata": {
        "id": "QRZTBE1A7teS",
        "colab_type": "code",
        "outputId": "178c0ce5-bcf1-4a06-e189-8486ee55ace3",
        "colab": {
          "base_uri": "https://localhost:8080/",
          "height": 122
        }
      },
      "cell_type": "code",
      "source": [
        "for model in models.keys():\n",
        "    models[model].fit(X_u, y_u)\n",
        "    dfResult[model+'.2'] = models[model].predict(X_test_)\n",
        "  \n",
        "    print(model,'accuracy_score:{:.3f}'.format(accuracy_score(dfResult[model+'.2'],y_test)), \n",
        "          'f1_score:{:.3f}'.format(f1_score(dfResult[model+'.2'],y_test)), \n",
        "          'fbeta_score:{:.3f}'.format(fbeta_score(dfResult[model+'.2'],y_test,beta=10)))\n",
        "  \n"
      ],
      "execution_count": 18,
      "outputs": [
        {
          "output_type": "stream",
          "text": [
            "/usr/local/lib/python3.6/dist-packages/sklearn/linear_model/logistic.py:758: ConvergenceWarning: lbfgs failed to converge. Increase the number of iterations.\n",
            "  \"of iterations.\", ConvergenceWarning)\n"
          ],
          "name": "stderr"
        },
        {
          "output_type": "stream",
          "text": [
            "LogisticRegr accuracy_score:0.541 f1_score:0.019 fbeta_score:0.010\n",
            "DecisionTree accuracy_score:0.650 f1_score:0.022 fbeta_score:0.011\n",
            "RandomForest accuracy_score:0.769 f1_score:0.036 fbeta_score:0.019\n"
          ],
          "name": "stdout"
        }
      ]
    },
    {
      "metadata": {
        "id": "lcMgELrKGRsa",
        "colab_type": "code",
        "outputId": "d70b7362-f658-4753-f775-2878a73fd5ad",
        "colab": {
          "base_uri": "https://localhost:8080/",
          "height": 280
        }
      },
      "cell_type": "code",
      "source": [
        "fig, ax = plt.subplots(2,2)\n",
        "width = 0.25\n",
        "\n",
        "ax[0,0].bar( [0,1], [(dfResult['LogisticRegr.2']==0).sum(),(y==1).sum()], width)\n",
        "ax[0,0].set_title('LogisticRegr.2')\n",
        "ax[0,1].bar( [0,1], [(dfResult['DecisionTree.2']==0).sum(),(y==1).sum()], width)\n",
        "ax[0,1].set_title('DecisionTree.2')\n",
        "ax[1,0].bar( [0,1], [(dfResult['RandomForest.2']==0).sum(),(y==1).sum()], width)\n",
        "ax[1,0].set_title('RandomForest.2')\n",
        "plt.show()"
      ],
      "execution_count": 19,
      "outputs": [
        {
          "output_type": "display_data",
          "data": {
            "image/png": "[encoded data removed]",
            "text/plain": [
              "<Figure size 432x288 with 4 Axes>"
            ]
          },
          "metadata": {
            "tags": []
          }
        }
      ]
    },
    {
      "metadata": {
        "id": "hYbozUhtAgMt",
        "colab_type": "text"
      },
      "cell_type": "markdown",
      "source": [
        "##### Se repite el ejercicio con la libreria imblearn.under_sampling "
      ]
    },
    {
      "metadata": {
        "id": "VE2OvJnEHI96",
        "colab_type": "code",
        "colab": {}
      },
      "cell_type": "code",
      "source": [
        "from imblearn.under_sampling import RandomUnderSampler\n",
        "rus = RandomUnderSampler(random_state=42)\n",
        "X_u, y_u = rus.fit_resample(X_train_, y_train)"
      ],
      "execution_count": 0,
      "outputs": []
    },
    {
      "metadata": {
        "id": "88UNAIfvHJBB",
        "colab_type": "code",
        "outputId": "7d8fae83-a389-4d56-b398-493520db6543",
        "colab": {
          "base_uri": "https://localhost:8080/",
          "height": 265
        }
      },
      "cell_type": "code",
      "source": [
        "ax = plt.subplot()\n",
        "ax.bar([0,1], [(y_u==0).sum(),(y_u==1).sum()],width=0.5,color='b',align='center')\n",
        "plt.show()"
      ],
      "execution_count": 21,
      "outputs": [
        {
          "output_type": "display_data",
          "data": {
            "image/png": "[encoded data removed]",
            "text/plain": [
              "<Figure size 432x288 with 1 Axes>"
            ]
          },
          "metadata": {
            "tags": []
          }
        }
      ]
    },
    {
      "metadata": {
        "id": "gAc7BEVYGR_R",
        "colab_type": "code",
        "outputId": "dd01f443-a6d4-49fa-9a61-94eb36e030aa",
        "colab": {
          "base_uri": "https://localhost:8080/",
          "height": 122
        }
      },
      "cell_type": "code",
      "source": [
        "for model in models.keys():\n",
        "    models[model].fit(X_u, y_u)\n",
        "    \n",
        "    print(model,'accuracy_score:{:.3f}'.format(accuracy_score(models[model].predict(X_test_),y_test)), \n",
        "          'f1_score:{:.3f}'.format(f1_score(models[model].predict(X_test_),y_test)), \n",
        "          'fbeta_score:{:.3f}'.format(fbeta_score(models[model].predict(X_test_),y_test,beta=10)))\n",
        "    "
      ],
      "execution_count": 22,
      "outputs": [
        {
          "output_type": "stream",
          "text": [
            "/usr/local/lib/python3.6/dist-packages/sklearn/linear_model/logistic.py:758: ConvergenceWarning: lbfgs failed to converge. Increase the number of iterations.\n",
            "  \"of iterations.\", ConvergenceWarning)\n"
          ],
          "name": "stderr"
        },
        {
          "output_type": "stream",
          "text": [
            "LogisticRegr accuracy_score:0.582 f1_score:0.019 fbeta_score:0.010\n",
            "DecisionTree accuracy_score:0.651 f1_score:0.023 fbeta_score:0.012\n",
            "RandomForest accuracy_score:0.758 f1_score:0.036 fbeta_score:0.018\n"
          ],
          "name": "stdout"
        }
      ]
    },
    {
      "metadata": {
        "id": "S0UbjZ-oUuFC",
        "colab_type": "text"
      },
      "cell_type": "markdown",
      "source": [
        "# Exercise 15.3\n",
        "\n",
        "Same analysis using random-over-sampling"
      ]
    },
    {
      "metadata": {
        "id": "UGAYvPHsUuFD",
        "colab_type": "code",
        "colab": {}
      },
      "cell_type": "code",
      "source": [
        "import random\n",
        "def OverSampling(X, y, target_percentage=0.5, seed=None):\n",
        "    # Assuming minority class is the positive\n",
        "    n_samples = y.shape[0]\n",
        "    n_samples_0 = (y == 0).sum()\n",
        "    n_samples_1 = (y == 1).sum()\n",
        "    \n",
        "    #print(n_samples)\n",
        "    #print(n_samples_0)\n",
        "    #print(n_samples_1)\n",
        "\n",
        "    n_samples_1_new =  -target_percentage * n_samples_0 / (target_percentage- 1)\n",
        "\n",
        "    np.random.seed(seed)\n",
        "    filter_ = np.random.choice(X[y == 1].shape[0], int(n_samples_1_new))\n",
        "    # filter_ is within the positives, change to be of all\n",
        "    filter_ = np.nonzero(y == 1)[0][filter_]\n",
        "    \n",
        "    filter_ = np.concatenate((filter_, np.nonzero(y == 0)[0]), axis=0)\n",
        "    \n",
        "    return X[filter_], y[filter_]"
      ],
      "execution_count": 0,
      "outputs": []
    },
    {
      "metadata": {
        "id": "i-eehnrhBOBv",
        "colab_type": "code",
        "outputId": "e9a37337-aa59-4137-b266-77a0fc3c3de2",
        "colab": {
          "base_uri": "https://localhost:8080/",
          "height": 34
        }
      },
      "cell_type": "code",
      "source": [
        "X_u, y_u = OverSampling(np.array(X_train_), np.array(y_train), 0.5, 1)\n",
        "X_train_.shape, y_train.shape"
      ],
      "execution_count": 24,
      "outputs": [
        {
          "output_type": "execute_result",
          "data": {
            "text/plain": [
              "((97104, 15), (97104,))"
            ]
          },
          "metadata": {
            "tags": []
          },
          "execution_count": 24
        }
      ]
    },
    {
      "metadata": {
        "id": "MbaMEy14WQ3E",
        "colab_type": "code",
        "outputId": "94478b0c-795d-4cae-df59-55246c73d192",
        "colab": {
          "base_uri": "https://localhost:8080/",
          "height": 266
        }
      },
      "cell_type": "code",
      "source": [
        "ax = plt.subplot()\n",
        "ax.bar([0,1], [(y_u==0).sum(),(y_u==1).sum()],width=0.5,color='b',align='center')\n",
        "plt.show()"
      ],
      "execution_count": 25,
      "outputs": [
        {
          "output_type": "display_data",
          "data": {
            "image/png": "[encoded data removed]",
            "text/plain": [
              "<Figure size 432x288 with 1 Axes>"
            ]
          },
          "metadata": {
            "tags": []
          }
        }
      ]
    },
    {
      "metadata": {
        "id": "ql5DOaSJBOp5",
        "colab_type": "code",
        "outputId": "d93ba1d6-3100-4e92-b241-b60f89e9f067",
        "colab": {
          "base_uri": "https://localhost:8080/",
          "height": 68
        }
      },
      "cell_type": "code",
      "source": [
        "for model in models.keys():\n",
        "    models[model].fit(X_u, y_u)\n",
        "    dfResult[model+'.3'] = models[model].predict(X_test_)\n",
        "    \n",
        "    print(model,'accuracy_score:{:.3f}'.format(accuracy_score(dfResult[model+'.3'],y_test)), \n",
        "          'f1_score:{:.3f}'.format(f1_score(dfResult[model+'.3'],y_test)), \n",
        "          'fbeta_score:{:.3f}'.format(fbeta_score(dfResult[model+'.3'],y_test,beta=10)))\n",
        "    "
      ],
      "execution_count": 26,
      "outputs": [
        {
          "output_type": "stream",
          "text": [
            "LogisticRegr accuracy_score:0.649 f1_score:0.021 fbeta_score:0.011\n",
            "DecisionTree accuracy_score:0.989 f1_score:0.108 fbeta_score:0.106\n",
            "RandomForest accuracy_score:0.994 f1_score:0.162 fbeta_score:0.386\n"
          ],
          "name": "stdout"
        }
      ]
    },
    {
      "metadata": {
        "id": "M243PaxWIJo1",
        "colab_type": "code",
        "outputId": "dd8f3614-647c-4a61-e1b3-20b7a5fe0124",
        "colab": {
          "base_uri": "https://localhost:8080/",
          "height": 280
        }
      },
      "cell_type": "code",
      "source": [
        "fig, ax = plt.subplots(2,2)\n",
        "width = 0.25\n",
        "\n",
        "ax[0,0].bar( [0,1], [(dfResult['LogisticRegr.3']==0).sum(),(y==1).sum()], width)\n",
        "ax[0,0].set_title('LogisticRegr.3')\n",
        "ax[0,1].bar( [0,1], [(dfResult['DecisionTree.3']==0).sum(),(y==1).sum()], width)\n",
        "ax[0,1].set_title('DecisionTree.3')\n",
        "ax[1,0].bar( [0,1], [(dfResult['RandomForest.3']==0).sum(),(y==1).sum()], width)\n",
        "ax[1,0].set_title('RandomForest.3')\n",
        "plt.show()"
      ],
      "execution_count": 27,
      "outputs": [
        {
          "output_type": "display_data",
          "data": {
            "image/png": "[encoded data removed]",
            "text/plain": [
              "<Figure size 432x288 with 4 Axes>"
            ]
          },
          "metadata": {
            "tags": []
          }
        }
      ]
    },
    {
      "metadata": {
        "id": "mhXaYF-DCozJ",
        "colab_type": "text"
      },
      "cell_type": "markdown",
      "source": [
        "##### Se repite el ejercicio usando la libreria imblearn.over_sampling"
      ]
    },
    {
      "metadata": {
        "id": "rL7VZOS1IJsM",
        "colab_type": "code",
        "colab": {}
      },
      "cell_type": "code",
      "source": [
        "from imblearn.over_sampling import RandomOverSampler\n",
        "ros = RandomOverSampler(random_state=42)\n",
        "X_u, y_u = ros.fit_resample(X_train_, y_train)"
      ],
      "execution_count": 0,
      "outputs": []
    },
    {
      "metadata": {
        "id": "cusIz7N9IJ06",
        "colab_type": "code",
        "outputId": "74f58a64-888a-42de-dc23-489b838236b4",
        "colab": {
          "base_uri": "https://localhost:8080/",
          "height": 266
        }
      },
      "cell_type": "code",
      "source": [
        "ax = plt.subplot()\n",
        "ax.bar([0,1], [(y_u==0).sum(),(y_u==1).sum()],width=0.5,color='b',align='center')\n",
        "plt.show()"
      ],
      "execution_count": 29,
      "outputs": [
        {
          "output_type": "display_data",
          "data": {
            "image/png": "[encoded data removed]",
            "text/plain": [
              "<Figure size 432x288 with 1 Axes>"
            ]
          },
          "metadata": {
            "tags": []
          }
        }
      ]
    },
    {
      "metadata": {
        "id": "Zv2yCAVjIJ6Z",
        "colab_type": "code",
        "outputId": "8cc12f8c-d8c8-42e6-ac80-5e3f0204ea7b",
        "colab": {
          "base_uri": "https://localhost:8080/",
          "height": 68
        }
      },
      "cell_type": "code",
      "source": [
        "for model in models.keys():\n",
        "    models[model].fit(X_u, y_u)\n",
        "   \n",
        "    print(model,'accuracy_score:{:.3f}'.format(accuracy_score(models[model].predict(X_test_),y_test)), \n",
        "          'f1_score:{:.3f}'.format(f1_score(models[model].predict(X_test_),y_test)), \n",
        "          'fbeta_score:{:.3f}'.format(fbeta_score(models[model].predict(X_test_),y_test,beta=10)))    "
      ],
      "execution_count": 30,
      "outputs": [
        {
          "output_type": "stream",
          "text": [
            "LogisticRegr accuracy_score:0.622 f1_score:0.021 fbeta_score:0.011\n",
            "DecisionTree accuracy_score:0.990 f1_score:0.134 fbeta_score:0.133\n",
            "RandomForest accuracy_score:0.994 f1_score:0.156 fbeta_score:0.370\n"
          ],
          "name": "stdout"
        }
      ]
    },
    {
      "metadata": {
        "id": "ScLJjV9oUuFG",
        "colab_type": "text"
      },
      "cell_type": "markdown",
      "source": [
        "# Exercise 15.4 (3 points)\n",
        "\n",
        "Evaluate the results using SMOTE\n",
        "\n",
        "Which parameters did you choose?"
      ]
    },
    {
      "metadata": {
        "id": "toycPzDgtkQF",
        "colab_type": "code",
        "colab": {}
      },
      "cell_type": "code",
      "source": [
        "def SMOTE(X, y, target_percentage=0.5, k=5, seed=None):\n",
        "    # Calculate the NearestNeighbors\n",
        "    from sklearn.neighbors import NearestNeighbors\n",
        "    nearest_neighbour_ = NearestNeighbors(n_neighbors=k + 1)\n",
        "    nearest_neighbour_.fit(X[y==1])\n",
        "    nns = nearest_neighbour_.kneighbors(X[y==1], \n",
        "                                    return_distance=False)[:, 1:]\n",
        "    \n",
        "    # New samples\n",
        "    n_samples_1_new =  int(-target_percentage * n_samples_0 / (target_percentage- 1) - n_samples_1)\n",
        "    \n",
        "    # A matrix to store the synthetic samples\n",
        "    new = np.zeros((n_samples_1_new, X.shape[1]))\n",
        "    \n",
        "    # Create seeds\n",
        "    np.random.seed(seed)\n",
        "    seeds = np.random.randint(1, 1000000, 3)\n",
        "    \n",
        "    # Select examples to use as base\n",
        "    np.random.seed(seeds[0])\n",
        "    sel_ = np.random.choice(y[y==1].shape[0], n_samples_1_new)\n",
        "    \n",
        "    # Define random seeds (2 per example)\n",
        "    np.random.seed(seeds[1])\n",
        "    nn__=[]\n",
        "    # Select one random neighbor for each example to use as base\n",
        "    for i, sel in enumerate(sel_):\n",
        "        nn__.append(np.random.choice(nns[sel]))\n",
        "    \n",
        "    np.random.seed(seeds[2])\n",
        "    steps = np.random.uniform(size=n_samples_1_new)  \n",
        "\n",
        "    # For each selected examples create one synthetic case\n",
        "    for i, sel in enumerate(sel_):\n",
        "        # Select neighbor\n",
        "        nn_ = nn__[i]\n",
        "        step = steps[i]\n",
        "        # Create new sample\n",
        "        new[i, :] = X[y==1][sel] - step * (X[y==1][sel] - X[y==1][nn_])\n",
        "    \n",
        "    X = np.vstack((X, new))\n",
        "    y = np.append(y, np.ones(n_samples_1_new))\n",
        "    \n",
        "    return X, y"
      ],
      "execution_count": 0,
      "outputs": []
    },
    {
      "metadata": {
        "id": "kAUNg6aKumQ7",
        "colab_type": "code",
        "colab": {
          "base_uri": "https://localhost:8080/",
          "height": 1417
        },
        "outputId": "0d5c2533-95c9-401d-e270-663d945fd73f"
      },
      "cell_type": "code",
      "source": [
        "n_samples_0 = (y_train == 0).sum()\n",
        "n_samples_1 = (y_train == 1).sum()\n",
        "\n",
        "for target_percentage in [0.25, 0.5]:\n",
        "  for k in [5, 15]:\n",
        "    X_u, y_u = SMOTE(np.array(pca.fit_transform(X_train_)), np.array(y_train), target_percentage, k,seed=3)\n",
        "    print('Target percentage', target_percentage, 'k ', k)\n",
        "    print('y.shape = ',y_u.shape[0], 'y.mean() = ', y_u.mean())\n",
        "    plot_two_classes(X_u, y_u, size=(5, 5))\n",
        "    plt.show()"
      ],
      "execution_count": 32,
      "outputs": [
        {
          "output_type": "stream",
          "text": [
            "Target percentage 0.25 k  5\n",
            "y.shape =  128736 y.mean() =  0.25\n"
          ],
          "name": "stdout"
        },
        {
          "output_type": "display_data",
          "data": {
            "image/png": "[encoded data removed]",
            "text/plain": [
              "<Figure size 360x360 with 1 Axes>"
            ]
          },
          "metadata": {
            "tags": []
          }
        },
        {
          "output_type": "stream",
          "text": [
            "Target percentage 0.25 k  15\n",
            "y.shape =  128736 y.mean() =  0.25\n"
          ],
          "name": "stdout"
        },
        {
          "output_type": "display_data",
          "data": {
            "image/png": "[encoded data removed]",
            "text/plain": [
              "<Figure size 360x360 with 1 Axes>"
            ]
          },
          "metadata": {
            "tags": []
          }
        },
        {
          "output_type": "stream",
          "text": [
            "Target percentage 0.5 k  5\n",
            "y.shape =  193104 y.mean() =  0.5\n"
          ],
          "name": "stdout"
        },
        {
          "output_type": "display_data",
          "data": {
            "image/png": "[encoded data removed]",
            "text/plain": [
              "<Figure size 360x360 with 1 Axes>"
            ]
          },
          "metadata": {
            "tags": []
          }
        },
        {
          "output_type": "stream",
          "text": [
            "Target percentage 0.5 k  15\n",
            "y.shape =  193104 y.mean() =  0.5\n"
          ],
          "name": "stdout"
        },
        {
          "output_type": "display_data",
          "data": {
            "image/png": "[encoded data removed]",
            "text/plain": [
              "<Figure size 360x360 with 1 Axes>"
            ]
          },
          "metadata": {
            "tags": []
          }
        }
      ]
    },
    {
      "metadata": {
        "id": "CoLgorn2um-n",
        "colab_type": "code",
        "colab": {}
      },
      "cell_type": "code",
      "source": [
        "X_u, y_u = SMOTE(np.array(pca.fit_transform(X_train_)), np.array(y_train), 0.5, 5,seed=3)"
      ],
      "execution_count": 0,
      "outputs": []
    },
    {
      "metadata": {
        "id": "cZVi9JADtmQs",
        "colab_type": "code",
        "colab": {
          "base_uri": "https://localhost:8080/",
          "height": 266
        },
        "outputId": "e23f8f80-7c8c-4e17-9157-e51956522734"
      },
      "cell_type": "code",
      "source": [
        "ax = plt.subplot()\n",
        "ax.bar([0,1], [(y_u==0).sum(),(y_u==1).sum()],width=0.5,color='b',align='center')\n",
        "plt.show()"
      ],
      "execution_count": 34,
      "outputs": [
        {
          "output_type": "display_data",
          "data": {
            "image/png": "[encoded data removed]",
            "text/plain": [
              "<Figure size 432x288 with 1 Axes>"
            ]
          },
          "metadata": {
            "tags": []
          }
        }
      ]
    },
    {
      "metadata": {
        "id": "HJ9vdmiP2R9q",
        "colab_type": "text"
      },
      "cell_type": "markdown",
      "source": [
        "##### Se hace el ejercicio con la libreria SMOTE de imblearn.over_sampling"
      ]
    },
    {
      "metadata": {
        "id": "eybfa8xOUuFH",
        "colab_type": "code",
        "colab": {}
      },
      "cell_type": "code",
      "source": [
        "from imblearn.over_sampling import SMOTE\n",
        "sm = SMOTE(random_state=42)\n",
        "X_u, y_u = sm.fit_resample(X_train_, y_train)"
      ],
      "execution_count": 0,
      "outputs": []
    },
    {
      "metadata": {
        "id": "hT_wfNNUEs8p",
        "colab_type": "code",
        "outputId": "a5ace585-208f-4fa9-aeb3-834084eda31f",
        "colab": {
          "base_uri": "https://localhost:8080/",
          "height": 266
        }
      },
      "cell_type": "code",
      "source": [
        "ax = plt.subplot()\n",
        "ax.bar([0,1], [(y_u==0).sum(),(y_u==1).sum()],width=0.5,color='b',align='center')\n",
        "plt.show()"
      ],
      "execution_count": 36,
      "outputs": [
        {
          "output_type": "display_data",
          "data": {
            "image/png": "[encoded data removed]",
            "text/plain": [
              "<Figure size 432x288 with 1 Axes>"
            ]
          },
          "metadata": {
            "tags": []
          }
        }
      ]
    },
    {
      "metadata": {
        "id": "RITSTUvZEs__",
        "colab_type": "code",
        "outputId": "c0bd5991-5ed9-4777-f1fe-21c589ffd4cb",
        "colab": {
          "base_uri": "https://localhost:8080/",
          "height": 122
        }
      },
      "cell_type": "code",
      "source": [
        "for model in models.keys():\n",
        "    models[model].fit(X_u, y_u)\n",
        "    dfResult[model+'.4'] = models[model].predict(X_test_)\n",
        "    \n",
        "    print(model,'accuracy_score:{:.3f}'.format(accuracy_score(dfResult[model+'.4'],y_test)), \n",
        "          'f1_score:{:.3f}'.format(f1_score(dfResult[model+'.4'],y_test)), \n",
        "          'fbeta_score:{:.3f}'.format(fbeta_score(dfResult[model+'.4'],y_test,beta=10)))\n",
        "    "
      ],
      "execution_count": 37,
      "outputs": [
        {
          "output_type": "stream",
          "text": [
            "/usr/local/lib/python3.6/dist-packages/sklearn/linear_model/logistic.py:758: ConvergenceWarning: lbfgs failed to converge. Increase the number of iterations.\n",
            "  \"of iterations.\", ConvergenceWarning)\n"
          ],
          "name": "stderr"
        },
        {
          "output_type": "stream",
          "text": [
            "LogisticRegr accuracy_score:0.571 f1_score:0.020 fbeta_score:0.010\n",
            "DecisionTree accuracy_score:0.984 f1_score:0.089 fbeta_score:0.067\n",
            "RandomForest accuracy_score:0.993 f1_score:0.174 fbeta_score:0.274\n"
          ],
          "name": "stdout"
        }
      ]
    },
    {
      "metadata": {
        "id": "ac4SW-RREtEL",
        "colab_type": "code",
        "outputId": "4295f224-40be-4c8c-9f57-9686512ad028",
        "colab": {
          "base_uri": "https://localhost:8080/",
          "height": 280
        }
      },
      "cell_type": "code",
      "source": [
        "fig, ax = plt.subplots(2,2)\n",
        "width = 0.25\n",
        "\n",
        "ax[0,0].bar( [0,1], [(dfResult['LogisticRegr.4']==0).sum(),(y==1).sum()], width)\n",
        "ax[0,0].set_title('LogisticRegr.4')\n",
        "ax[0,1].bar( [0,1], [(dfResult['DecisionTree.4']==0).sum(),(y==1).sum()], width)\n",
        "ax[0,1].set_title('DecisionTree.4')\n",
        "ax[1,0].bar( [0,1], [(dfResult['RandomForest.4']==0).sum(),(y==1).sum()], width)\n",
        "ax[1,0].set_title('RandomForest.4')\n",
        "plt.show()"
      ],
      "execution_count": 38,
      "outputs": [
        {
          "output_type": "display_data",
          "data": {
            "image/png": "[encoded data removed]",
            "text/plain": [
              "<Figure size 432x288 with 4 Axes>"
            ]
          },
          "metadata": {
            "tags": []
          }
        }
      ]
    },
    {
      "metadata": {
        "id": "x1-y_69SUuFN",
        "colab_type": "text"
      },
      "cell_type": "markdown",
      "source": [
        "# Exercise 15.5 (3 points)\n",
        "\n",
        "Evaluate the results using Adaptive Synthetic Sampling Approach for Imbalanced\n",
        "Learning (ADASYN)\n",
        "\n",
        "http://www.ele.uri.edu/faculty/he/PDFfiles/adasyn.pdf\n",
        "https://imbalanced-learn.readthedocs.io/en/stable/generated/imblearn.over_sampling.ADASYN.html#rf9172e970ca5-1"
      ]
    },
    {
      "metadata": {
        "id": "NAgdorkuUuFP",
        "colab_type": "code",
        "colab": {}
      },
      "cell_type": "code",
      "source": [
        "from imblearn.over_sampling import ADASYN \n",
        "ada = ADASYN(random_state=42)\n",
        "X_u, y_u = ada.fit_resample(X_train_, y_train)"
      ],
      "execution_count": 0,
      "outputs": []
    },
    {
      "metadata": {
        "id": "SxZ0fCc3JjzB",
        "colab_type": "code",
        "outputId": "c185b4a0-aa6c-40f1-e253-ef6c961f9721",
        "colab": {
          "base_uri": "https://localhost:8080/",
          "height": 266
        }
      },
      "cell_type": "code",
      "source": [
        "ax = plt.subplot()\n",
        "ax.bar([0,1], [(y_u==0).sum(),(y_u==1).sum()],width=0.5,color='b',align='center')\n",
        "plt.show()"
      ],
      "execution_count": 40,
      "outputs": [
        {
          "output_type": "display_data",
          "data": {
            "image/png": "[encoded data removed]",
            "text/plain": [
              "<Figure size 432x288 with 1 Axes>"
            ]
          },
          "metadata": {
            "tags": []
          }
        }
      ]
    },
    {
      "metadata": {
        "id": "34y7sr7FJj1n",
        "colab_type": "code",
        "outputId": "3bb47241-7828-4db4-e081-243ea91283b5",
        "colab": {
          "base_uri": "https://localhost:8080/",
          "height": 68
        }
      },
      "cell_type": "code",
      "source": [
        "for model in models.keys():\n",
        "    models[model].fit(X_u, y_u)\n",
        "    dfResult[model+'.5'] = models[model].predict(X_test_)\n",
        "    \n",
        "    print(model,'accuracy_score:{:.3f}'.format(accuracy_score(dfResult[model+'.5'],y_test)), \n",
        "          'f1_score:{:.3f}'.format(f1_score(dfResult[model+'.5'],y_test)), \n",
        "          'fbeta_score:{:.3f}'.format(fbeta_score(dfResult[model+'.5'],y_test,beta=10)))\n",
        "        "
      ],
      "execution_count": 41,
      "outputs": [
        {
          "output_type": "stream",
          "text": [
            "LogisticRegr accuracy_score:0.317 f1_score:0.016 fbeta_score:0.008\n",
            "DecisionTree accuracy_score:0.984 f1_score:0.073 fbeta_score:0.055\n",
            "RandomForest accuracy_score:0.993 f1_score:0.186 fbeta_score:0.278\n"
          ],
          "name": "stdout"
        }
      ]
    },
    {
      "metadata": {
        "id": "wI8LJCRJJj4d",
        "colab_type": "code",
        "outputId": "de9c515e-4589-4b5d-ec11-3bccbf172423",
        "colab": {
          "base_uri": "https://localhost:8080/",
          "height": 280
        }
      },
      "cell_type": "code",
      "source": [
        "fig, ax = plt.subplots(2,2)\n",
        "width = 0.25\n",
        "\n",
        "ax[0,0].bar( [0,1], [(dfResult['LogisticRegr.5']==0).sum(),(y==1).sum()], width)\n",
        "ax[0,0].set_title('LogisticRegr.5')\n",
        "ax[0,1].bar( [0,1], [(dfResult['DecisionTree.5']==0).sum(),(y==1).sum()], width)\n",
        "ax[0,1].set_title('DecisionTree.5')\n",
        "ax[1,0].bar( [0,1], [(dfResult['RandomForest.5']==0).sum(),(y==1).sum()], width)\n",
        "ax[1,0].set_title('RandomForest.5')\n",
        "plt.show()"
      ],
      "execution_count": 42,
      "outputs": [
        {
          "output_type": "display_data",
          "data": {
            "image/png": "[encoded data removed]",
            "text/plain": [
              "<Figure size 432x288 with 4 Axes>"
            ]
          },
          "metadata": {
            "tags": []
          }
        }
      ]
    },
    {
      "metadata": {
        "id": "y1pazraCUuFS",
        "colab_type": "text"
      },
      "cell_type": "markdown",
      "source": [
        "# Exercise 15.6 (3 points)\n",
        "\n",
        "Compare and comment about the results"
      ]
    },
    {
      "metadata": {
        "id": "T9zJTtBjUuFT",
        "colab_type": "code",
        "outputId": "2cb7c146-ef0b-4281-fe3f-074dd2ee7a0f",
        "colab": {
          "base_uri": "https://localhost:8080/",
          "height": 272
        }
      },
      "cell_type": "code",
      "source": [
        "results = (dfResult.columns)[1:]\n",
        "results\n",
        "for result in results:\n",
        "  print(result,'accuracy_score: {:.3f} '.format(accuracy_score(dfResult[result],dfResult['True'])))\n",
        "  "
      ],
      "execution_count": 43,
      "outputs": [
        {
          "output_type": "stream",
          "text": [
            "LogisticRegr.1 accuracy_score: 0.994 \n",
            "DecisionTree.1 accuracy_score: 0.989 \n",
            "RandomForest.1 accuracy_score: 0.994 \n",
            "LogisticRegr.2 accuracy_score: 0.541 \n",
            "DecisionTree.2 accuracy_score: 0.650 \n",
            "RandomForest.2 accuracy_score: 0.769 \n",
            "LogisticRegr.3 accuracy_score: 0.649 \n",
            "DecisionTree.3 accuracy_score: 0.989 \n",
            "RandomForest.3 accuracy_score: 0.994 \n",
            "LogisticRegr.4 accuracy_score: 0.571 \n",
            "DecisionTree.4 accuracy_score: 0.984 \n",
            "RandomForest.4 accuracy_score: 0.993 \n",
            "LogisticRegr.5 accuracy_score: 0.317 \n",
            "DecisionTree.5 accuracy_score: 0.984 \n",
            "RandomForest.5 accuracy_score: 0.993 \n"
          ],
          "name": "stdout"
        }
      ]
    },
    {
      "metadata": {
        "id": "1DEGMcogS-kt",
        "colab_type": "text"
      },
      "cell_type": "markdown",
      "source": [
        "#### Se puede observar que el mejor accuracy, promedio para los tres modelos corresponde al modelo 1 (desbalanceado); sin embargo esta conclusión es equivocada , toda vez que el resultado fue sesgado por la poca cantidad de valores \"1\", existentes tanto en conjunto de entrenamiento como en el conjunto de test.  Una vez se aplican los algoritmos de balanceo, el que presenta el mejor accuracy es el modelo 3 (random-over-sampling) con el RandomForest."
      ]
    },
    {
      "metadata": {
        "id": "nKRDGCRbUvjW",
        "colab_type": "code",
        "outputId": "e2cd30f6-8e53-4f51-f620-ceadd1e4cb08",
        "colab": {
          "base_uri": "https://localhost:8080/",
          "height": 326
        }
      },
      "cell_type": "code",
      "source": [
        "for result in results:\n",
        "  print(result,'f1_score: {:.3f} '.format(f1_score(dfResult[result],dfResult['True'])))"
      ],
      "execution_count": 44,
      "outputs": [
        {
          "output_type": "stream",
          "text": [
            "LogisticRegr.1 f1_score: 0.000 \n",
            "DecisionTree.1 f1_score: 0.133 \n",
            "RandomForest.1 f1_score: 0.147 \n",
            "LogisticRegr.2 f1_score: 0.019 \n",
            "DecisionTree.2 f1_score: 0.022 \n",
            "RandomForest.2 f1_score: 0.036 \n",
            "LogisticRegr.3 f1_score: 0.021 \n",
            "DecisionTree.3 f1_score: 0.108 \n",
            "RandomForest.3 f1_score: 0.162 \n",
            "LogisticRegr.4 f1_score: 0.020 \n",
            "DecisionTree.4 f1_score: 0.089 \n",
            "RandomForest.4 f1_score: 0.174 \n",
            "LogisticRegr.5 f1_score: 0.016 \n",
            "DecisionTree.5 f1_score: 0.073 \n",
            "RandomForest.5 f1_score: 0.186 \n"
          ],
          "name": "stdout"
        },
        {
          "output_type": "stream",
          "text": [
            "/usr/local/lib/python3.6/dist-packages/sklearn/metrics/classification.py:1145: UndefinedMetricWarning: F-score is ill-defined and being set to 0.0 due to no true samples.\n",
            "  'recall', 'true', average, warn_for)\n"
          ],
          "name": "stderr"
        }
      ]
    },
    {
      "metadata": {
        "id": "DVL8FSLyVSOV",
        "colab_type": "text"
      },
      "cell_type": "markdown",
      "source": [
        "##### Respecto al f1_score = (2 * (precision * recall) / (precision + recall)).  \"F-score is a simple formula to gather the scores of precision and recall. Imagine you want to predict labels for a binary classification task (positive or negative)\"\n",
        "\n",
        "##### Teniendo en cuenta la anterior definicion, observamos que en el modelo  1 (desbalanceado), a pesar de tener un alto accuracy para la regresion, el f1_score es 0, confirmando la poca confiabilidad que se puede tener en este modelo. "
      ]
    },
    {
      "metadata": {
        "id": "H3fIWmFRXxPZ",
        "colab_type": "code",
        "outputId": "d6389f28-ff9c-43d2-9c90-23e75041bbce",
        "colab": {
          "base_uri": "https://localhost:8080/",
          "height": 326
        }
      },
      "cell_type": "code",
      "source": [
        "for result in results: \n",
        "  print(result,'fbeta_score: {:.3f} '.format(fbeta_score(dfResult[result],dfResult['True'],beta=10)    ))"
      ],
      "execution_count": 45,
      "outputs": [
        {
          "output_type": "stream",
          "text": [
            "/usr/local/lib/python3.6/dist-packages/sklearn/metrics/classification.py:1145: UndefinedMetricWarning: F-score is ill-defined and being set to 0.0 due to no true samples.\n",
            "  'recall', 'true', average, warn_for)\n"
          ],
          "name": "stderr"
        },
        {
          "output_type": "stream",
          "text": [
            "LogisticRegr.1 fbeta_score: 0.000 \n",
            "DecisionTree.1 fbeta_score: 0.122 \n",
            "RandomForest.1 fbeta_score: 0.488 \n",
            "LogisticRegr.2 fbeta_score: 0.010 \n",
            "DecisionTree.2 fbeta_score: 0.011 \n",
            "RandomForest.2 fbeta_score: 0.019 \n",
            "LogisticRegr.3 fbeta_score: 0.011 \n",
            "DecisionTree.3 fbeta_score: 0.106 \n",
            "RandomForest.3 fbeta_score: 0.386 \n",
            "LogisticRegr.4 fbeta_score: 0.010 \n",
            "DecisionTree.4 fbeta_score: 0.067 \n",
            "RandomForest.4 fbeta_score: 0.274 \n",
            "LogisticRegr.5 fbeta_score: 0.008 \n",
            "DecisionTree.5 fbeta_score: 0.055 \n",
            "RandomForest.5 fbeta_score: 0.278 \n"
          ],
          "name": "stdout"
        }
      ]
    },
    {
      "metadata": {
        "id": "hmtNh9OXc2JU",
        "colab_type": "code",
        "outputId": "22bb2d3e-f2ab-42ea-cfdc-4ba6c13f52ab",
        "colab": {
          "base_uri": "https://localhost:8080/",
          "height": 379
        }
      },
      "cell_type": "code",
      "source": [
        "dfResult.head(10)"
      ],
      "execution_count": 46,
      "outputs": [
        {
          "output_type": "execute_result",
          "data": {
            "text/html": [
              "<div>\n",
              "<style scoped>\n",
              "    .dataframe tbody tr th:only-of-type {\n",
              "        vertical-align: middle;\n",
              "    }\n",
              "\n",
              "    .dataframe tbody tr th {\n",
              "        vertical-align: top;\n",
              "    }\n",
              "\n",
              "    .dataframe thead th {\n",
              "        text-align: right;\n",
              "    }\n",
              "</style>\n",
              "<table border=\"1\" class=\"dataframe\">\n",
              "  <thead>\n",
              "    <tr style=\"text-align: right;\">\n",
              "      <th></th>\n",
              "      <th>True</th>\n",
              "      <th>LogisticRegr.1</th>\n",
              "      <th>DecisionTree.1</th>\n",
              "      <th>RandomForest.1</th>\n",
              "      <th>LogisticRegr.2</th>\n",
              "      <th>DecisionTree.2</th>\n",
              "      <th>RandomForest.2</th>\n",
              "      <th>LogisticRegr.3</th>\n",
              "      <th>DecisionTree.3</th>\n",
              "      <th>RandomForest.3</th>\n",
              "      <th>LogisticRegr.4</th>\n",
              "      <th>DecisionTree.4</th>\n",
              "      <th>RandomForest.4</th>\n",
              "      <th>LogisticRegr.5</th>\n",
              "      <th>DecisionTree.5</th>\n",
              "      <th>RandomForest.5</th>\n",
              "    </tr>\n",
              "  </thead>\n",
              "  <tbody>\n",
              "    <tr>\n",
              "      <th>136269</th>\n",
              "      <td>0</td>\n",
              "      <td>0</td>\n",
              "      <td>0</td>\n",
              "      <td>0</td>\n",
              "      <td>1</td>\n",
              "      <td>1</td>\n",
              "      <td>1</td>\n",
              "      <td>1</td>\n",
              "      <td>0</td>\n",
              "      <td>0</td>\n",
              "      <td>1</td>\n",
              "      <td>1</td>\n",
              "      <td>1</td>\n",
              "      <td>1</td>\n",
              "      <td>1</td>\n",
              "      <td>1</td>\n",
              "    </tr>\n",
              "    <tr>\n",
              "      <th>45671</th>\n",
              "      <td>0</td>\n",
              "      <td>0</td>\n",
              "      <td>0</td>\n",
              "      <td>0</td>\n",
              "      <td>0</td>\n",
              "      <td>0</td>\n",
              "      <td>0</td>\n",
              "      <td>1</td>\n",
              "      <td>0</td>\n",
              "      <td>0</td>\n",
              "      <td>0</td>\n",
              "      <td>0</td>\n",
              "      <td>0</td>\n",
              "      <td>1</td>\n",
              "      <td>0</td>\n",
              "      <td>0</td>\n",
              "    </tr>\n",
              "    <tr>\n",
              "      <th>103047</th>\n",
              "      <td>0</td>\n",
              "      <td>0</td>\n",
              "      <td>0</td>\n",
              "      <td>0</td>\n",
              "      <td>1</td>\n",
              "      <td>1</td>\n",
              "      <td>0</td>\n",
              "      <td>1</td>\n",
              "      <td>0</td>\n",
              "      <td>0</td>\n",
              "      <td>1</td>\n",
              "      <td>0</td>\n",
              "      <td>0</td>\n",
              "      <td>1</td>\n",
              "      <td>0</td>\n",
              "      <td>0</td>\n",
              "    </tr>\n",
              "    <tr>\n",
              "      <th>31511</th>\n",
              "      <td>0</td>\n",
              "      <td>0</td>\n",
              "      <td>0</td>\n",
              "      <td>0</td>\n",
              "      <td>0</td>\n",
              "      <td>0</td>\n",
              "      <td>0</td>\n",
              "      <td>0</td>\n",
              "      <td>0</td>\n",
              "      <td>0</td>\n",
              "      <td>0</td>\n",
              "      <td>0</td>\n",
              "      <td>0</td>\n",
              "      <td>0</td>\n",
              "      <td>0</td>\n",
              "      <td>0</td>\n",
              "    </tr>\n",
              "    <tr>\n",
              "      <th>86154</th>\n",
              "      <td>1</td>\n",
              "      <td>0</td>\n",
              "      <td>0</td>\n",
              "      <td>0</td>\n",
              "      <td>1</td>\n",
              "      <td>1</td>\n",
              "      <td>1</td>\n",
              "      <td>0</td>\n",
              "      <td>0</td>\n",
              "      <td>0</td>\n",
              "      <td>1</td>\n",
              "      <td>0</td>\n",
              "      <td>0</td>\n",
              "      <td>1</td>\n",
              "      <td>0</td>\n",
              "      <td>0</td>\n",
              "    </tr>\n",
              "    <tr>\n",
              "      <th>46719</th>\n",
              "      <td>0</td>\n",
              "      <td>0</td>\n",
              "      <td>0</td>\n",
              "      <td>0</td>\n",
              "      <td>1</td>\n",
              "      <td>0</td>\n",
              "      <td>0</td>\n",
              "      <td>1</td>\n",
              "      <td>0</td>\n",
              "      <td>0</td>\n",
              "      <td>1</td>\n",
              "      <td>0</td>\n",
              "      <td>0</td>\n",
              "      <td>1</td>\n",
              "      <td>0</td>\n",
              "      <td>0</td>\n",
              "    </tr>\n",
              "    <tr>\n",
              "      <th>114358</th>\n",
              "      <td>0</td>\n",
              "      <td>0</td>\n",
              "      <td>0</td>\n",
              "      <td>0</td>\n",
              "      <td>0</td>\n",
              "      <td>0</td>\n",
              "      <td>1</td>\n",
              "      <td>0</td>\n",
              "      <td>0</td>\n",
              "      <td>0</td>\n",
              "      <td>0</td>\n",
              "      <td>1</td>\n",
              "      <td>0</td>\n",
              "      <td>0</td>\n",
              "      <td>0</td>\n",
              "      <td>0</td>\n",
              "    </tr>\n",
              "    <tr>\n",
              "      <th>123399</th>\n",
              "      <td>0</td>\n",
              "      <td>0</td>\n",
              "      <td>0</td>\n",
              "      <td>0</td>\n",
              "      <td>1</td>\n",
              "      <td>0</td>\n",
              "      <td>0</td>\n",
              "      <td>0</td>\n",
              "      <td>0</td>\n",
              "      <td>0</td>\n",
              "      <td>1</td>\n",
              "      <td>0</td>\n",
              "      <td>0</td>\n",
              "      <td>1</td>\n",
              "      <td>0</td>\n",
              "      <td>0</td>\n",
              "    </tr>\n",
              "    <tr>\n",
              "      <th>21729</th>\n",
              "      <td>0</td>\n",
              "      <td>0</td>\n",
              "      <td>0</td>\n",
              "      <td>0</td>\n",
              "      <td>1</td>\n",
              "      <td>0</td>\n",
              "      <td>1</td>\n",
              "      <td>0</td>\n",
              "      <td>0</td>\n",
              "      <td>0</td>\n",
              "      <td>1</td>\n",
              "      <td>0</td>\n",
              "      <td>0</td>\n",
              "      <td>1</td>\n",
              "      <td>0</td>\n",
              "      <td>0</td>\n",
              "    </tr>\n",
              "    <tr>\n",
              "      <th>91442</th>\n",
              "      <td>0</td>\n",
              "      <td>0</td>\n",
              "      <td>0</td>\n",
              "      <td>0</td>\n",
              "      <td>1</td>\n",
              "      <td>0</td>\n",
              "      <td>1</td>\n",
              "      <td>0</td>\n",
              "      <td>0</td>\n",
              "      <td>0</td>\n",
              "      <td>1</td>\n",
              "      <td>0</td>\n",
              "      <td>0</td>\n",
              "      <td>1</td>\n",
              "      <td>0</td>\n",
              "      <td>0</td>\n",
              "    </tr>\n",
              "  </tbody>\n",
              "</table>\n",
              "</div>"
            ],
            "text/plain": [
              "        True  LogisticRegr.1  DecisionTree.1  RandomForest.1  LogisticRegr.2  \\\n",
              "136269     0               0               0               0               1   \n",
              "45671      0               0               0               0               0   \n",
              "103047     0               0               0               0               1   \n",
              "31511      0               0               0               0               0   \n",
              "86154      1               0               0               0               1   \n",
              "46719      0               0               0               0               1   \n",
              "114358     0               0               0               0               0   \n",
              "123399     0               0               0               0               1   \n",
              "21729      0               0               0               0               1   \n",
              "91442      0               0               0               0               1   \n",
              "\n",
              "        DecisionTree.2  RandomForest.2  LogisticRegr.3  DecisionTree.3  \\\n",
              "136269               1               1               1               0   \n",
              "45671                0               0               1               0   \n",
              "103047               1               0               1               0   \n",
              "31511                0               0               0               0   \n",
              "86154                1               1               0               0   \n",
              "46719                0               0               1               0   \n",
              "114358               0               1               0               0   \n",
              "123399               0               0               0               0   \n",
              "21729                0               1               0               0   \n",
              "91442                0               1               0               0   \n",
              "\n",
              "        RandomForest.3  LogisticRegr.4  DecisionTree.4  RandomForest.4  \\\n",
              "136269               0               1               1               1   \n",
              "45671                0               0               0               0   \n",
              "103047               0               1               0               0   \n",
              "31511                0               0               0               0   \n",
              "86154                0               1               0               0   \n",
              "46719                0               1               0               0   \n",
              "114358               0               0               1               0   \n",
              "123399               0               1               0               0   \n",
              "21729                0               1               0               0   \n",
              "91442                0               1               0               0   \n",
              "\n",
              "        LogisticRegr.5  DecisionTree.5  RandomForest.5  \n",
              "136269               1               1               1  \n",
              "45671                1               0               0  \n",
              "103047               1               0               0  \n",
              "31511                0               0               0  \n",
              "86154                1               0               0  \n",
              "46719                1               0               0  \n",
              "114358               0               0               0  \n",
              "123399               1               0               0  \n",
              "21729                1               0               0  \n",
              "91442                1               0               0  "
            ]
          },
          "metadata": {
            "tags": []
          },
          "execution_count": 46
        }
      ]
    }
  ]
}